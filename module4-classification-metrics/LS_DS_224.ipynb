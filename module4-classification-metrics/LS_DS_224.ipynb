{
  "nbformat": 4,
  "nbformat_minor": 0,
  "metadata": {
    "kernelspec": {
      "display_name": "Python 3",
      "language": "python",
      "name": "python3"
    },
    "language_info": {
      "codemirror_mode": {
        "name": "ipython",
        "version": 3
      },
      "file_extension": ".py",
      "mimetype": "text/x-python",
      "name": "python",
      "nbconvert_exporter": "python",
      "pygments_lexer": "ipython3",
      "version": "3.7.6"
    },
    "colab": {
      "name": "LS_DS_224.ipynb",
      "provenance": []
    },
    "widgets": {
      "application/vnd.jupyter.widget-state+json": {
        "991f9a8100e6404b993f577234bda46f": {
          "model_module": "@jupyter-widgets/controls",
          "model_name": "VBoxModel",
          "state": {
            "_view_name": "VBoxView",
            "_dom_classes": [
              "widget-interact"
            ],
            "_model_name": "VBoxModel",
            "_view_module": "@jupyter-widgets/controls",
            "_model_module_version": "1.5.0",
            "_view_count": null,
            "_view_module_version": "1.5.0",
            "box_style": "",
            "layout": "IPY_MODEL_c7219a6493224c94b29d81395fef7535",
            "_model_module": "@jupyter-widgets/controls",
            "children": [
              "IPY_MODEL_4d70a267d86b4c77a0303a4e3e232a70",
              "IPY_MODEL_898f46ab832845ba94baeac473d3c148"
            ]
          }
        },
        "c7219a6493224c94b29d81395fef7535": {
          "model_module": "@jupyter-widgets/base",
          "model_name": "LayoutModel",
          "state": {
            "_view_name": "LayoutView",
            "grid_template_rows": null,
            "right": null,
            "justify_content": null,
            "_view_module": "@jupyter-widgets/base",
            "overflow": null,
            "_model_module_version": "1.2.0",
            "_view_count": null,
            "flex_flow": null,
            "width": null,
            "min_width": null,
            "border": null,
            "align_items": null,
            "bottom": null,
            "_model_module": "@jupyter-widgets/base",
            "top": null,
            "grid_column": null,
            "overflow_y": null,
            "overflow_x": null,
            "grid_auto_flow": null,
            "grid_area": null,
            "grid_template_columns": null,
            "flex": null,
            "_model_name": "LayoutModel",
            "justify_items": null,
            "grid_row": null,
            "max_height": null,
            "align_content": null,
            "visibility": null,
            "align_self": null,
            "height": null,
            "min_height": null,
            "padding": null,
            "grid_auto_rows": null,
            "grid_gap": null,
            "max_width": null,
            "order": null,
            "_view_module_version": "1.2.0",
            "grid_template_areas": null,
            "object_position": null,
            "object_fit": null,
            "grid_auto_columns": null,
            "margin": null,
            "display": null,
            "left": null
          }
        },
        "4d70a267d86b4c77a0303a4e3e232a70": {
          "model_module": "@jupyter-widgets/controls",
          "model_name": "FloatSliderModel",
          "state": {
            "_view_name": "FloatSliderView",
            "style": "IPY_MODEL_206ecc0d24db4dba9742206d04e0c3cd",
            "_dom_classes": [],
            "description": "thres",
            "step": 0.1,
            "_model_name": "FloatSliderModel",
            "orientation": "horizontal",
            "max": 1,
            "_view_module": "@jupyter-widgets/controls",
            "_model_module_version": "1.5.0",
            "value": 0.5,
            "_view_count": null,
            "disabled": false,
            "_view_module_version": "1.5.0",
            "min": 0,
            "continuous_update": true,
            "readout_format": ".2f",
            "description_tooltip": null,
            "readout": true,
            "_model_module": "@jupyter-widgets/controls",
            "layout": "IPY_MODEL_4b67f6131b2a4c67b24172b0e0c87cf5"
          }
        },
        "898f46ab832845ba94baeac473d3c148": {
          "model_module": "@jupyter-widgets/output",
          "model_name": "OutputModel",
          "state": {
            "_view_name": "OutputView",
            "msg_id": "",
            "_dom_classes": [],
            "_model_name": "OutputModel",
            "outputs": [
              {
                "output_type": "stream",
                "metadata": {
                  "tags": []
                },
                "text": "              precision    recall  f1-score   support\n\n       False       0.82      0.87      0.84      7798\n        True       0.84      0.77      0.80      6560\n\n    accuracy                           0.83     14358\n   macro avg       0.83      0.82      0.82     14358\nweighted avg       0.83      0.83      0.82     14358\n\n[[6821  977]\n [1528 5032]]\n",
                "stream": "stdout"
              },
              {
                "output_type": "display_data",
                "metadata": {
                  "tags": [],
                  "needs_background": "light"
                },
                "image/png": "iVBORw0KGgoAAAANSUhEUgAAAXgAAAD4CAYAAADmWv3KAAAABHNCSVQICAgIfAhkiAAAAAlwSFlzAAALEgAACxIB0t1+/AAAADh0RVh0U29mdHdhcmUAbWF0cGxvdGxpYiB2ZXJzaW9uMy4yLjEsIGh0dHA6Ly9tYXRwbG90bGliLm9yZy+j8jraAAAgAElEQVR4nO3deXydZZ338c/vZN/3JmmSZuu+l+6lUJQCBZGCoqAiqCji8ozjzDhu8/Lx0WfmcXTGAcWNARQcQQUBC6IshdJ9Sbe0TZsmaZql2fd9O+d6/shBY02ak+Qk9zn3+b1fr756knOT821Ivrly3dd93WKMQSmllP04rA6glFJqemjBK6WUTWnBK6WUTWnBK6WUTWnBK6WUTQVb9cLJyckmJyfHqpdXamzFxcN/L1hgbQ6lRnH06NEmY0yKJ8daVvA5OTkUFBRY9fJKje2664b/3rXLyhRKjUpEKjw9VqdolFLKprTglVLKprTglVLKprTglVLKprTglVLKprTglVLKprTglVLKprTglVLKprTglVLKpiy7klUppabi6UOVEzr+w+vnTFMS36UjeKWUsikteKWUsikteKWUsikteKWUsikteKWUsikteKWUsikteKWUsikteKWUsikteKWUsikteKWUsikteKWUsikteKWUsikteKWUsikteKWUsikteKWUsqlxC15EskTkLREpEpEzIvKFUY4REfmBiJSKSKGIXDU9cZVSSnnKkxt+DAH/aIw5JiIxwFERed0YUzTimJuBee4/64GfuP9WSillkXFH8MaYWmPMMffjTuAskHHZYduBp8ywg0C8iKR7Pa1SSimPTWgOXkRygFXAocueygCqRrxdzd/+EEBEHhCRAhEpaGxsnFhSpZRSE+JxwYtINPA74O+NMR2TeTFjzKPGmDXGmDUpKSmT+RBKKaU85FHBi0gIw+X+K2PM86MccgnIGvF2pvt9SimlLOLJKhoBHgfOGmO+P8ZhO4B73atpNgDtxphaL+ZUSik1QZ6sorka+ChwSkROuN/3NWAOgDHmp8ArwC1AKdADfNz7UZVSSk3EuAVvjNkLyDjHGOBz3gqllFJq6vRKVqWUsikteKWUsikteKWUsikteKWUsikteKWUsikteKWUsikteKWUsikteKWUsikteKWUsikteKWUsikteKWUsikteKWUsikteKWUsikteKWUsikteKWUsikteKWUsikteKWUsikteKWUsikteKWUsikteKWUsikteKWUsikteKWUsikteKWUsikteKWUsikteKWUsikteKWUsikteKWUsikteKWUsikteKWUsikteKWUsikteKWUsikteKWUsqlgqwPYwdOHKj0+9sPr50xjEqWU+gsdwSullE1pwSullE1pwSullE1pwSullE1pwSullE2NW/Ai8oSINIjI6TGev05E2kXkhPvPN7wfUyml1ER5skzyF8AjwFNXOGaPMeZWryRSSinlFeOO4I0xu4GWGciilFLKi7w1B79RRE6KyB9FZMlYB4nIAyJSICIFjY2NXnpppZRSo/FGwR8Dso0xK4AfAi+OdaAx5lFjzBpjzJqUlBQvvLRSSqmxTLngjTEdxpgu9+NXgBARSZ5yMqWUUlMy5YIXkTQREffjde6P2TzVj6uUUmpqxl1FIyLPANcBySJSDfxvIATAGPNT4E7gMyIyBPQCdxtjzLQlVkop5ZFxC94Y86Fxnn+E4WWUSimlfIheyaqUUjalBa+UUjalBa+UUjalBa+UUjalBa+UUjalBa+UUjalBa+UUjalBa+UUjblyX7wyiJPH6r0+NgPr58zjUmUUv5IR/BKKWVTWvBKKWVTWvBKKWVTWvBKKWVTWvBKKWVTWvBKKWVTukzSJnRJpVLqcjqCV0opm9KCV0opm9IpGj/iMobOviFaugfo7Btk0GkYcrkIdgghQQ4iQoOIDQ8hPiKEsJAgq+MqpSymBe/jmrv6OVPTwYWmLiqae+gfcnn03yVEhpAWG05aXDhpcRFkxEeQEBmCiExzYqUmbyLnktT4tOB9kMtlePlULY/uLuNicw8AKTFhrMiKJy02nMSoUGIjQggNchAcJDidhgGni+6BITp7h2jtGaCuo4+69j6K6ztxmeGPGxcRQl5yFCFBwsb8JDITIi38Vyo1ef2DTs7WddLdP8SanATCgvU31tFowfuYPSWN/L9XzlFU20FSVCg3Lk5l1ZwE4iJCJvXxBp0uGjr7qWrp4UJjF8X1nXzpuUIA8lKiuHFxGjcuSWVlZjwOh47ulW9zugw7Tl7ieGUbQ+6Ry97SJm5Zls7S2bH6G+pltOB9RN+gk//z0hmeOVxFZkIED921kq7+IRxT/IINCXKQET88RbMhLwmXMazJSWB/aTNvnmvgsT0X+OnbZaTEhHHD4lRuXZ7OhtykSZX9RH+91uWaaiKMMbx44hJHK1pZm5PIqqx4AF4qrOGZw5W8Z1k6V89Ntjilb9GC9wEXGrv47K+Oca6ukwe35PPFG+YRFhw0LfORDhEWpsWyMC2WT2zOpb1nkLeKG3i9qJ4Xj1/i6UOVzI4LZ/uqDN63KoN5qTFez6DUZLxxtp6jFa28e+Esti5K/fP7P/euufzyQAWvF9WzZHYs8ZGhFqb0LVrwM+zy0q7v6OPxveW4jOFjm3KYkxjJ745emrE8cZEh3L4qg9tXZdA74OS1ojpeOH6JR3df4Ce7yliaEcsdqzK5bcVsUmLCZiyXUiMV1bTzVnEja7ITuH7hrL96ziHCbStm89DO87xcWMs9G7ItSul7tOAt9E65C/DAtXnMigm3NE9EaBDbV2awfWUGjZ397DhZwwvHq/n2y0X82ytn2TI/hbvWZvHuhbMICdJLKNTMGHS6ePlULWmx4WxfmTHqPHtCVCjvXpjKq2fqOFvbwaL0WAuS+h4teIt09A7yhLvc778m1/Jyv1xKTBj3b84lIiSI+o4+TlS1ceRiC2+eayA6LJhVc+JZk52oo3o17XaXNNLWM8gnN2cSdIVzQ5vnJnO8spU/na5jYVqMnnBFC94STpfh10cq6Rty8pnr5vpcuV8uNTacm5aksXVRKufrOymoaGVfaRN7SprITopkbXYiSzPiCA3WUb3yrtaeAd4ubmRZRhx5KdFXPDbIIWyem8zzxy9R2dJDdlLUDKX0XVrwFnjjbD0Xm3v4wOpM0mJ9u9xHCnIIi9JjWZQeS2ffIMcq2yi42MJzx6p5qbCG5ZnxrM1JICM+QkdPyiteL6pHBG5emubR8csy4nipsIajFa1a8GjBz7iShk7ePt84vMxrToLVcSYtJjyELfNTuHZeMhebeyi42MKJqlaOXGwhLTacNTkJrMyMJzJMv8TU5LT1DFBY3cam/GSPV8aEhQSxLCOewkvt3Lp8dsD/VqnffTNoyOVix4kakqNDuXV5utVxvEJEyE2OIjc5ivcOzuZkdRsFF1t5ubCWP56uY8nsWNZkJ5KXEjXlNf0qsBy40IwxsDE/aUL/3ersBI5VtnK6pp2r/HgQ5Q1a8DNof2kzzd0DfGxTji1XoYSHBLE+N4n1uUnUtvdSUNHKico2CqvbSYgMYXV2AmtzEokJn9xVuSpw9A85OXKxhSUZcSRMcF17TlIkSVGhHK1o1YK3OkCg6Ogd5M3iBhamxTA/AC4eSo+L4L3LI9i2JI2i2g4KLrbwxtkG3ipuZFVWPFfPTdablKgxHatopW/QxeYJjt5h+LfK1dkJvFZUT2v3AAlRgXvhkxb8DHmtqA6ny/CeZfaYmvFUSJCDFZnxrMiMp7mrn72lTRyrbKWgopUFqTFcMy+Z3OQoPSmr/sxlDPvLmslKiGDOJE+ULs2I47Wies7Vd7Ixb+I/JOzCfvMEPqile4DjlW1szEsiKTpw140nRYexfWUG/3zTQq5fNIvq1h4e21vOY3vLqWjutjqe8hHnajtp7h6Y0r4yydFhJEaFUlLf6cVk/kdH8DNgT0kjDvcaXQVRYcFcvzCVa+elcORiC7uKG/nZ7gvMT43mhsVpZMRHWB1RWWhfWRPxESEsmR03pY8zPzWaoxWtDDpdtjzn5YnA/FfPoM6+QY5WtLIqK57YSW75a1chQQ425SfzTzcu4KYlaVS19PKjt0p5+lAFLd0DVsdTFqhp66W8qZuN+UlXvGrVE/NTYxh0Gi4G8G+HOoKfZgfKmnG6DNfOS7E6yp/52l1zQoMdbJmfwvrcRPaWNrG3pIlzdefZPC+Z6+bPCvi1zIFkX2kTocEO1uYkTvlj5SVHE+QQSuq7mDfL/gsbRjPud46IPCEiDSJyeoznRUR+ICKlIlIoIld5P6Z/6h90crC8mcWzY0nWPVvGFR4SxNZFqXzxhvkszYhjV3Ej33+9mBNVbRhjrI6npll9Rx+F1e2szk4g3Av3FA4NdpCbHEVxAM/DezI0+gWw7QrP3wzMc/95APjJ1GPZQ2F1O32DLq7xodG7P4iLCOGDa7L49LV5xISH8NuCKu762UFKGwL3GzUQPHXgIi5j2OTFVS/zZ0XT2NlPa09gTvmNW/DGmN1AyxUO2Q48ZYYdBOJFJLDWAo6hoKKFWTFhZCXoScPJyE6K4jPX5XPHqgyK6zu55eG9PPTGefqHnFZHU17WO+DkV4cqWZQe69WVZu9cc3I+QEfx3pjczACqRrxd7X7f3xCRB0SkQEQKGhsbvfDSvqu+o4+q1l7WZCfoGu8pcIiwNieRnf+4hZuXpfHQGyXc8vAeDpdfacyh/M3zx6tp6xn0+i33UmLCiIsIoawxME+0zujZK2PMo8aYNcaYNSkp9p62OFbRikNgZYBfKu0tydFhPHz3Kn7x8bX0D7n44M8O8NXnT9HeO2h1NDVFLpfhib3lLMuIIycp0qsfW0TISYqkork7IM/jeKPgLwFZI97OdL8vYDldhmNVbSxMiyVad1P0qusWzOK1L17Lp67J5TdHKtn6/bf5Q2FtQH7z2sXb5xspa+zm/s250/LbbnZSFJ19Q1S19Hr9Y/s6bxT8DuBe92qaDUC7MabWCx/XbxXXddLdP8SabB29T4fI0GC+/p7F7Pj8ZlJjw/jc08f41FMF1LQF3jewHTy+t5y02HBumaZtPHKSh7c7OHwx8Kb1PFkm+QxwAFggItUicr+IPCgiD7oPeQW4AJQC/w18dtrS+onjVa1EhwUzLwA2FbPS0ow4Xvzs1Xz9lkXsK23mhu+/zZP7L+J06WjeX5yr62BvaRP3bsqetusdZsWEER7ioCAAC37c+QNjzIfGed4An/NaIj83MOTifH0nV81JmPKVeGp8wUEOPnVtHtuWpvG1F07xv3ec4cUTl/jO+5azIE1/wPq6J/aWExESxIfXTd9uoQ4RshOjOBKABa+XCHrZ+fpOBp2GpRlT20dDTUxWYiRPfWId/3XXCiqae3jPD/bwH68W0zeoSyp9VWNnPy8er+H9qzM8vmPTZOUkRVLW2E1zV/+0vo6v0TOAXna6pp3I0CBy9H6QM05EuGNVJk2dA7xyqpZH3irl10cquX1VBnnJo9+wWfeZt87/HKxgwOniE1fnTvtrvTMPX1DRyk1LPLu/qx3oCN6LBp0uius6WZweq9MzFooKC+YDa7L4+KYcnC7DY3vKeeF4Nb0DOpr3FX2DTv7nYAXXL5xFXsroP3y9KSM+gtDgwJuH14L3otKGLvqHXDo94yPmpcbwhevnc83cZAoutvJfb5znpO5r4xNeOH6J5u4B7t88/aN3GD5XsyIzjiMXW2fk9XyFFrwXnalpJzzEQV6KTs/4itBgBzcvS+dz75pLfGQIvymo4uf7LwbcXKwvcboMP3u7jOWZcRO+ofZUrMlJ5PSl9oA6L6Nz8F7idBnO1nayKC2WYIf+3PQ1s+MjeHBLPofKW3jtTB0P7yzhugUpDDldBF92M4jrO4bLf+dl2yrrfL13/Ol0HRebe/jJR66a0W08VmTGM+QyFNV2BMzNuLWJvKSypYfeQSeL0mOtjqLG4BBhY14SX9w6n0XpsbxxtoEfvFlKWWOX1dEChjGGH+8qJS8lasZPdq7MigfgZFXbjL6ulbTgveR8fScOgbmzpv+EkZqa2IgQPrRuDh/blIPLGB7fW86zBVV09Q9ZHc329pQ0caamgwevzccxwwsR0uLCmRUTRmF1+4y+rpV0isZLztd3kp0U5ZUbFaiZMT81hi9cP4+3ihvYc76Jc3WdbFuaxvUYQFdBeZsxhkfeLCUtNpztq2ZbkmFFVnxAjeC14L2gvXeQ2vY+tgXQ+tqZNl23GQwJcnDj4jRWZMbz+xOXeOH4Je5t7yPZi3uSq2G7S5o4fLGFb29fQliwNQOhFZlxvF5UT3vvIHEBcI9knaLxghL3zQTm66Xxfis1NpxPXZPH+6/KYNDp4lJrD68V1THkdFkdzRaMMfzna8VkxEdw11rrTlavcM/DnwqQaRoteC8oru8kLiKEVL3vql8TEVZnJ5KZEEl0WDC7ihv58a4y3aXSC14rqqewup0vbJ1n6U3Ul2e4T7RWB8Y0jRb8FA0MuSht6GJ+aozeuckmgkRIiQnnoxuy6e4f4se7Stl5tp5BHc1PitNl+P5r58lLjuJ9q0a92duMiYsMITc5ikIteOWJoxWt9A+5WKBbA9vOovRYvrB1Hssy4th5roHbf7SPc3UdVsfyO78tqKK4vpN/uHH+31xzYIXlmXGcrAqMKRo9yTpFe0sbcQjk69WrthQZGsxda+ewZHY7r56p470/3Mvfb53Pp6/N84my8nXtPYN8++UicpIiae8ZnLaT5RMxfEK9hvqOPlJjw62OM6204KdoX2kzmQmRhOnySFtbmhFHTnIUO07W8L1Xi3nmcCUfWJ1FyhjnXfSq12EP7TxP74CTW5fP9pkpzBVZw3tFnaxq40abr3zTIcgUdPQNUljdpqP3ABEdFsyH183h7rVZNHcN8MhbJRwoa8Klm5eNqqS+k6cOVLA2J5HZ8RFWx/mzxelxBDkkIC540hH8FBwpb8FlIH8GtjtVvmN5Zjw5SVE8f7yalwprOVvXyfuvygyIddWecroMX/5dIdFhwdywONXqOH8lIjSIBakxAbGSRkfwU7CvtJmwYAdZiZFWR1EzLDYihPs25rB95Wwqmrt5eOd5TuhWxH/2833lHKts45u3LSYqzPfGkSuy4gJi62gt+CnYX9bEmpwEQvRkW0ASEdbnJvF3757HrJhwfltQxTNHqugJ8D1tLjR28b1Xi9m6KJXbV1q7LHIsKzLj6egb4mJzj9VRppU20yQ1d/Vzrq6TTfnJVkdRFkuKDuOBa/O4aXEqZ2s6eGhnCS8X1th+dDiaQaeLf3r2JGHBDv7tjqU+c2L1csszhy94svt6eC34STp4YfjWX5tm8IYFync5RNiyYBaffVc+cREhfP7p49z/ZAHVrfYeIV7uu386x7HKNv71jmXM8uEliPNTowkPcXDC5huPacFP0r6yJmLCglmmt+dTI6THRfCZ6/L5xq2LOXihmRv/azeP7y3H6bL/aP5Pp+v47z3lfHRDNu9dYc1ukZ4KDnKwdHac7VfSaMFP0oGyZtbnJerFLupvOET4xOZcXv+HLWzIS+LbLxdx6w/3srekyepo0+ZCYxdfeu4kyzPj+JdbF1kdxyMrsuI5U9Nu6y0ofO/0th+oaeulvKmbezZkWx1F+bCM+Agev28Nfzxdx7+9cpZ7Hj/ElvkpfO2WRSzw851HR16R2tU/xE/fLsPpMty0OI3fHb1kYTLPLc+M4/G9Ls7Xd7Jktj1/E9fh5yTsL2sGdP5djU9EuGVZOjv/cQtfv2URxytbufnh3Xz5uUJq2/1/l8qBIRdPHbhIZ98g923MISEq1OpIHlvx5xOt9p2m0RH8JOwvayIxKlQ3GFMeCwsO4lPX5nHn6kx++GYpvzx4keePV3Pn6kxmx0WQNIEbjPjKNgiDThdPH67gUmsvH1mf7XfXg2QnRRIXEcLJqjY+tM43PqfepgU/QcYYDpQ1szE/acbvKan8X0JUKN9472I+fnUOP9tdxm8LqhkccrEiK54t81P8ZvOrQaeLXx2q4Hx9F3esymDxbP+72byIsDwzztYraXSKZoLKm7qpbe/T6Rk1JVmJkfzf25ex95/fxdVzkymq6eDhnSX8Yn85JfWdPr2Gvrt/iF8erKCkvov3rcpgbU6i1ZEmbWVWPCUNXfQM2PPiNB3BT9Bf5t/1Aic1dbNiw7llWTrXzU/hQHkzhy608PP9F0mJCWNTfhKrshIsvQPS5era+/jEL45wobGL912VyersBKsjTcmKzHicLsOZmg6//kE1Fi34CTpQ1szsuHBykvxrvlH5tsiwYK5fmMqWeSmcutTO/rJmfn+ihlfP1LE2J5GNeUnER1p7ArOwuo0HnjpKV/8Q927MYb4NzkEtH7F1sBZ8gHO5DPvLmnj3wlSfvQRb+bfgIAer5iSwMiueypYe9pU1s6+0ib0lTSyZHcum/GSMMTP69WeM4fG95fz7n84xKyacZx/cyPFKe8xbz4oJZ3ZcOCdtupJGC34CztV10tozqPPvatqJCNlJUWQnRdHWM8DBC80cudjK6ZoO9pU1cc+GbG5bMXvad2qsaunhX148zdvnG7lxcSrfvXM58ZGhtil4GL7g6aRNT7RqwU/A/rLhKxE3zdWCVzMnPjKUbUvTeffCVI5XtXLoQgtfff4U39xxhpVZ8azPTSItbvTVN5NdUtk36OSJfeX8YGcJDhG+tX0JH92QbcvfXFdkxfPH03W0dg/41Tp+T2jBT8CBsmbykqNIj/Odu9OowBEa7GB9bhLrchKpbOnhcHkLRytaOVTeQlZCBCvnJLA8I25Ko/q+QSfPHK7kJ7vKaOjsZ9uSNL7x3sU+dUcmb3vngqeT1W1ct2CWxWm8SwveQ0NOF4fKW9i+0rc3UVL2N3L65j3L0jlW2cqxyjZeOlnDHwpryEmKYlF6LPkp0bhcZtzrNfqHnByraOP3Jy7xh8JaOvuHWJ+byEN3rwyI1WLLMuMQgZNV7VrwgarwUjtd/UMB8QWv/EdkWDCb56WweV4Kte29nKpup6i2gz+cqgXg5/vLWTI7luzEKDISIggPcRDscNDRN0h9Rx9lDd2cqG5jYMhFZGgQNy9N5+51WbZcUTKW6LBg5qZE23JveC14Dx1wr3/fqCdYlQdGbsY1U9LjIkiPi+DGJWm0dA9Q0dxNSLCDc7UdvFncQGNn/18dnxwdRlZiBPduyGZtbiKb5yb75O31ZsKKrHh2FTfM+Aql6ebR/00R2QY8DAQBjxljvnPZ8x8Dvge8s43cI8aYx7yY03L7SptYlB5Los1Owih7SowKJTEq9K9Osg4MuRh0uhhyGiJCg3zqAiqrrciM47mj1VS39vrdnjpXMu7/YREJAn4E3AwsBj4kIotHOfQ3xpiV7j+2Kve+QScFFa26PFL5tdBgB1FhwcRFhmi5X2bVnOErco/bbLmkJyP4dUCpMeYCgIj8GtgOFE1nMF9yrLKVgSEXV+vySOVnJjJV5Cu7VFphYVoMESFBHKto5TYfvxvVRHjyYzwDqBrxdrX7fZd7v4gUishzIpI12gcSkQdEpEBEChobGycR1xr7S5sJckhAnXhSKpAEBzlYmRXP0YpWq6N4lbd+T3sJyDHGLAdeB54c7SBjzKPGmDXGmDUpKSleeunpt6e0iRWZccSEh1gdRSk1TVZnJ1BU22GrnSU9KfhLwMgReSZ/OZkKgDGm2Rjzzin6x4DV3olnvfaeQU5Vt7F5nv/8QFJKTdzq7AScLsPJKvvsS+NJwR8B5olIroiEAncDO0YeICLpI968DTjrvYjW2l/WhMvANfN0/btSdrZqzvAVrccq7TNNM+5JVmPMkIh8HniV4WWSTxhjzojIt4ACY8wO4O9E5DZgCGgBPjaNmWfUntImosOCWZkVb3UUpaaVFWv3fUl8ZChzZ0Xbah7eo3XwxphXgFcue983Rjz+KvBV70bzDXtLmtiQl0hIkC4rU8ruVs9J4NWiOo+2ePAH2lpXUNncQ2VLD5vn6vSMUoFgdXYCbT2DXGjqtjqKV2jBX8Ge0uGlnHqCVanAcJX7FoTHbDJNowV/BXtLmkiPCyc/JcrqKEqpGZCXHEV8ZAiHylusjuIVWvBjGHK62F/WzOa5ybbafEgpNTaHQ9iQm8TBC80YY6yOM2Va8GM4XtVGe++g7faHVkpd2aa5SVxq66WqpdfqKFOmBT+GnWcbCHYI18zXE6xKBZJ3NhV85xad/kwLfgxvnqtnXW4isbo9gVIBJT8lmpSYMPa77wHhz7TgR1HV0sP5+i7evVCnZ5QKNCLCpvwk9pf5/zy8Fvwo3ipuANCCVypAbcpPoqmrn7LGLqujTIkW/Ch2nm0gNzmKvJRoq6MopSzwzr2X/X2aRgv+Mt39Qxwoa9bRu1IBLCsxksyECPaXasHbyt7SJgacLq7XglcqoG3KT+LAhWaGnC6ro0yaFvxlXjlVS3xkCGtz9e5NSgWy6xbMor13kGOV/nufVi34EfoGnbxRVM+2JWm6e6RSAe7a+SmEBjl4vajO6iiTpi02wq7iBroHnNy63D433VVKTU50WDAb85N4vajeb5dLasGP8FJhLUlRoWzI0+kZpRRsXZzKxeYev10uqQXv1jMwxJtnG7h5WRrBOj2jlAK2LhpebPF6UYPFSSZHm8xt59kGegedvGeZTs8opYalx0WwLCPOb+fhteDdXjpZQ0pMGOt09YxSaoSti1I5XtVGY2e/1VEmTAseaOjo481zDdy+cjZBNrgPo1LKe25YnIox8OoZ/xvFa8EDvy2oYshl+PD6bKujKKV8zKL0GBakxvDs0Wqro0xYwBe802V45nAVm+cmk5ust+ZTSv01EeEDazI5WdXG+fpOq+NMSMAX/K7iBi619fKR9XOsjqKU8lF3rMog2CE8W1BldZQJCfiC/9WhSlJiwti6ONXqKEopH5UUHcbWRak8f+wSg360N01AF3xFczdvFTdw99os3ZpAKXVFH1iTSXP3AG+e85818QHdaj98s5TQIAf3bNCTq0qpK9syP4WUmDCeOVxpdRSPBWzBlzd18/yxau7ZkE1qbLjVcZRSPi44yMF9G7PZVdzIqckVbmcAAAhhSURBVOp2q+N4JGAL/gc7SwgNdvDglnyroyil/MR9m3KIiwjh4Z3nrY7ikYAs+NKGTn5/4hL3bcwhJSbM6jhKKT8REx7CJzfn8sbZBr8YxQdcwRtj+PbLZ4kICeLTOnpXSk3QfVf7zyg+4Ar+2aPVvH2+kS/dtIDEqFCr4yil/EzsiFH8/rImq+NcUUAVfG17L99+qYh1uYncuzHH6jhKKT/1yWvyyE2O4kvPFtLZN2h1nDEFTME7XYYv/+4UQy7D9+5cjkM3FVNKTVJEaBD/8YEVw4PGl4usjjOmgCh4Ywzf+P1pdp9v5F9uXUR2ku45o5SamtXZCXx6Sz6/LajmT6d9c6fJgCj4h3eW8KtDlTy4JZ+P6I6RSikv+fut81ieGcff/fo4e0t8bz7e1gXvdBm++6dzPPRGCe+/KpMvb1tgdSSllI2EBQfx5MfXkZccxSefOsLBC81WR/orti34pq5+Pvr4IX68q4y712bxnfcvQ0Tn3ZVS3pUQFcr/fHI9WQmR3PvEYf579wWcLmN1LACCrQ7gbV39Q/x8bzmP7rnAwJCL7965nA+uybI6llLKxpKjw/j1Axv4yvOn+NdXzvJ6UT1fvWUhq+YkWJrLo4IXkW3Aw0AQ8Jgx5juXPR8GPAWsBpqBu4wxF70bdWzd/UMcLm/hj6drefVMPe29g9y4OJUv3bSAeakxMxVDKRXAkqLDePSjq/ndsUt866Uz3PHj/azMiueDa7LYlJ9EdlLkjM8ijFvwIhIE/Ai4AagGjojIDmPMyLVB9wOtxpi5InI38O/AXdMR+ExNO88fu0RrzwCt3QNcaOqmorkHgJiwYK5fNIuPX53Liqz46Xh5pZQak4hw5+pMti1N43dHq3ly/0W+9sIpAFJiwshJiiQzIZKblqSxbWnatOfxZAS/Dig1xlwAEJFfA9uBkQW/Hfim+/FzwCMiIsYYr09EVbX08szhShIiQ4mPDGHJ7FjuvCqTZZlxbMxPIiw4yNsvqZRSExIdFsx9m3K4d2M2F5q6OVDWzLHKVqpbezlc3kJ+ShTgGwWfAYy8T1U1sH6sY4wxQyLSDiQBf7VuSEQeAB5wv9klIsUjnk6+/Hg/4q/Z/TU3zET26btPgH7eLfARH8q+H/hfnh9+eW6PvzBn9CSrMeZR4NHRnhORAmPMmpnM4y3+mt1fc4Nmt4pmn3lTye3JMslLwMhlKJnu9416jIgEA3EMn2xVSillEU8K/ggwT0RyRSQUuBvYcdkxO4D73I/vBN6cjvl3pZRSnht3isY9p/554FWGl0k+YYw5IyLfAgqMMTuAx4Ffikgp0MLwD4GJGnXqxk/4a3Z/zQ2a3SqafeZNOrfoQFsppezJtlsVKKVUoNOCV0opm7Ks4EUkUUReF5ES999/s2mDiKwUkQMickZECkVkWq6O9YSIbBORYhEpFZGvjPJ8mIj8xv38IRHJmfmUo/Mg+z+ISJH7c7xTRHxmT+Xxso847v0iYkTEZ5bBeZJdRD7o/tyfEZGnZzrjaDz4epkjIm+JyHH318wtVuQcjYg8ISINInJ6jOdFRH7g/rcVishVM51xNB7k/og77ykR2S8iKzz6wMYYS/4A3wW+4n78FeDfRzlmPjDP/Xg2UAvEW5A1CCgD8oBQ4CSw+LJjPgv81P34buA3Vn1uJ5H9XUCk+/Fn/Cm7+7gYYDdwEFhjde4JfN7nAceBBPfbs/wk96PAZ9yPFwMXrc49Itu1wFXA6TGevwX4IyDABuCQ1Zk9zL1pxNfJzZ7mtnKKZjvwpPvxk8Dtlx9gjDlvjClxP64BGoCUGUv4F3/ersEYMwC8s13DSCP/Pc8B14tv7E88bnZjzFvGmB73mwcZvtbBF3jyeQf4NsP7H/XNZLhxeJL9U8CPjDGtAMaYhhnOOBpPchsg1v04DqiZwXxXZIzZzfBKvrFsB54yww4C8SKSPjPpxjZebmPM/ne+TpjA96iVBZ9qjKl1P64DUq90sIisY3hEUTbdwUYx2nYNGWMdY4wZAt7ZrsFqnmQf6X6GRzi+YNzs7l+xs4wxf5jJYB7w5PM+H5gvIvtE5KB711areZL7m8A9IlINvMKErrq33ES/H3yRx9+j07pVgYi8weg76nx95BvGGCMiY67XdP+E/SVwnzHG5d2U6h0icg+wBthidRZPiIgD+D7wMYujTFYww9M01zE8ItstIsuMMW2Wphrfh4BfGGP+U0Q2MnwNzFL93px+IvIuhgt+syfHT2vBG2O2jvWciNSLSLoxptZd4KP+eioiscAfgK+7f6WywkS2a6j2se0aPMmOiGxl+AfvFmNM/wxlG8942WOApcAu92xYGrBDRG4zxhTMWMrRefJ5r2Z4LnUQKBeR8wwX/pGZiTgqT3LfD2wDMMYcEJFwhjfE8oUppvF49P3gi0RkOfAYcLMxxqNusXKKZuT2BvcBv7/8APfWCC8wPGf23Axmu5w/b9cwbnYRWQX8DLjNR+aB33HF7MaYdmNMsjEmxxiTw/DcpC+UO3j2NfMiw6N3RCSZ4SmbCzMZchSe5K4ErgcQkUVAONA4oyknbwdwr3s1zQagfcRUsc8SkTnA88BHjTHnPf4PLTxrnATsBEqAN4BE9/vXMHzXKIB7gEHgxIg/Ky3KewtwnuFzAF93v+9bDBcKDH+RPwuUAoeBPKs+t5PI/gZQP+JzvMPqzJ5mv+zYXfjIKhoPP+/C8BRTEXAKuNvqzB7mXgzsY3iFzQngRqszj8j+DMOr7QYZ/g3pfuBB4MERn/Mfuf9tp3zl68WD3I8BrSO+Rws8+bi6VYFSStmUXsmqlFI2pQWvlFI2pQWvlFI2pQWvlFI2pQWvlFI2pQWvlFI2pQWvlFI29f8B/O0VLmP7pIkAAAAASUVORK5CYII=\n",
                "text/plain": "<Figure size 432x288 with 1 Axes>"
              }
            ],
            "_view_module": "@jupyter-widgets/output",
            "_model_module_version": "1.0.0",
            "_view_count": null,
            "_view_module_version": "1.0.0",
            "layout": "IPY_MODEL_27c395895af2420ca756b087e0c49a9e",
            "_model_module": "@jupyter-widgets/output"
          }
        },
        "206ecc0d24db4dba9742206d04e0c3cd": {
          "model_module": "@jupyter-widgets/controls",
          "model_name": "SliderStyleModel",
          "state": {
            "_view_name": "StyleView",
            "handle_color": null,
            "_model_name": "SliderStyleModel",
            "description_width": "",
            "_view_module": "@jupyter-widgets/base",
            "_model_module_version": "1.5.0",
            "_view_count": null,
            "_view_module_version": "1.2.0",
            "_model_module": "@jupyter-widgets/controls"
          }
        },
        "4b67f6131b2a4c67b24172b0e0c87cf5": {
          "model_module": "@jupyter-widgets/base",
          "model_name": "LayoutModel",
          "state": {
            "_view_name": "LayoutView",
            "grid_template_rows": null,
            "right": null,
            "justify_content": null,
            "_view_module": "@jupyter-widgets/base",
            "overflow": null,
            "_model_module_version": "1.2.0",
            "_view_count": null,
            "flex_flow": null,
            "width": null,
            "min_width": null,
            "border": null,
            "align_items": null,
            "bottom": null,
            "_model_module": "@jupyter-widgets/base",
            "top": null,
            "grid_column": null,
            "overflow_y": null,
            "overflow_x": null,
            "grid_auto_flow": null,
            "grid_area": null,
            "grid_template_columns": null,
            "flex": null,
            "_model_name": "LayoutModel",
            "justify_items": null,
            "grid_row": null,
            "max_height": null,
            "align_content": null,
            "visibility": null,
            "align_self": null,
            "height": null,
            "min_height": null,
            "padding": null,
            "grid_auto_rows": null,
            "grid_gap": null,
            "max_width": null,
            "order": null,
            "_view_module_version": "1.2.0",
            "grid_template_areas": null,
            "object_position": null,
            "object_fit": null,
            "grid_auto_columns": null,
            "margin": null,
            "display": null,
            "left": null
          }
        },
        "27c395895af2420ca756b087e0c49a9e": {
          "model_module": "@jupyter-widgets/base",
          "model_name": "LayoutModel",
          "state": {
            "_view_name": "LayoutView",
            "grid_template_rows": null,
            "right": null,
            "justify_content": null,
            "_view_module": "@jupyter-widgets/base",
            "overflow": null,
            "_model_module_version": "1.2.0",
            "_view_count": null,
            "flex_flow": null,
            "width": null,
            "min_width": null,
            "border": null,
            "align_items": null,
            "bottom": null,
            "_model_module": "@jupyter-widgets/base",
            "top": null,
            "grid_column": null,
            "overflow_y": null,
            "overflow_x": null,
            "grid_auto_flow": null,
            "grid_area": null,
            "grid_template_columns": null,
            "flex": null,
            "_model_name": "LayoutModel",
            "justify_items": null,
            "grid_row": null,
            "max_height": null,
            "align_content": null,
            "visibility": null,
            "align_self": null,
            "height": null,
            "min_height": null,
            "padding": null,
            "grid_auto_rows": null,
            "grid_gap": null,
            "max_width": null,
            "order": null,
            "_view_module_version": "1.2.0",
            "grid_template_areas": null,
            "object_position": null,
            "object_fit": null,
            "grid_auto_columns": null,
            "margin": null,
            "display": null,
            "left": null
          }
        }
      }
    }
  },
  "cells": [
    {
      "cell_type": "markdown",
      "metadata": {
        "colab_type": "text",
        "id": "EZyiOteN16cD"
      },
      "source": [
        "Lambda School Data Science\n",
        "\n",
        "*Unit 2, Sprint 2, Module 4*\n",
        "\n",
        "---"
      ]
    },
    {
      "cell_type": "markdown",
      "metadata": {
        "colab_type": "text",
        "id": "KMI2k-oBsS08"
      },
      "source": [
        "# Classification Metrics\n",
        "\n",
        "- get and interpret the **confusion matrix** for classification models\n",
        "- use classification metrics: **precision, recall**\n",
        "- understand the relationships between precision, recall, **thresholds, and predicted probabilities**, to help **make decisions and allocate budgets**\n",
        "- Get **ROC AUC** (Receiver Operating Characteristic, Area Under the Curve)"
      ]
    },
    {
      "cell_type": "markdown",
      "metadata": {
        "colab_type": "text",
        "id": "rU7RuVcjWdcp"
      },
      "source": [
        "### Setup\n",
        "\n",
        "Run the code cell below. You can work locally (follow the [local setup instructions](https://lambdaschool.github.io/ds/unit2/local/)) or on Colab.\n",
        "\n",
        "Libraries\n",
        "\n",
        "- category_encoders\n",
        "- ipywidgets\n",
        "- matplotlib\n",
        "- numpy\n",
        "- pandas\n",
        "- scikit-learn\n",
        "- seaborn"
      ]
    },
    {
      "cell_type": "code",
      "metadata": {
        "colab_type": "code",
        "id": "OpFoag9QoTgA",
        "colab": {}
      },
      "source": [
        "%%capture\n",
        "import sys\n",
        "\n",
        "# If you're on Colab:\n",
        "if 'google.colab' in sys.modules:\n",
        "    DATA_PATH = 'https://raw.githubusercontent.com/LambdaSchool/DS-Unit-2-Kaggle-Challenge/master/data/'\n",
        "    !pip install category_encoders==2.*\n",
        "\n",
        "# If you're working locally:\n",
        "else:\n",
        "    DATA_PATH = '../data/'"
      ],
      "execution_count": 0,
      "outputs": []
    },
    {
      "cell_type": "markdown",
      "metadata": {
        "colab_type": "text",
        "id": "EfhziD2Wn_iO"
      },
      "source": [
        "# Get and interpret the confusion matrix for classification models"
      ]
    },
    {
      "cell_type": "markdown",
      "metadata": {
        "id": "gkvRNyyNuSPa",
        "colab_type": "text"
      },
      "source": [
        "## Overview"
      ]
    },
    {
      "cell_type": "markdown",
      "metadata": {
        "colab_type": "text",
        "id": "xZNCHldPn_iL"
      },
      "source": [
        "First, load the Tanzania Waterpumps data and fit a model. (This code isn't new, we've seen it all before.)"
      ]
    },
    {
      "cell_type": "code",
      "metadata": {
        "colab_type": "code",
        "id": "t8Cjxzrwn_iL",
        "outputId": "62c16816-0ede-406f-ae83-4b6394190bda",
        "colab": {
          "base_uri": "https://localhost:8080/",
          "height": 68
        }
      },
      "source": [
        "%matplotlib inline\n",
        "import category_encoders as ce\n",
        "import matplotlib.pyplot as plt\n",
        "import numpy as np\n",
        "import pandas as pd\n",
        "import seaborn as sns\n",
        "from sklearn.impute import SimpleImputer\n",
        "from sklearn.metrics import accuracy_score\n",
        "from sklearn.model_selection import train_test_split\n",
        "from sklearn.pipeline import make_pipeline\n",
        "from sklearn.ensemble import RandomForestClassifier\n",
        "\n",
        "def wrangle(X):\n",
        "    \"\"\"Wrangles train, validate, and test sets in the same way\"\"\"\n",
        "    X = X.copy()\n",
        "\n",
        "    # Convert date_recorded to datetime\n",
        "    X['date_recorded'] = pd.to_datetime(X['date_recorded'], infer_datetime_format=True)\n",
        "    \n",
        "    # Extract components from date_recorded, then drop the original column\n",
        "    X['year_recorded'] = X['date_recorded'].dt.year\n",
        "    X['month_recorded'] = X['date_recorded'].dt.month\n",
        "    X['day_recorded'] = X['date_recorded'].dt.day\n",
        "    X = X.drop(columns='date_recorded')\n",
        "    \n",
        "    # Engineer feature: how many years from construction_year to date_recorded\n",
        "    X['years'] = X['year_recorded'] - X['construction_year']    \n",
        "    \n",
        "    # Drop recorded_by (never varies) and id (always varies, random)\n",
        "    unusable_variance = ['recorded_by', 'id']\n",
        "    X = X.drop(columns=unusable_variance)\n",
        "    \n",
        "    # Drop duplicate columns\n",
        "    duplicate_columns = ['quantity_group']\n",
        "    X = X.drop(columns=duplicate_columns)\n",
        "    \n",
        "    # About 3% of the time, latitude has small values near zero,\n",
        "    # outside Tanzania, so we'll treat these like null values\n",
        "    X['latitude'] = X['latitude'].replace(-2e-08, np.nan)\n",
        "    \n",
        "    # When columns have zeros and shouldn't, they are like null values\n",
        "    cols_with_zeros = ['construction_year', 'longitude', 'latitude', 'gps_height', 'population']\n",
        "    for col in cols_with_zeros:\n",
        "        X[col] = X[col].replace(0, np.nan)\n",
        "        \n",
        "    return X\n",
        "\n",
        "\n",
        "# Merge train_features.csv & train_labels.csv\n",
        "train = pd.merge(pd.read_csv(DATA_PATH+'waterpumps/train_features.csv'), \n",
        "                 pd.read_csv(DATA_PATH+'waterpumps/train_labels.csv'))\n",
        "\n",
        "# Read test_features.csv & sample_submission.csv\n",
        "test = pd.read_csv(DATA_PATH+'waterpumps/test_features.csv')\n",
        "sample_submission = pd.read_csv(DATA_PATH+'waterpumps/sample_submission.csv')\n",
        "\n",
        "# Split train into train & val. Make val the same size as test.\n",
        "target = 'status_group'\n",
        "train, val = train_test_split(train, test_size=len(test),  \n",
        "                              stratify=train[target], random_state=42)\n",
        "\n",
        "# Wrangle train, validate, and test sets in the same way\n",
        "train = wrangle(train)\n",
        "val = wrangle(val)\n",
        "test = wrangle(test)\n",
        "\n",
        "# Arrange data into X features matrix and y target vector\n",
        "X_train = train.drop(columns=target)\n",
        "y_train = train[target]\n",
        "X_val = val.drop(columns=target)\n",
        "y_val = val[target]\n",
        "X_test = test\n",
        "\n",
        "# Make pipeline!\n",
        "pipeline = make_pipeline(\n",
        "    ce.OrdinalEncoder(), \n",
        "    SimpleImputer(strategy='mean'), \n",
        "    RandomForestClassifier(n_estimators=100, random_state=42, n_jobs=-1)\n",
        ")\n",
        "\n",
        "# Fit on train, score on val\n",
        "pipeline.fit(X_train, y_train)\n",
        "y_pred = pipeline.predict(X_val)\n",
        "print('Validation Accuracy', accuracy_score(y_val, y_pred))"
      ],
      "execution_count": 2,
      "outputs": [
        {
          "output_type": "stream",
          "text": [
            "/usr/local/lib/python3.6/dist-packages/statsmodels/tools/_testing.py:19: FutureWarning: pandas.util.testing is deprecated. Use the functions in the public API at pandas.testing instead.\n",
            "  import pandas.util.testing as tm\n"
          ],
          "name": "stderr"
        },
        {
          "output_type": "stream",
          "text": [
            "Validation Accuracy 0.8140409527789386\n"
          ],
          "name": "stdout"
        }
      ]
    },
    {
      "cell_type": "markdown",
      "metadata": {
        "id": "VAJcaCwjuSPc",
        "colab_type": "text"
      },
      "source": [
        "## Follow Along\n",
        "\n",
        "Scikit-learn added a [**`plot_confusion_matrix`**](https://scikit-learn.org/stable/modules/generated/sklearn.metrics.plot_confusion_matrix.html) function in version 0.22!"
      ]
    },
    {
      "cell_type": "code",
      "metadata": {
        "colab_type": "code",
        "id": "2MSWehj9n_iO",
        "outputId": "02a11445-f0b1-477d-eedb-8f103933abca",
        "colab": {
          "base_uri": "https://localhost:8080/",
          "height": 389
        }
      },
      "source": [
        "from sklearn.metrics import plot_confusion_matrix\n",
        "\n",
        "plot_confusion_matrix(pipeline, X_val, y_val, \n",
        "                      xticks_rotation='vertical', \n",
        "                      values_format='.0f',\n",
        "                      cmap='Blues');"
      ],
      "execution_count": 14,
      "outputs": [
        {
          "output_type": "display_data",
          "data": {
            "image/png": "[encoded data removed]",
            "text/plain": [
              "<Figure size 432x288 with 2 Axes>"
            ]
          },
          "metadata": {
            "tags": [],
            "needs_background": "light"
          }
        }
      ]
    },
    {
      "cell_type": "code",
      "metadata": {
        "colab_type": "code",
        "id": "wRSaYRPWn_iR",
        "outputId": "84e75aaf-e372-4302-b512-273391f7df85",
        "colab": {
          "base_uri": "https://localhost:8080/",
          "height": 385
        }
      },
      "source": [
        "plot_confusion_matrix(pipeline, X_val, y_val, \n",
        "                      xticks_rotation='vertical', \n",
        "                      normalize='true',\n",
        "                      values_format='.02f',\n",
        "                      cmap='Blues');"
      ],
      "execution_count": 17,
      "outputs": [
        {
          "output_type": "display_data",
          "data": {
            "image/png": "[encoded data removed]",
            "text/plain": [
              "<Figure size 432x288 with 2 Axes>"
            ]
          },
          "metadata": {
            "tags": [],
            "needs_background": "light"
          }
        }
      ]
    },
    {
      "cell_type": "code",
      "metadata": {
        "id": "MMwdeQ8azBbU",
        "colab_type": "code",
        "colab": {
          "base_uri": "https://localhost:8080/",
          "height": 68
        },
        "outputId": "54fea29d-9c82-4820-ce8b-521224714aa7"
      },
      "source": [
        "# making the plot manually\n",
        "\n",
        "\n",
        "from sklearn.metrics import confusion_matrix\n",
        "\n",
        "cm = confusion_matrix(y_val, y_pred)\n",
        "cm"
      ],
      "execution_count": 20,
      "outputs": [
        {
          "output_type": "execute_result",
          "data": {
            "text/plain": [
              "array([[7005,  171,  622],\n",
              "       [ 555,  332,  156],\n",
              "       [1098,   68, 4351]])"
            ]
          },
          "metadata": {
            "tags": []
          },
          "execution_count": 20
        }
      ]
    },
    {
      "cell_type": "code",
      "metadata": {
        "id": "79qUMXL2zdcX",
        "colab_type": "code",
        "colab": {
          "base_uri": "https://localhost:8080/",
          "height": 68
        },
        "outputId": "2e429b34-9b9a-4f9c-f8b3-afe92bf80ad3"
      },
      "source": [
        "normalized_sum = cm/cm.sum(axis=1)[:, np.newaxis]\n",
        "normalized_sum"
      ],
      "execution_count": 21,
      "outputs": [
        {
          "output_type": "execute_result",
          "data": {
            "text/plain": [
              "array([[0.89830726, 0.0219287 , 0.07976404],\n",
              "       [0.53211889, 0.31831256, 0.14956855],\n",
              "       [0.19902121, 0.01232554, 0.78865325]])"
            ]
          },
          "metadata": {
            "tags": []
          },
          "execution_count": 21
        }
      ]
    },
    {
      "cell_type": "code",
      "metadata": {
        "id": "oYzFF6CmzWOx",
        "colab_type": "code",
        "colab": {
          "base_uri": "https://localhost:8080/",
          "height": 428
        },
        "outputId": "6b6dc798-0ebe-4f0f-cb25-8a5fb77e6819"
      },
      "source": [
        "import seaborn as sns\n",
        "from sklearn.utils.multiclass import unique_labels\n",
        "\n",
        "cols = unique_labels(y_val)\n",
        "df_cm = pd.DataFrame(normalized_sum, \n",
        "                     columns=['Predicted ' + col for col in cols], \n",
        "                     index=['Actual ' + col for col in cols])\n",
        "plt.figure(figsize=(10,7))\n",
        "sns.heatmap(df_cm, annot=True, cmap='Blues', fmt='.02f');"
      ],
      "execution_count": 28,
      "outputs": [
        {
          "output_type": "display_data",
          "data": {
            "image/png": "[encoded data removed]",
            "text/plain": [
              "<Figure size 720x504 with 2 Axes>"
            ]
          },
          "metadata": {
            "tags": [],
            "needs_background": "light"
          }
        }
      ]
    },
    {
      "cell_type": "markdown",
      "metadata": {
        "colab_type": "text",
        "id": "fP6FGBGUn_iQ"
      },
      "source": [
        "#### How many correct predictions were made?"
      ]
    },
    {
      "cell_type": "markdown",
      "metadata": {
        "colab_type": "text",
        "id": "-q-3R7Ean_iT"
      },
      "source": [
        "#### How many total predictions were made?"
      ]
    },
    {
      "cell_type": "code",
      "metadata": {
        "colab_type": "code",
        "id": "vLAQL05fn_iT",
        "outputId": "5989bde6-25f8-4158-8c96-eff0c49ca366",
        "colab": {
          "base_uri": "https://localhost:8080/",
          "height": 34
        }
      },
      "source": [
        "len(y_val)"
      ],
      "execution_count": 29,
      "outputs": [
        {
          "output_type": "execute_result",
          "data": {
            "text/plain": [
              "14358"
            ]
          },
          "metadata": {
            "tags": []
          },
          "execution_count": 29
        }
      ]
    },
    {
      "cell_type": "code",
      "metadata": {
        "id": "pd4Ahf4h3_y-",
        "colab_type": "code",
        "colab": {
          "base_uri": "https://localhost:8080/",
          "height": 34
        },
        "outputId": "5aa8ebc7-36b7-47ed-ccf9-2564ca35e0a4"
      },
      "source": [
        "cm.sum()"
      ],
      "execution_count": 30,
      "outputs": [
        {
          "output_type": "execute_result",
          "data": {
            "text/plain": [
              "14358"
            ]
          },
          "metadata": {
            "tags": []
          },
          "execution_count": 30
        }
      ]
    },
    {
      "cell_type": "markdown",
      "metadata": {
        "colab_type": "text",
        "id": "K1yQ_jYPn_iV"
      },
      "source": [
        "#### What was the classification accuracy?"
      ]
    },
    {
      "cell_type": "code",
      "metadata": {
        "colab_type": "code",
        "id": "fskAC6SYn_iW",
        "outputId": "fdb22780-c6bb-4f02-9006-7de155c94aad",
        "colab": {
          "base_uri": "https://localhost:8080/",
          "height": 34
        }
      },
      "source": [
        "print('Validation Accuracy', accuracy_score(y_val, y_pred))"
      ],
      "execution_count": 31,
      "outputs": [
        {
          "output_type": "stream",
          "text": [
            "Validation Accuracy 0.8140409527789386\n"
          ],
          "name": "stdout"
        }
      ]
    },
    {
      "cell_type": "markdown",
      "metadata": {
        "colab_type": "text",
        "id": "EqFgEm3tn_iY"
      },
      "source": [
        "# Use classification metrics: precision, recall"
      ]
    },
    {
      "cell_type": "markdown",
      "metadata": {
        "id": "IZKTWwC_uSPm",
        "colab_type": "text"
      },
      "source": [
        "## Overview\n",
        "\n",
        "[Scikit-Learn User Guide — Classification Report](https://scikit-learn.org/stable/modules/model_evaluation.html#classification-report)"
      ]
    },
    {
      "cell_type": "code",
      "metadata": {
        "colab_type": "code",
        "id": "mGv7OLL4n_iY",
        "outputId": "6ff6f14e-c7cd-49f4-c9b3-9ffcb81411da",
        "colab": {
          "base_uri": "https://localhost:8080/",
          "height": 187
        }
      },
      "source": [
        "from sklearn.metrics import classification_report\n",
        "\n",
        "print(classification_report(y_val, y_pred))"
      ],
      "execution_count": 37,
      "outputs": [
        {
          "output_type": "stream",
          "text": [
            "                         precision    recall  f1-score   support\n",
            "\n",
            "             functional       0.81      0.90      0.85      7798\n",
            "functional needs repair       0.58      0.32      0.41      1043\n",
            "         non functional       0.85      0.79      0.82      5517\n",
            "\n",
            "               accuracy                           0.81     14358\n",
            "              macro avg       0.75      0.67      0.69     14358\n",
            "           weighted avg       0.81      0.81      0.81     14358\n",
            "\n"
          ],
          "name": "stdout"
        }
      ]
    },
    {
      "cell_type": "code",
      "metadata": {
        "id": "b0tVzcVg6G6B",
        "colab_type": "code",
        "colab": {
          "base_uri": "https://localhost:8080/",
          "height": 241
        },
        "outputId": "f8569e7e-e1ca-4e2f-a561-68c2d99e9acd"
      },
      "source": [
        "y_pred_baseline = ['functional']*len(y_pred)\n",
        "\n",
        "print(classification_report(y_val, y_pred_baseline))"
      ],
      "execution_count": 38,
      "outputs": [
        {
          "output_type": "stream",
          "text": [
            "                         precision    recall  f1-score   support\n",
            "\n",
            "             functional       0.54      1.00      0.70      7798\n",
            "functional needs repair       0.00      0.00      0.00      1043\n",
            "         non functional       0.00      0.00      0.00      5517\n",
            "\n",
            "               accuracy                           0.54     14358\n",
            "              macro avg       0.18      0.33      0.23     14358\n",
            "           weighted avg       0.29      0.54      0.38     14358\n",
            "\n"
          ],
          "name": "stdout"
        },
        {
          "output_type": "stream",
          "text": [
            "/usr/local/lib/python3.6/dist-packages/sklearn/metrics/_classification.py:1272: UndefinedMetricWarning: Precision and F-score are ill-defined and being set to 0.0 in labels with no predicted samples. Use `zero_division` parameter to control this behavior.\n",
            "  _warn_prf(average, modifier, msg_start, len(result))\n"
          ],
          "name": "stderr"
        }
      ]
    },
    {
      "cell_type": "markdown",
      "metadata": {
        "colab_type": "text",
        "id": "Z1U7HdC6n_ia"
      },
      "source": [
        "#### Wikipedia, [Precision and recall](https://en.wikipedia.org/wiki/Precision_and_recall)\n",
        "\n",
        "> Both precision and recall are based on an understanding and measure of relevance.\n",
        "\n",
        "> Suppose a computer program for recognizing dogs in photographs identifies 8 dogs in a picture containing 12 dogs and some cats. Of the 8 identified as dogs, 5 actually are dogs (true positives), while the rest are cats (false positives). The program's precision is 5/8 while its recall is 5/12.\n",
        "\n",
        "> High precision means that an algorithm returned substantially more relevant results than irrelevant ones, while high recall means that an algorithm returned most of the relevant results.\n",
        "\n",
        "<img src=\"https://upload.wikimedia.org/wikipedia/commons/thumb/2/26/Precisionrecall.svg/700px-Precisionrecall.svg.png\" width=\"400\">"
      ]
    },
    {
      "cell_type": "markdown",
      "metadata": {
        "id": "QRL08b9-uSPo",
        "colab_type": "text"
      },
      "source": [
        "## Follow Along"
      ]
    },
    {
      "cell_type": "markdown",
      "metadata": {
        "colab_type": "text",
        "id": "50R-Xhwdn_ie"
      },
      "source": [
        "#### [We can get precision & recall from the confusion matrix](https://en.wikipedia.org/wiki/Precision_and_recall#Definition_(classification_context))"
      ]
    },
    {
      "cell_type": "code",
      "metadata": {
        "id": "-kX4BYXB7Kc-",
        "colab_type": "code",
        "colab": {
          "base_uri": "https://localhost:8080/",
          "height": 389
        },
        "outputId": "5adc8b8c-6ea2-4af4-b2a9-4f0f4dc7f56c"
      },
      "source": [
        "plot_confusion_matrix(pipeline, X_val, y_val, \n",
        "                      xticks_rotation='vertical', \n",
        "                      values_format='.0f',\n",
        "                      cmap='Blues');"
      ],
      "execution_count": 39,
      "outputs": [
        {
          "output_type": "display_data",
          "data": {
            "image/png": "[encoded data removed]",
            "text/plain": [
              "<Figure size 432x288 with 2 Axes>"
            ]
          },
          "metadata": {
            "tags": [],
            "needs_background": "light"
          }
        }
      ]
    },
    {
      "cell_type": "markdown",
      "metadata": {
        "colab_type": "text",
        "id": "iY2rfzA4n_ih"
      },
      "source": [
        "#### How many correct predictions of \"non functional\"?"
      ]
    },
    {
      "cell_type": "code",
      "metadata": {
        "colab_type": "code",
        "id": "O-anLkCin_ii",
        "colab": {}
      },
      "source": [
        "correct_pred_non_func = 4351"
      ],
      "execution_count": 0,
      "outputs": []
    },
    {
      "cell_type": "markdown",
      "metadata": {
        "colab_type": "text",
        "id": "pYM6f99cn_ij"
      },
      "source": [
        "#### How many total predictions of \"non functional\"?"
      ]
    },
    {
      "cell_type": "code",
      "metadata": {
        "colab_type": "code",
        "id": "_qCiA8j2n_ik",
        "colab": {}
      },
      "source": [
        "total_preds_non_functional = 4351 + 156 + 622"
      ],
      "execution_count": 0,
      "outputs": []
    },
    {
      "cell_type": "markdown",
      "metadata": {
        "colab_type": "text",
        "id": "mXNuZ_Rnn_il"
      },
      "source": [
        "#### What's the precision for \"non functional\"?"
      ]
    },
    {
      "cell_type": "code",
      "metadata": {
        "colab_type": "code",
        "id": "X1f7VsyXn_im",
        "outputId": "8d25bce5-b9d0-4448-9226-7d7dc7d50b7a",
        "colab": {
          "base_uri": "https://localhost:8080/",
          "height": 34
        }
      },
      "source": [
        "precision = correct_pred_non_func / total_preds_non_functional\n",
        "precision"
      ],
      "execution_count": 46,
      "outputs": [
        {
          "output_type": "execute_result",
          "data": {
            "text/plain": [
              "0.8483135114057321"
            ]
          },
          "metadata": {
            "tags": []
          },
          "execution_count": 46
        }
      ]
    },
    {
      "cell_type": "markdown",
      "metadata": {
        "colab_type": "text",
        "id": "ci4QguAkn_in"
      },
      "source": [
        "#### How many actual \"non functional\" waterpumps?"
      ]
    },
    {
      "cell_type": "code",
      "metadata": {
        "colab_type": "code",
        "id": "FlqxNhlYn_io",
        "colab": {}
      },
      "source": [
        "actual_non_functional = 1098 + 68 + 4351"
      ],
      "execution_count": 0,
      "outputs": []
    },
    {
      "cell_type": "markdown",
      "metadata": {
        "colab_type": "text",
        "id": "9IY-vC-hn_iq"
      },
      "source": [
        "#### What's the recall for \"non functional\"?"
      ]
    },
    {
      "cell_type": "code",
      "metadata": {
        "colab_type": "code",
        "id": "4U3v8lPP4KbP",
        "outputId": "2875e97a-1fe3-4626-9e8e-ec978b0f7df7",
        "colab": {
          "base_uri": "https://localhost:8080/",
          "height": 34
        }
      },
      "source": [
        "recall = correct_pred_non_func / actual_non_functional\n",
        "recall"
      ],
      "execution_count": 47,
      "outputs": [
        {
          "output_type": "execute_result",
          "data": {
            "text/plain": [
              "0.7886532535798442"
            ]
          },
          "metadata": {
            "tags": []
          },
          "execution_count": 47
        }
      ]
    },
    {
      "cell_type": "code",
      "metadata": {
        "id": "3AImY7y08lc0",
        "colab_type": "code",
        "colab": {
          "base_uri": "https://localhost:8080/",
          "height": 34
        },
        "outputId": "296b19ce-632d-498e-ac46-2de5f1b4ef59"
      },
      "source": [
        "# f1 score\n",
        "2*(precision * recall)/(precision+recall)"
      ],
      "execution_count": 48,
      "outputs": [
        {
          "output_type": "execute_result",
          "data": {
            "text/plain": [
              "0.8173962051474731"
            ]
          },
          "metadata": {
            "tags": []
          },
          "execution_count": 48
        }
      ]
    },
    {
      "cell_type": "markdown",
      "metadata": {
        "colab_type": "text",
        "id": "ObVED_ugn_is"
      },
      "source": [
        "# Understand the relationships between precision, recall, thresholds, and predicted probabilities, to help make decisions and allocate budgets"
      ]
    },
    {
      "cell_type": "markdown",
      "metadata": {
        "id": "LgthkYUpuSP2",
        "colab_type": "text"
      },
      "source": [
        "## Overview"
      ]
    },
    {
      "cell_type": "markdown",
      "metadata": {
        "colab_type": "text",
        "id": "kBcQQJ2kn_is"
      },
      "source": [
        "### Imagine this scenario...\n",
        "\n",
        "Suppose there are over 14,000 waterpumps that you _do_ have some information about, but you _don't_ know whether they are currently functional, or functional but need repair, or non-functional."
      ]
    },
    {
      "cell_type": "code",
      "metadata": {
        "colab_type": "code",
        "id": "jEEy86CHn_it",
        "outputId": "e8542072-6770-4c26-e201-d862d6b1fc1b",
        "colab": {
          "base_uri": "https://localhost:8080/",
          "height": 34
        }
      },
      "source": [
        "len(test)"
      ],
      "execution_count": 49,
      "outputs": [
        {
          "output_type": "execute_result",
          "data": {
            "text/plain": [
              "14358"
            ]
          },
          "metadata": {
            "tags": []
          },
          "execution_count": 49
        }
      ]
    },
    {
      "cell_type": "markdown",
      "metadata": {
        "colab_type": "text",
        "id": "3az2llAAn_iu"
      },
      "source": [
        "**You have the time and resources to go to just 2,000 waterpumps for proactive maintenance.** You want to predict, which 2,000 are most likely non-functional or in need of repair, to help you triage and prioritize your waterpump inspections.\n",
        "\n",
        "You have historical inspection data for over 59,000 other waterpumps, which you'll use to fit your predictive model."
      ]
    },
    {
      "cell_type": "code",
      "metadata": {
        "colab_type": "code",
        "id": "pEWc2zt2n_iv",
        "outputId": "99140635-5a07-47bd-9987-d18afd95413a",
        "colab": {
          "base_uri": "https://localhost:8080/",
          "height": 34
        }
      },
      "source": [
        "len(train) + len(val)"
      ],
      "execution_count": 50,
      "outputs": [
        {
          "output_type": "execute_result",
          "data": {
            "text/plain": [
              "59400"
            ]
          },
          "metadata": {
            "tags": []
          },
          "execution_count": 50
        }
      ]
    },
    {
      "cell_type": "markdown",
      "metadata": {
        "colab_type": "text",
        "id": "L2LiGJLin_ix"
      },
      "source": [
        "You have historical inspection data for over 59,000 other waterpumps, which you'll use to fit your predictive model.\n",
        "\n",
        "Based on this historical data, if you randomly chose waterpumps to inspect, then about 46% of the waterpumps would need repairs, and 54% would not need repairs."
      ]
    },
    {
      "cell_type": "code",
      "metadata": {
        "colab_type": "code",
        "id": "JliDXTp5n_iy",
        "outputId": "f8a399ac-a6de-461b-8932-ef74e1c5e899",
        "colab": {
          "base_uri": "https://localhost:8080/",
          "height": 85
        }
      },
      "source": [
        "y_train.value_counts(normalize=True)"
      ],
      "execution_count": 51,
      "outputs": [
        {
          "output_type": "execute_result",
          "data": {
            "text/plain": [
              "functional                 0.543071\n",
              "non functional             0.384241\n",
              "functional needs repair    0.072688\n",
              "Name: status_group, dtype: float64"
            ]
          },
          "metadata": {
            "tags": []
          },
          "execution_count": 51
        }
      ]
    },
    {
      "cell_type": "code",
      "metadata": {
        "colab_type": "code",
        "id": "0dP7fjQJeQEX",
        "outputId": "66c21f97-f19f-4aed-f2fb-b9f6b9a98285",
        "colab": {
          "base_uri": "https://localhost:8080/",
          "height": 34
        }
      },
      "source": [
        "2000 * 0.46"
      ],
      "execution_count": 52,
      "outputs": [
        {
          "output_type": "execute_result",
          "data": {
            "text/plain": [
              "920.0"
            ]
          },
          "metadata": {
            "tags": []
          },
          "execution_count": 52
        }
      ]
    },
    {
      "cell_type": "markdown",
      "metadata": {
        "colab_type": "text",
        "id": "dLnJ7Fnan_i1"
      },
      "source": [
        "**Can you do better than random at prioritizing inspections?**"
      ]
    },
    {
      "cell_type": "markdown",
      "metadata": {
        "colab_type": "text",
        "id": "sIh2Xj8fn_i3"
      },
      "source": [
        "In this scenario, we should define our target differently. We want to identify which waterpumps are non-functional _or_ are functional but needs repair:"
      ]
    },
    {
      "cell_type": "code",
      "metadata": {
        "colab_type": "code",
        "id": "7naqusI0n_i4",
        "outputId": "464a7463-caec-497d-a1e7-0691291623b1",
        "colab": {
          "base_uri": "https://localhost:8080/",
          "height": 68
        }
      },
      "source": [
        "y_train = y_train != 'functional'\n",
        "y_val = y_val != 'functional'\n",
        "y_train.value_counts(normalize=True)"
      ],
      "execution_count": 53,
      "outputs": [
        {
          "output_type": "execute_result",
          "data": {
            "text/plain": [
              "False    0.543071\n",
              "True     0.456929\n",
              "Name: status_group, dtype: float64"
            ]
          },
          "metadata": {
            "tags": []
          },
          "execution_count": 53
        }
      ]
    },
    {
      "cell_type": "markdown",
      "metadata": {
        "colab_type": "text",
        "id": "P1UR1t8Zn_i6"
      },
      "source": [
        "We already made our validation set the same size as our test set."
      ]
    },
    {
      "cell_type": "code",
      "metadata": {
        "colab_type": "code",
        "id": "CHHIplB7n_i8",
        "outputId": "9c99d65e-9efe-44ca-91d8-f1ecdd830bcd",
        "colab": {
          "base_uri": "https://localhost:8080/",
          "height": 34
        }
      },
      "source": [
        "len(val) == len(test)"
      ],
      "execution_count": 54,
      "outputs": [
        {
          "output_type": "execute_result",
          "data": {
            "text/plain": [
              "True"
            ]
          },
          "metadata": {
            "tags": []
          },
          "execution_count": 54
        }
      ]
    },
    {
      "cell_type": "markdown",
      "metadata": {
        "colab_type": "text",
        "id": "g41DA70rn_i9"
      },
      "source": [
        "We can refit our model, using the redefined target.\n",
        "\n",
        "Then make predictions for the validation set."
      ]
    },
    {
      "cell_type": "code",
      "metadata": {
        "colab_type": "code",
        "id": "VXL0LaXQn_i-",
        "colab": {}
      },
      "source": [
        "pipeline.fit(X_train, y_train)\n",
        "y_pred = pipeline.predict(X_val)"
      ],
      "execution_count": 0,
      "outputs": []
    },
    {
      "cell_type": "markdown",
      "metadata": {
        "id": "f0_5ESXOuSQE",
        "colab_type": "text"
      },
      "source": [
        "## Follow Along"
      ]
    },
    {
      "cell_type": "markdown",
      "metadata": {
        "colab_type": "text",
        "id": "qISPzM43n_jA"
      },
      "source": [
        "#### Look at the confusion matrix:"
      ]
    },
    {
      "cell_type": "code",
      "metadata": {
        "colab_type": "code",
        "id": "y72fakpmn_jB",
        "outputId": "5b762f8b-b12f-47dd-99ba-b6ce0e6fece7",
        "colab": {
          "base_uri": "https://localhost:8080/",
          "height": 51
        }
      },
      "source": [
        "confusion_matrix(y_val, y_pred)"
      ],
      "execution_count": 56,
      "outputs": [
        {
          "output_type": "execute_result",
          "data": {
            "text/plain": [
              "array([[6821,  977],\n",
              "       [1528, 5032]])"
            ]
          },
          "metadata": {
            "tags": []
          },
          "execution_count": 56
        }
      ]
    },
    {
      "cell_type": "markdown",
      "metadata": {
        "colab_type": "text",
        "id": "M30BXR6Rn_jC"
      },
      "source": [
        "#### How many total predictions of \"True\" (\"non functional\" or \"functional needs repair\") ?"
      ]
    },
    {
      "cell_type": "code",
      "metadata": {
        "colab_type": "code",
        "id": "4IeTJFo8n_jD",
        "outputId": "8701de8c-76de-4c43-9800-befea156faa6",
        "colab": {
          "base_uri": "https://localhost:8080/",
          "height": 34
        }
      },
      "source": [
        "y_pred.shape"
      ],
      "execution_count": 57,
      "outputs": [
        {
          "output_type": "execute_result",
          "data": {
            "text/plain": [
              "(14358,)"
            ]
          },
          "metadata": {
            "tags": []
          },
          "execution_count": 57
        }
      ]
    },
    {
      "cell_type": "code",
      "metadata": {
        "id": "P9WMoAoT_Hvu",
        "colab_type": "code",
        "colab": {
          "base_uri": "https://localhost:8080/",
          "height": 34
        },
        "outputId": "c5c1db7c-8dba-489a-8d54-0a38fd132e39"
      },
      "source": [
        "y_pred.sum()"
      ],
      "execution_count": 58,
      "outputs": [
        {
          "output_type": "execute_result",
          "data": {
            "text/plain": [
              "6009"
            ]
          },
          "metadata": {
            "tags": []
          },
          "execution_count": 58
        }
      ]
    },
    {
      "cell_type": "markdown",
      "metadata": {
        "colab_type": "text",
        "id": "1aZSdskSn_jF"
      },
      "source": [
        "### We don't have \"budget\" to take action on all these predictions\n",
        "\n",
        "- But we can get predicted probabilities, to rank the predictions. \n",
        "- Then change the threshold, to change the number of positive predictions, based on our budget."
      ]
    },
    {
      "cell_type": "markdown",
      "metadata": {
        "colab_type": "text",
        "id": "rXkfXDDZn_jF"
      },
      "source": [
        "### Get predicted probabilities and plot the distribution"
      ]
    },
    {
      "cell_type": "code",
      "metadata": {
        "colab_type": "code",
        "id": "jwfe7j7W_jTp",
        "outputId": "c55c4c07-6b03-453b-e848-d2d1b84756ee",
        "colab": {
          "base_uri": "https://localhost:8080/",
          "height": 136
        }
      },
      "source": [
        "pipeline.predict_proba(X_val)"
      ],
      "execution_count": 59,
      "outputs": [
        {
          "output_type": "execute_result",
          "data": {
            "text/plain": [
              "array([[0.  , 1.  ],\n",
              "       [0.26, 0.74],\n",
              "       [0.9 , 0.1 ],\n",
              "       ...,\n",
              "       [0.91, 0.09],\n",
              "       [0.41, 0.59],\n",
              "       [0.98, 0.02]])"
            ]
          },
          "metadata": {
            "tags": []
          },
          "execution_count": 59
        }
      ]
    },
    {
      "cell_type": "code",
      "metadata": {
        "id": "LXuwsSth_hh2",
        "colab_type": "code",
        "colab": {
          "base_uri": "https://localhost:8080/",
          "height": 34
        },
        "outputId": "9889bd41-59df-400e-f2b3-29fdeadca630"
      },
      "source": [
        "pipeline.predict(X_val)"
      ],
      "execution_count": 61,
      "outputs": [
        {
          "output_type": "execute_result",
          "data": {
            "text/plain": [
              "array([ True,  True, False, ..., False,  True, False])"
            ]
          },
          "metadata": {
            "tags": []
          },
          "execution_count": 61
        }
      ]
    },
    {
      "cell_type": "code",
      "metadata": {
        "id": "pUz7Lz58_oJ_",
        "colab_type": "code",
        "colab": {
          "base_uri": "https://localhost:8080/",
          "height": 34
        },
        "outputId": "f449de65-c82e-44c4-eee4-0c7e667810e3"
      },
      "source": [
        "pipeline.predict_proba(X_val)[:, 1]"
      ],
      "execution_count": 63,
      "outputs": [
        {
          "output_type": "execute_result",
          "data": {
            "text/plain": [
              "array([1.  , 0.74, 0.1 , ..., 0.09, 0.59, 0.02])"
            ]
          },
          "metadata": {
            "tags": []
          },
          "execution_count": 63
        }
      ]
    },
    {
      "cell_type": "code",
      "metadata": {
        "id": "3vJCkzOL_z9u",
        "colab_type": "code",
        "colab": {
          "base_uri": "https://localhost:8080/",
          "height": 282
        },
        "outputId": "18315f75-12e6-4d96-eab7-0ef0afd88f00"
      },
      "source": [
        "y_pred_proba = pipeline.predict_proba(X_val)[:, 1]\n",
        "sns.distplot(y_pred_proba)"
      ],
      "execution_count": 64,
      "outputs": [
        {
          "output_type": "execute_result",
          "data": {
            "text/plain": [
              "<matplotlib.axes._subplots.AxesSubplot at 0x7f0ff6bcf7b8>"
            ]
          },
          "metadata": {
            "tags": []
          },
          "execution_count": 64
        },
        {
          "output_type": "display_data",
          "data": {
            "image/png": "[encoded data removed]",
            "text/plain": [
              "<Figure size 432x288 with 1 Axes>"
            ]
          },
          "metadata": {
            "tags": [],
            "needs_background": "light"
          }
        }
      ]
    },
    {
      "cell_type": "markdown",
      "metadata": {
        "colab_type": "text",
        "id": "eD6pRFKOn_jH"
      },
      "source": [
        "### Change the threshold"
      ]
    },
    {
      "cell_type": "code",
      "metadata": {
        "colab_type": "code",
        "id": "SjOhH0BMB55A",
        "outputId": "27e91f75-d0b5-4eea-d00f-fa64cafcbbeb",
        "colab": {
          "base_uri": "https://localhost:8080/",
          "height": 316
        }
      },
      "source": [
        "thres = 0.5\n",
        "\n",
        "y_pred = y_pred_proba > thres\n",
        "\n",
        "ax = sns.distplot(y_pred_proba)\n",
        "ax.axvline(thres, color='red');\n",
        "\n",
        "pd.Series(y_pred).value_counts()"
      ],
      "execution_count": 73,
      "outputs": [
        {
          "output_type": "execute_result",
          "data": {
            "text/plain": [
              "False    8349\n",
              "True     6009\n",
              "dtype: int64"
            ]
          },
          "metadata": {
            "tags": []
          },
          "execution_count": 73
        },
        {
          "output_type": "display_data",
          "data": {
            "image/png": "[encoded data removed]",
            "text/plain": [
              "<Figure size 432x288 with 1 Axes>"
            ]
          },
          "metadata": {
            "tags": [],
            "needs_background": "light"
          }
        }
      ]
    },
    {
      "cell_type": "markdown",
      "metadata": {
        "id": "ME9k5et4uSQM",
        "colab_type": "text"
      },
      "source": [
        "### Or, get exactly 2,000 positive predictions"
      ]
    },
    {
      "cell_type": "markdown",
      "metadata": {
        "id": "Mj0wrbR2uSQM",
        "colab_type": "text"
      },
      "source": [
        "Identify the 2,000 waterpumps in the validation set with highest predicted probabilities."
      ]
    },
    {
      "cell_type": "code",
      "metadata": {
        "id": "cFW9OMlpuSQM",
        "colab_type": "code",
        "colab": {}
      },
      "source": [
        "def set_thres(y_val, y_pred_proba, thres=0.5):\n",
        "  y_pred = y_pred_proba > thres\n",
        "  ax = sns.distplot(y_pred_proba)\n",
        "  ax.axvline(thres, color='red');\n",
        "  print(classification_report(y_val, y_pred))\n",
        "  print(confusion_matrix(y_val, y_pred))"
      ],
      "execution_count": 0,
      "outputs": []
    },
    {
      "cell_type": "code",
      "metadata": {
        "id": "B_jr9MYjuSQP",
        "colab_type": "code",
        "colab": {
          "base_uri": "https://localhost:8080/",
          "height": 484,
          "referenced_widgets": [
            "991f9a8100e6404b993f577234bda46f",
            "c7219a6493224c94b29d81395fef7535",
            "4d70a267d86b4c77a0303a4e3e232a70",
            "898f46ab832845ba94baeac473d3c148",
            "206ecc0d24db4dba9742206d04e0c3cd",
            "4b67f6131b2a4c67b24172b0e0c87cf5",
            "27c395895af2420ca756b087e0c49a9e"
          ]
        },
        "outputId": "3e13ac93-3aff-416a-f10e-7d1c89512356"
      },
      "source": [
        "from ipywidgets import interact, fixed\n",
        "\n",
        "interact(set_thres, y_val=fixed(y_val), y_pred_proba=fixed(y_pred_proba), thres=(0,1,.1));"
      ],
      "execution_count": 71,
      "outputs": [
        {
          "output_type": "display_data",
          "data": {
            "application/vnd.jupyter.widget-view+json": {
              "model_id": "991f9a8100e6404b993f577234bda46f",
              "version_minor": 0,
              "version_major": 2
            },
            "text/plain": [
              "interactive(children=(FloatSlider(value=0.5, description='thres', max=1.0), Output()), _dom_classes=('widget-i…"
            ]
          },
          "metadata": {
            "tags": []
          }
        }
      ]
    },
    {
      "cell_type": "code",
      "metadata": {
        "id": "SP2GBjnyFYvP",
        "colab_type": "code",
        "colab": {
          "base_uri": "https://localhost:8080/",
          "height": 419
        },
        "outputId": "278d97a4-4451-4ea2-e9f4-720f81187741"
      },
      "source": [
        "results = pd.DataFrame({'y_val':y_val, 'y_pred_proba':y_pred_proba})\n",
        "results"
      ],
      "execution_count": 77,
      "outputs": [
        {
          "output_type": "execute_result",
          "data": {
            "text/html": [
              "<div>\n",
              "<style scoped>\n",
              "    .dataframe tbody tr th:only-of-type {\n",
              "        vertical-align: middle;\n",
              "    }\n",
              "\n",
              "    .dataframe tbody tr th {\n",
              "        vertical-align: top;\n",
              "    }\n",
              "\n",
              "    .dataframe thead th {\n",
              "        text-align: right;\n",
              "    }\n",
              "</style>\n",
              "<table border=\"1\" class=\"dataframe\">\n",
              "  <thead>\n",
              "    <tr style=\"text-align: right;\">\n",
              "      <th></th>\n",
              "      <th>y_val</th>\n",
              "      <th>y_pred_proba</th>\n",
              "    </tr>\n",
              "  </thead>\n",
              "  <tbody>\n",
              "    <tr>\n",
              "      <th>58046</th>\n",
              "      <td>True</td>\n",
              "      <td>1.00</td>\n",
              "    </tr>\n",
              "    <tr>\n",
              "      <th>41184</th>\n",
              "      <td>True</td>\n",
              "      <td>0.74</td>\n",
              "    </tr>\n",
              "    <tr>\n",
              "      <th>27587</th>\n",
              "      <td>False</td>\n",
              "      <td>0.10</td>\n",
              "    </tr>\n",
              "    <tr>\n",
              "      <th>53109</th>\n",
              "      <td>False</td>\n",
              "      <td>0.05</td>\n",
              "    </tr>\n",
              "    <tr>\n",
              "      <th>7245</th>\n",
              "      <td>True</td>\n",
              "      <td>0.55</td>\n",
              "    </tr>\n",
              "    <tr>\n",
              "      <th>...</th>\n",
              "      <td>...</td>\n",
              "      <td>...</td>\n",
              "    </tr>\n",
              "    <tr>\n",
              "      <th>18760</th>\n",
              "      <td>False</td>\n",
              "      <td>0.68</td>\n",
              "    </tr>\n",
              "    <tr>\n",
              "      <th>36059</th>\n",
              "      <td>True</td>\n",
              "      <td>0.88</td>\n",
              "    </tr>\n",
              "    <tr>\n",
              "      <th>4759</th>\n",
              "      <td>False</td>\n",
              "      <td>0.09</td>\n",
              "    </tr>\n",
              "    <tr>\n",
              "      <th>43621</th>\n",
              "      <td>False</td>\n",
              "      <td>0.59</td>\n",
              "    </tr>\n",
              "    <tr>\n",
              "      <th>45295</th>\n",
              "      <td>False</td>\n",
              "      <td>0.02</td>\n",
              "    </tr>\n",
              "  </tbody>\n",
              "</table>\n",
              "<p>14358 rows × 2 columns</p>\n",
              "</div>"
            ],
            "text/plain": [
              "       y_val  y_pred_proba\n",
              "58046   True          1.00\n",
              "41184   True          0.74\n",
              "27587  False          0.10\n",
              "53109  False          0.05\n",
              "7245    True          0.55\n",
              "...      ...           ...\n",
              "18760  False          0.68\n",
              "36059   True          0.88\n",
              "4759   False          0.09\n",
              "43621  False          0.59\n",
              "45295  False          0.02\n",
              "\n",
              "[14358 rows x 2 columns]"
            ]
          },
          "metadata": {
            "tags": []
          },
          "execution_count": 77
        }
      ]
    },
    {
      "cell_type": "code",
      "metadata": {
        "id": "wyqmthrvFkSs",
        "colab_type": "code",
        "colab": {
          "base_uri": "https://localhost:8080/",
          "height": 419
        },
        "outputId": "969600fe-0429-4a12-f496-3357dbac74d4"
      },
      "source": [
        "top2000 = results.sort_values(by='y_pred_proba', ascending=False)[:2000]\n",
        "top2000"
      ],
      "execution_count": 86,
      "outputs": [
        {
          "output_type": "execute_result",
          "data": {
            "text/html": [
              "<div>\n",
              "<style scoped>\n",
              "    .dataframe tbody tr th:only-of-type {\n",
              "        vertical-align: middle;\n",
              "    }\n",
              "\n",
              "    .dataframe tbody tr th {\n",
              "        vertical-align: top;\n",
              "    }\n",
              "\n",
              "    .dataframe thead th {\n",
              "        text-align: right;\n",
              "    }\n",
              "</style>\n",
              "<table border=\"1\" class=\"dataframe\">\n",
              "  <thead>\n",
              "    <tr style=\"text-align: right;\">\n",
              "      <th></th>\n",
              "      <th>y_val</th>\n",
              "      <th>y_pred_proba</th>\n",
              "    </tr>\n",
              "  </thead>\n",
              "  <tbody>\n",
              "    <tr>\n",
              "      <th>58046</th>\n",
              "      <td>True</td>\n",
              "      <td>1.00</td>\n",
              "    </tr>\n",
              "    <tr>\n",
              "      <th>6288</th>\n",
              "      <td>True</td>\n",
              "      <td>1.00</td>\n",
              "    </tr>\n",
              "    <tr>\n",
              "      <th>27470</th>\n",
              "      <td>True</td>\n",
              "      <td>1.00</td>\n",
              "    </tr>\n",
              "    <tr>\n",
              "      <th>41452</th>\n",
              "      <td>True</td>\n",
              "      <td>1.00</td>\n",
              "    </tr>\n",
              "    <tr>\n",
              "      <th>3337</th>\n",
              "      <td>True</td>\n",
              "      <td>1.00</td>\n",
              "    </tr>\n",
              "    <tr>\n",
              "      <th>...</th>\n",
              "      <td>...</td>\n",
              "      <td>...</td>\n",
              "    </tr>\n",
              "    <tr>\n",
              "      <th>30643</th>\n",
              "      <td>True</td>\n",
              "      <td>0.93</td>\n",
              "    </tr>\n",
              "    <tr>\n",
              "      <th>14010</th>\n",
              "      <td>True</td>\n",
              "      <td>0.93</td>\n",
              "    </tr>\n",
              "    <tr>\n",
              "      <th>22524</th>\n",
              "      <td>True</td>\n",
              "      <td>0.93</td>\n",
              "    </tr>\n",
              "    <tr>\n",
              "      <th>55253</th>\n",
              "      <td>True</td>\n",
              "      <td>0.93</td>\n",
              "    </tr>\n",
              "    <tr>\n",
              "      <th>39829</th>\n",
              "      <td>True</td>\n",
              "      <td>0.93</td>\n",
              "    </tr>\n",
              "  </tbody>\n",
              "</table>\n",
              "<p>2000 rows × 2 columns</p>\n",
              "</div>"
            ],
            "text/plain": [
              "       y_val  y_pred_proba\n",
              "58046   True          1.00\n",
              "6288    True          1.00\n",
              "27470   True          1.00\n",
              "41452   True          1.00\n",
              "3337    True          1.00\n",
              "...      ...           ...\n",
              "30643   True          0.93\n",
              "14010   True          0.93\n",
              "22524   True          0.93\n",
              "55253   True          0.93\n",
              "39829   True          0.93\n",
              "\n",
              "[2000 rows x 2 columns]"
            ]
          },
          "metadata": {
            "tags": []
          },
          "execution_count": 86
        }
      ]
    },
    {
      "cell_type": "markdown",
      "metadata": {
        "id": "8bcjuc2NuSQO",
        "colab_type": "text"
      },
      "source": [
        "Most of these top 2,000 waterpumps will be relevant recommendations, meaning `y_val==True`, meaning the waterpump is non-functional or needs repairs.\n",
        "\n",
        "Some of these top 2,000 waterpumps will be irrelevant recommendations, meaning `y_val==False`, meaning the waterpump is functional and does not need repairs.\n",
        "\n",
        "Let's look at a random sample of 50 out of these top 2,000:"
      ]
    },
    {
      "cell_type": "markdown",
      "metadata": {
        "id": "tjXK1-1guSQQ",
        "colab_type": "text"
      },
      "source": [
        "So how many of our recommendations were relevant? ..."
      ]
    },
    {
      "cell_type": "code",
      "metadata": {
        "id": "VI71LvvRuSQQ",
        "colab_type": "code",
        "colab": {
          "base_uri": "https://localhost:8080/",
          "height": 51
        },
        "outputId": "cb1a34ca-b40b-494e-cb62-5df0db583fcd"
      },
      "source": [
        "print(f'Baseline: {2000*0.46} waterpump repairs in 2000 trips')\n",
        "print(f'Model: {top2000[\"y_val\"].sum()} waterpump repairs in 2000 trips')"
      ],
      "execution_count": 87,
      "outputs": [
        {
          "output_type": "stream",
          "text": [
            "Baseline: 920.0 waterpump repairs in 2000 trips\n",
            "Model: 1972 waterpump repairs in 2000 trips\n"
          ],
          "name": "stdout"
        }
      ]
    },
    {
      "cell_type": "markdown",
      "metadata": {
        "id": "tyLu-yeeuSQS",
        "colab_type": "text"
      },
      "source": [
        "What's the precision for this subset of 2,000 predictions?"
      ]
    },
    {
      "cell_type": "code",
      "metadata": {
        "id": "KoTA0cgEuSQS",
        "colab_type": "code",
        "colab": {
          "base_uri": "https://localhost:8080/",
          "height": 34
        },
        "outputId": "02897393-accd-46de-ca2b-dc7266faa9d8"
      },
      "source": [
        "relevant_recom = top2000[\"y_val\"].sum()\n",
        "n_trips = 2000\n",
        "\n",
        "precision_at_K = relevant_recom/n_trips\n",
        "precision_at_K"
      ],
      "execution_count": 88,
      "outputs": [
        {
          "output_type": "execute_result",
          "data": {
            "text/plain": [
              "0.986"
            ]
          },
          "metadata": {
            "tags": []
          },
          "execution_count": 88
        }
      ]
    },
    {
      "cell_type": "markdown",
      "metadata": {
        "colab_type": "text",
        "id": "top80m_Gn_jI"
      },
      "source": [
        "### In this scenario ... \n",
        "\n",
        "Accuracy _isn't_ the best metric!\n",
        "\n",
        "Instead, change the threshold, to change the number of positive predictions, based on the budget. (You have the time and resources to go to just 2,000 waterpumps for proactive maintenance.)\n",
        "\n",
        "Then, evaluate with the precision for \"non functional\"/\"functional needs repair\".\n",
        "\n",
        "This is conceptually like **Precision@K**, where k=2,000.\n",
        "\n",
        "Read more here: [Recall and Precision at k for Recommender Systems: Detailed Explanation with examples](https://medium.com/@m_n_malaeb/recall-and-precision-at-k-for-recommender-systems-618483226c54)\n",
        "\n",
        "> Precision at k is the proportion of recommended items in the top-k set that are relevant\n",
        "\n",
        "> Mathematically precision@k is defined as: `Precision@k = (# of recommended items @k that are relevant) / (# of recommended items @k)`\n",
        "\n",
        "> In the context of recommendation systems we are most likely interested in recommending top-N items to the user. So it makes more sense to compute precision and recall metrics in the first N items instead of all the items. Thus the notion of precision and recall at k where k is a user definable integer that is set by the user to match the top-N recommendations objective.\n",
        "\n",
        "We asked, can you do better than random at prioritizing inspections?\n",
        "\n",
        "If we had randomly chosen waterpumps to inspect, we estimate that only 920 waterpumps would be repaired after 2,000 maintenance visits. (46%)\n",
        "\n",
        "But using our predictive model, in the validation set, we succesfully identified over 1,900 waterpumps in need of repair!\n",
        "\n",
        "So we will use this predictive model with the dataset of over 14,000 waterpumps that we _do_ have some information about, but we _don't_ know whether they are currently functional, or functional but need repair, or non-functional.\n",
        "\n",
        "We will predict which 2,000 are most likely non-functional or in need of repair.\n",
        "\n",
        "We estimate that approximately 1,900 waterpumps will be repaired after these 2,000 maintenance visits.\n",
        "\n",
        "So we're confident that our predictive model will help triage and prioritize waterpump inspections."
      ]
    },
    {
      "cell_type": "markdown",
      "metadata": {
        "id": "yk-MMkA8uSQT",
        "colab_type": "text"
      },
      "source": [
        "### But ...\n",
        "\n",
        "This metric (~1,900 waterpumps repaired after 2,000 maintenance visits) is specific for _one_ classification problem and _one_ possible trade-off.\n",
        "\n",
        "Can we get an evaluation metric that is generic for _all_ classification problems and _all_ possible trade-offs?\n",
        "\n",
        "Yes — the most common such metric is **ROC AUC.**"
      ]
    },
    {
      "cell_type": "markdown",
      "metadata": {
        "id": "OVRaECReuSQU",
        "colab_type": "text"
      },
      "source": [
        "## Get ROC AUC (Receiver Operating Characteristic, Area Under the Curve)\n",
        "\n",
        "[Wikipedia explains,](https://en.wikipedia.org/wiki/Receiver_operating_characteristic) \"A receiver operating characteristic curve, or ROC curve, is a graphical plot that illustrates the diagnostic ability of a binary classifier system as its discrimination threshold is varied. **The ROC curve is created by plotting the true positive rate (TPR) against the false positive rate (FPR) at various threshold settings.**\"\n",
        "\n",
        "ROC AUC is the area under the ROC curve. [It can be interpreted](https://stats.stackexchange.com/questions/132777/what-does-auc-stand-for-and-what-is-it) as \"the expectation that a uniformly drawn random positive is ranked before a uniformly drawn random negative.\" \n",
        "\n",
        "ROC AUC measures **how well a classifier ranks predicted probabilities.** So, when you get your classifier’s ROC AUC score, you need to **use predicted probabilities, not discrete predictions.**\n",
        "\n",
        "ROC AUC ranges **from 0 to 1.** Higher is better. A naive majority class **baseline** will have an ROC AUC score of **0.5.** \n",
        "\n",
        "#### Scikit-Learn docs\n",
        "- [User Guide: Receiver operating characteristic (ROC)](https://scikit-learn.org/stable/modules/model_evaluation.html#receiver-operating-characteristic-roc)\n",
        "- [sklearn.metrics.roc_curve](https://scikit-learn.org/stable/modules/generated/sklearn.metrics.roc_curve.html)\n",
        "- [sklearn.metrics.roc_auc_score](https://scikit-learn.org/stable/modules/generated/sklearn.metrics.roc_auc_score.html)\n",
        "\n",
        "#### More links\n",
        "- [ROC curves and Area Under the Curve explained](https://www.dataschool.io/roc-curves-and-auc-explained/)\n",
        "- [The philosophical argument for using ROC curves](https://lukeoakdenrayner.wordpress.com/2018/01/07/the-philosophical-argument-for-using-roc-curves/)"
      ]
    },
    {
      "cell_type": "code",
      "metadata": {
        "id": "BPCN9I5EuSQU",
        "colab_type": "code",
        "colab": {}
      },
      "source": [
        "# \"The ROC curve is created by plotting the true positive rate (TPR) \n",
        "# against the false positive rate (FPR) \n",
        "# at various threshold settings.\"\n",
        "\n",
        "# Use scikit-learn to calculate TPR & FPR at various thresholds\n",
        "from sklearn.metrics import roc_curve\n",
        "fpr, tpr, thresholds = roc_curve(y_val, y_pred_proba)"
      ],
      "execution_count": 0,
      "outputs": []
    },
    {
      "cell_type": "code",
      "metadata": {
        "id": "e0NtGaVvuSQV",
        "colab_type": "code",
        "colab": {
          "base_uri": "https://localhost:8080/",
          "height": 419
        },
        "outputId": "65466402-a3b6-42b5-e2df-8c045741ba88"
      },
      "source": [
        "# See the results in a table\n",
        "pd.DataFrame({\n",
        "    'False Positive Rate': fpr, \n",
        "    'True Positive Rate': tpr, \n",
        "    'Threshold': thresholds\n",
        "})"
      ],
      "execution_count": 90,
      "outputs": [
        {
          "output_type": "execute_result",
          "data": {
            "text/html": [
              "<div>\n",
              "<style scoped>\n",
              "    .dataframe tbody tr th:only-of-type {\n",
              "        vertical-align: middle;\n",
              "    }\n",
              "\n",
              "    .dataframe tbody tr th {\n",
              "        vertical-align: top;\n",
              "    }\n",
              "\n",
              "    .dataframe thead th {\n",
              "        text-align: right;\n",
              "    }\n",
              "</style>\n",
              "<table border=\"1\" class=\"dataframe\">\n",
              "  <thead>\n",
              "    <tr style=\"text-align: right;\">\n",
              "      <th></th>\n",
              "      <th>False Positive Rate</th>\n",
              "      <th>True Positive Rate</th>\n",
              "      <th>Threshold</th>\n",
              "    </tr>\n",
              "  </thead>\n",
              "  <tbody>\n",
              "    <tr>\n",
              "      <th>0</th>\n",
              "      <td>0.000000</td>\n",
              "      <td>0.000000</td>\n",
              "      <td>2.00</td>\n",
              "    </tr>\n",
              "    <tr>\n",
              "      <th>1</th>\n",
              "      <td>0.000385</td>\n",
              "      <td>0.062652</td>\n",
              "      <td>1.00</td>\n",
              "    </tr>\n",
              "    <tr>\n",
              "      <th>2</th>\n",
              "      <td>0.000641</td>\n",
              "      <td>0.114787</td>\n",
              "      <td>0.99</td>\n",
              "    </tr>\n",
              "    <tr>\n",
              "      <th>3</th>\n",
              "      <td>0.000769</td>\n",
              "      <td>0.155793</td>\n",
              "      <td>0.98</td>\n",
              "    </tr>\n",
              "    <tr>\n",
              "      <th>4</th>\n",
              "      <td>0.001282</td>\n",
              "      <td>0.196037</td>\n",
              "      <td>0.97</td>\n",
              "    </tr>\n",
              "    <tr>\n",
              "      <th>...</th>\n",
              "      <td>...</td>\n",
              "      <td>...</td>\n",
              "      <td>...</td>\n",
              "    </tr>\n",
              "    <tr>\n",
              "      <th>102</th>\n",
              "      <td>0.882662</td>\n",
              "      <td>0.996341</td>\n",
              "      <td>0.04</td>\n",
              "    </tr>\n",
              "    <tr>\n",
              "      <th>103</th>\n",
              "      <td>0.904976</td>\n",
              "      <td>0.997104</td>\n",
              "      <td>0.03</td>\n",
              "    </tr>\n",
              "    <tr>\n",
              "      <th>104</th>\n",
              "      <td>0.930239</td>\n",
              "      <td>0.998171</td>\n",
              "      <td>0.02</td>\n",
              "    </tr>\n",
              "    <tr>\n",
              "      <th>105</th>\n",
              "      <td>0.954604</td>\n",
              "      <td>0.998933</td>\n",
              "      <td>0.01</td>\n",
              "    </tr>\n",
              "    <tr>\n",
              "      <th>106</th>\n",
              "      <td>1.000000</td>\n",
              "      <td>1.000000</td>\n",
              "      <td>0.00</td>\n",
              "    </tr>\n",
              "  </tbody>\n",
              "</table>\n",
              "<p>107 rows × 3 columns</p>\n",
              "</div>"
            ],
            "text/plain": [
              "     False Positive Rate  True Positive Rate  Threshold\n",
              "0               0.000000            0.000000       2.00\n",
              "1               0.000385            0.062652       1.00\n",
              "2               0.000641            0.114787       0.99\n",
              "3               0.000769            0.155793       0.98\n",
              "4               0.001282            0.196037       0.97\n",
              "..                   ...                 ...        ...\n",
              "102             0.882662            0.996341       0.04\n",
              "103             0.904976            0.997104       0.03\n",
              "104             0.930239            0.998171       0.02\n",
              "105             0.954604            0.998933       0.01\n",
              "106             1.000000            1.000000       0.00\n",
              "\n",
              "[107 rows x 3 columns]"
            ]
          },
          "metadata": {
            "tags": []
          },
          "execution_count": 90
        }
      ]
    },
    {
      "cell_type": "code",
      "metadata": {
        "id": "6oUCDfqAuSQX",
        "colab_type": "code",
        "colab": {
          "base_uri": "https://localhost:8080/",
          "height": 295
        },
        "outputId": "0339e388-d4e6-4ae9-d91b-c5d8f05ea37f"
      },
      "source": [
        "# See the results on a plot. \n",
        "# This is the \"Receiver Operating Characteristic\" curve\n",
        "plt.scatter(fpr, tpr)\n",
        "plt.title('ROC curve')\n",
        "plt.xlabel('False Positive Rate')\n",
        "plt.ylabel('True Positive Rate');"
      ],
      "execution_count": 91,
      "outputs": [
        {
          "output_type": "display_data",
          "data": {
            "image/png": "[encoded data removed]",
            "text/plain": [
              "<Figure size 432x288 with 1 Axes>"
            ]
          },
          "metadata": {
            "tags": [],
            "needs_background": "light"
          }
        }
      ]
    },
    {
      "cell_type": "code",
      "metadata": {
        "id": "mN2UWrW4uSQZ",
        "colab_type": "code",
        "colab": {
          "base_uri": "https://localhost:8080/",
          "height": 34
        },
        "outputId": "9bc91447-f1d4-4947-c401-bd0c193e1300"
      },
      "source": [
        "# Use scikit-learn to calculate the area under the curve.\n",
        "from sklearn.metrics import roc_auc_score\n",
        "roc_auc_score(y_val, y_pred_proba)"
      ],
      "execution_count": 92,
      "outputs": [
        {
          "output_type": "execute_result",
          "data": {
            "text/plain": [
              "0.9024268359147749"
            ]
          },
          "metadata": {
            "tags": []
          },
          "execution_count": 92
        }
      ]
    },
    {
      "cell_type": "markdown",
      "metadata": {
        "id": "Q7QfRABBuSQb",
        "colab_type": "text"
      },
      "source": [
        "**Recap:** ROC AUC measures how well a classifier ranks predicted probabilities. So, when you get your classifier’s ROC AUC score, you need to use predicted probabilities, not discrete predictions. \n",
        "\n",
        "Your code may look something like this:\n",
        "\n",
        "```python\n",
        "from sklearn.metrics import roc_auc_score\n",
        "y_pred_proba = model.predict_proba(X_test_transformed)[:, -1] # Probability for last class\n",
        "print('Test ROC AUC:', roc_auc_score(y_test, y_pred_proba))\n",
        "```\n",
        "\n",
        "ROC AUC ranges from 0 to 1. Higher is better. A naive majority class baseline will have an ROC AUC score of 0.5."
      ]
    }
  ]
}