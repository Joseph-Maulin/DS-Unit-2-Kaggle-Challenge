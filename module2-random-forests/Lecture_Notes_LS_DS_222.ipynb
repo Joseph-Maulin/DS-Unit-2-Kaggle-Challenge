{
  "nbformat": 4,
  "nbformat_minor": 0,
  "metadata": {
    "kernelspec": {
      "display_name": "Python 3",
      "language": "python",
      "name": "python3"
    },
    "language_info": {
      "codemirror_mode": {
        "name": "ipython",
        "version": 3
      },
      "file_extension": ".py",
      "mimetype": "text/x-python",
      "name": "python",
      "nbconvert_exporter": "python",
      "pygments_lexer": "ipython3",
      "version": "3.7.3"
    },
    "colab": {
      "name": "LS_DS_222.ipynb",
      "provenance": []
    },
    "widgets": {
      "application/vnd.jupyter.widget-state+json": {
        "b22596c114754eefbfc932589f78d528": {
          "model_module": "@jupyter-widgets/controls",
          "model_name": "VBoxModel",
          "state": {
            "_view_name": "VBoxView",
            "_dom_classes": [
              "widget-interact"
            ],
            "_model_name": "VBoxModel",
            "_view_module": "@jupyter-widgets/controls",
            "_model_module_version": "1.5.0",
            "_view_count": null,
            "_view_module_version": "1.5.0",
            "box_style": "",
            "layout": "IPY_MODEL_012aa1ffad004397b8bea66039ffe18b",
            "_model_module": "@jupyter-widgets/controls",
            "children": [
              "IPY_MODEL_d3dba8ddf32943e4b70bab02543203aa",
              "IPY_MODEL_9836e84ab14a4be1a597597a86b7b959",
              "IPY_MODEL_588d445333794524947afc5f9d86faa4"
            ]
          }
        },
        "012aa1ffad004397b8bea66039ffe18b": {
          "model_module": "@jupyter-widgets/base",
          "model_name": "LayoutModel",
          "state": {
            "_view_name": "LayoutView",
            "grid_template_rows": null,
            "right": null,
            "justify_content": null,
            "_view_module": "@jupyter-widgets/base",
            "overflow": null,
            "_model_module_version": "1.2.0",
            "_view_count": null,
            "flex_flow": null,
            "width": null,
            "min_width": null,
            "border": null,
            "align_items": null,
            "bottom": null,
            "_model_module": "@jupyter-widgets/base",
            "top": null,
            "grid_column": null,
            "overflow_y": null,
            "overflow_x": null,
            "grid_auto_flow": null,
            "grid_area": null,
            "grid_template_columns": null,
            "flex": null,
            "_model_name": "LayoutModel",
            "justify_items": null,
            "grid_row": null,
            "max_height": null,
            "align_content": null,
            "visibility": null,
            "align_self": null,
            "height": null,
            "min_height": null,
            "padding": null,
            "grid_auto_rows": null,
            "grid_gap": null,
            "max_width": null,
            "order": null,
            "_view_module_version": "1.2.0",
            "grid_template_areas": null,
            "object_position": null,
            "object_fit": null,
            "grid_auto_columns": null,
            "margin": null,
            "display": null,
            "left": null
          }
        },
        "d3dba8ddf32943e4b70bab02543203aa": {
          "model_module": "@jupyter-widgets/controls",
          "model_name": "IntSliderModel",
          "state": {
            "_view_name": "IntSliderView",
            "style": "IPY_MODEL_82829ec7a5fd4ba292650c20f94a0334",
            "_dom_classes": [],
            "description": "max_depth",
            "step": 1,
            "_model_name": "IntSliderModel",
            "orientation": "horizontal",
            "max": 6,
            "_view_module": "@jupyter-widgets/controls",
            "_model_module_version": "1.5.0",
            "value": 4,
            "_view_count": null,
            "disabled": false,
            "_view_module_version": "1.5.0",
            "min": 1,
            "continuous_update": true,
            "readout_format": "d",
            "description_tooltip": null,
            "readout": true,
            "_model_module": "@jupyter-widgets/controls",
            "layout": "IPY_MODEL_70bc8362d1a64bb7ba0c7cff8661c17d"
          }
        },
        "9836e84ab14a4be1a597597a86b7b959": {
          "model_module": "@jupyter-widgets/controls",
          "model_name": "IntSliderModel",
          "state": {
            "_view_name": "IntSliderView",
            "style": "IPY_MODEL_075d1aa607bc40f18d8bf7065c740a7f",
            "_dom_classes": [],
            "description": "n_estimators",
            "step": 10,
            "_model_name": "IntSliderModel",
            "orientation": "horizontal",
            "max": 40,
            "_view_module": "@jupyter-widgets/controls",
            "_model_module_version": "1.5.0",
            "value": 20,
            "_view_count": null,
            "disabled": false,
            "_view_module_version": "1.5.0",
            "min": 10,
            "continuous_update": true,
            "readout_format": "d",
            "description_tooltip": null,
            "readout": true,
            "_model_module": "@jupyter-widgets/controls",
            "layout": "IPY_MODEL_e4d2560234ab4c868fdf7bd5e00b40d5"
          }
        },
        "588d445333794524947afc5f9d86faa4": {
          "model_module": "@jupyter-widgets/output",
          "model_name": "OutputModel",
          "state": {
            "_view_name": "OutputView",
            "msg_id": "",
            "_dom_classes": [],
            "_model_name": "OutputModel",
            "outputs": [
              {
                "output_type": "display_data",
                "metadata": {
                  "tags": []
                },
                "image/png": "iVBORw0KGgoAAAANSUhEUgAAAYIAAAEWCAYAAABrDZDcAAAABHNCSVQICAgIfAhkiAAAAAlwSFlz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\n",
                "text/plain": "<Figure size 432x288 with 1 Axes>"
              },
              {
                "output_type": "display_data",
                "metadata": {
                  "tags": []
                },
                "image/png": "iVBORw0KGgoAAAANSUhEUgAAAYIAAAEWCAYAAABrDZDcAAAABHNCSVQICAgIfAhkiAAAAAlwSFlz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\nrkJggg==\n",
                "text/plain": "<Figure size 432x288 with 1 Axes>"
              }
            ],
            "_view_module": "@jupyter-widgets/output",
            "_model_module_version": "1.0.0",
            "_view_count": null,
            "_view_module_version": "1.0.0",
            "layout": "IPY_MODEL_c672004e9545494684db7fe72d79ee70",
            "_model_module": "@jupyter-widgets/output"
          }
        },
        "82829ec7a5fd4ba292650c20f94a0334": {
          "model_module": "@jupyter-widgets/controls",
          "model_name": "SliderStyleModel",
          "state": {
            "_view_name": "StyleView",
            "handle_color": null,
            "_model_name": "SliderStyleModel",
            "description_width": "",
            "_view_module": "@jupyter-widgets/base",
            "_model_module_version": "1.5.0",
            "_view_count": null,
            "_view_module_version": "1.2.0",
            "_model_module": "@jupyter-widgets/controls"
          }
        },
        "70bc8362d1a64bb7ba0c7cff8661c17d": {
          "model_module": "@jupyter-widgets/base",
          "model_name": "LayoutModel",
          "state": {
            "_view_name": "LayoutView",
            "grid_template_rows": null,
            "right": null,
            "justify_content": null,
            "_view_module": "@jupyter-widgets/base",
            "overflow": null,
            "_model_module_version": "1.2.0",
            "_view_count": null,
            "flex_flow": null,
            "width": null,
            "min_width": null,
            "border": null,
            "align_items": null,
            "bottom": null,
            "_model_module": "@jupyter-widgets/base",
            "top": null,
            "grid_column": null,
            "overflow_y": null,
            "overflow_x": null,
            "grid_auto_flow": null,
            "grid_area": null,
            "grid_template_columns": null,
            "flex": null,
            "_model_name": "LayoutModel",
            "justify_items": null,
            "grid_row": null,
            "max_height": null,
            "align_content": null,
            "visibility": null,
            "align_self": null,
            "height": null,
            "min_height": null,
            "padding": null,
            "grid_auto_rows": null,
            "grid_gap": null,
            "max_width": null,
            "order": null,
            "_view_module_version": "1.2.0",
            "grid_template_areas": null,
            "object_position": null,
            "object_fit": null,
            "grid_auto_columns": null,
            "margin": null,
            "display": null,
            "left": null
          }
        },
        "075d1aa607bc40f18d8bf7065c740a7f": {
          "model_module": "@jupyter-widgets/controls",
          "model_name": "SliderStyleModel",
          "state": {
            "_view_name": "StyleView",
            "handle_color": null,
            "_model_name": "SliderStyleModel",
            "description_width": "",
            "_view_module": "@jupyter-widgets/base",
            "_model_module_version": "1.5.0",
            "_view_count": null,
            "_view_module_version": "1.2.0",
            "_model_module": "@jupyter-widgets/controls"
          }
        },
        "e4d2560234ab4c868fdf7bd5e00b40d5": {
          "model_module": "@jupyter-widgets/base",
          "model_name": "LayoutModel",
          "state": {
            "_view_name": "LayoutView",
            "grid_template_rows": null,
            "right": null,
            "justify_content": null,
            "_view_module": "@jupyter-widgets/base",
            "overflow": null,
            "_model_module_version": "1.2.0",
            "_view_count": null,
            "flex_flow": null,
            "width": null,
            "min_width": null,
            "border": null,
            "align_items": null,
            "bottom": null,
            "_model_module": "@jupyter-widgets/base",
            "top": null,
            "grid_column": null,
            "overflow_y": null,
            "overflow_x": null,
            "grid_auto_flow": null,
            "grid_area": null,
            "grid_template_columns": null,
            "flex": null,
            "_model_name": "LayoutModel",
            "justify_items": null,
            "grid_row": null,
            "max_height": null,
            "align_content": null,
            "visibility": null,
            "align_self": null,
            "height": null,
            "min_height": null,
            "padding": null,
            "grid_auto_rows": null,
            "grid_gap": null,
            "max_width": null,
            "order": null,
            "_view_module_version": "1.2.0",
            "grid_template_areas": null,
            "object_position": null,
            "object_fit": null,
            "grid_auto_columns": null,
            "margin": null,
            "display": null,
            "left": null
          }
        },
        "c672004e9545494684db7fe72d79ee70": {
          "model_module": "@jupyter-widgets/base",
          "model_name": "LayoutModel",
          "state": {
            "_view_name": "LayoutView",
            "grid_template_rows": null,
            "right": null,
            "justify_content": null,
            "_view_module": "@jupyter-widgets/base",
            "overflow": null,
            "_model_module_version": "1.2.0",
            "_view_count": null,
            "flex_flow": null,
            "width": null,
            "min_width": null,
            "border": null,
            "align_items": null,
            "bottom": null,
            "_model_module": "@jupyter-widgets/base",
            "top": null,
            "grid_column": null,
            "overflow_y": null,
            "overflow_x": null,
            "grid_auto_flow": null,
            "grid_area": null,
            "grid_template_columns": null,
            "flex": null,
            "_model_name": "LayoutModel",
            "justify_items": null,
            "grid_row": null,
            "max_height": null,
            "align_content": null,
            "visibility": null,
            "align_self": null,
            "height": null,
            "min_height": null,
            "padding": null,
            "grid_auto_rows": null,
            "grid_gap": null,
            "max_width": null,
            "order": null,
            "_view_module_version": "1.2.0",
            "grid_template_areas": null,
            "object_position": null,
            "object_fit": null,
            "grid_auto_columns": null,
            "margin": null,
            "display": null,
            "left": null
          }
        },
        "7227ae953c2a469b9157a6983d6649d6": {
          "model_module": "@jupyter-widgets/controls",
          "model_name": "VBoxModel",
          "state": {
            "_view_name": "VBoxView",
            "_dom_classes": [
              "widget-interact"
            ],
            "_model_name": "VBoxModel",
            "_view_module": "@jupyter-widgets/controls",
            "_model_module_version": "1.5.0",
            "_view_count": null,
            "_view_module_version": "1.5.0",
            "box_style": "",
            "layout": "IPY_MODEL_91bb0254bbcd43679289b6b7b4acd9a5",
            "_model_module": "@jupyter-widgets/controls",
            "children": [
              "IPY_MODEL_4b86dfb4a4d74738a726e3172c3ae727",
              "IPY_MODEL_ff0a3118c4904a8d8418546c42117d21",
              "IPY_MODEL_33224f9237fa4a58994ceac3f3e48c31"
            ]
          }
        },
        "91bb0254bbcd43679289b6b7b4acd9a5": {
          "model_module": "@jupyter-widgets/base",
          "model_name": "LayoutModel",
          "state": {
            "_view_name": "LayoutView",
            "grid_template_rows": null,
            "right": null,
            "justify_content": null,
            "_view_module": "@jupyter-widgets/base",
            "overflow": null,
            "_model_module_version": "1.2.0",
            "_view_count": null,
            "flex_flow": null,
            "width": null,
            "min_width": null,
            "border": null,
            "align_items": null,
            "bottom": null,
            "_model_module": "@jupyter-widgets/base",
            "top": null,
            "grid_column": null,
            "overflow_y": null,
            "overflow_x": null,
            "grid_auto_flow": null,
            "grid_area": null,
            "grid_template_columns": null,
            "flex": null,
            "_model_name": "LayoutModel",
            "justify_items": null,
            "grid_row": null,
            "max_height": null,
            "align_content": null,
            "visibility": null,
            "align_self": null,
            "height": null,
            "min_height": null,
            "padding": null,
            "grid_auto_rows": null,
            "grid_gap": null,
            "max_width": null,
            "order": null,
            "_view_module_version": "1.2.0",
            "grid_template_areas": null,
            "object_position": null,
            "object_fit": null,
            "grid_auto_columns": null,
            "margin": null,
            "display": null,
            "left": null
          }
        },
        "4b86dfb4a4d74738a726e3172c3ae727": {
          "model_module": "@jupyter-widgets/controls",
          "model_name": "IntSliderModel",
          "state": {
            "_view_name": "IntSliderView",
            "style": "IPY_MODEL_084595fffd8147249ba85bed9534e127",
            "_dom_classes": [],
            "description": "max_depth",
            "step": 1,
            "_model_name": "IntSliderModel",
            "orientation": "horizontal",
            "max": 6,
            "_view_module": "@jupyter-widgets/controls",
            "_model_module_version": "1.5.0",
            "value": 6,
            "_view_count": null,
            "disabled": false,
            "_view_module_version": "1.5.0",
            "min": 1,
            "continuous_update": true,
            "readout_format": "d",
            "description_tooltip": null,
            "readout": true,
            "_model_module": "@jupyter-widgets/controls",
            "layout": "IPY_MODEL_c84e39b390594f0393ecbd3a24df06c5"
          }
        },
        "ff0a3118c4904a8d8418546c42117d21": {
          "model_module": "@jupyter-widgets/controls",
          "model_name": "IntSliderModel",
          "state": {
            "_view_name": "IntSliderView",
            "style": "IPY_MODEL_401342bb21b14c0d8859d14d7c5b1dfb",
            "_dom_classes": [],
            "description": "n_estimators",
            "step": 1,
            "_model_name": "IntSliderModel",
            "orientation": "horizontal",
            "max": 5,
            "_view_module": "@jupyter-widgets/controls",
            "_model_module_version": "1.5.0",
            "value": 2,
            "_view_count": null,
            "disabled": false,
            "_view_module_version": "1.5.0",
            "min": 2,
            "continuous_update": true,
            "readout_format": "d",
            "description_tooltip": null,
            "readout": true,
            "_model_module": "@jupyter-widgets/controls",
            "layout": "IPY_MODEL_248338d01878405d8c851543d10209f6"
          }
        },
        "33224f9237fa4a58994ceac3f3e48c31": {
          "model_module": "@jupyter-widgets/output",
          "model_name": "OutputModel",
          "state": {
            "_view_name": "OutputView",
            "msg_id": "",
            "_dom_classes": [],
            "_model_name": "OutputModel",
            "outputs": [
              {
                "output_type": "display_data",
                "metadata": {
                  "tags": []
                },
                "image/png": "iVBORw0KGgoAAAANSUhEUgAAAYIAAAEWCAYAAABrDZDcAAAABHNCSVQICAgIfAhkiAAAAAlwSFlz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\nnBOBmVnJ/X/1x1YZ6t4b2AAAAABJRU5ErkJggg==\n",
                "text/plain": "<Figure size 432x288 with 1 Axes>"
              },
              {
                "output_type": "display_data",
                "metadata": {
                  "tags": []
                },
                "image/png": "iVBORw0KGgoAAAANSUhEUgAAAYIAAAEWCAYAAABrDZDcAAAABHNCSVQICAgIfAhkiAAAAAlwSFlz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\n/wHZBsH1uUa/2QAAAABJRU5ErkJggg==\n",
                "text/plain": "<Figure size 432x288 with 1 Axes>"
              },
              {
                "output_type": "display_data",
                "metadata": {
                  "tags": []
                },
                "image/png": "iVBORw0KGgoAAAANSUhEUgAAAYIAAAEWCAYAAABrDZDcAAAABHNCSVQICAgIfAhkiAAAAAlwSFlz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\nuddbjwAAAABJRU5ErkJggg==\n",
                "text/plain": "<Figure size 432x288 with 1 Axes>"
              }
            ],
            "_view_module": "@jupyter-widgets/output",
            "_model_module_version": "1.0.0",
            "_view_count": null,
            "_view_module_version": "1.0.0",
            "layout": "IPY_MODEL_10362b04e45f472ba77ee3837b7d627c",
            "_model_module": "@jupyter-widgets/output"
          }
        },
        "084595fffd8147249ba85bed9534e127": {
          "model_module": "@jupyter-widgets/controls",
          "model_name": "SliderStyleModel",
          "state": {
            "_view_name": "StyleView",
            "handle_color": null,
            "_model_name": "SliderStyleModel",
            "description_width": "",
            "_view_module": "@jupyter-widgets/base",
            "_model_module_version": "1.5.0",
            "_view_count": null,
            "_view_module_version": "1.2.0",
            "_model_module": "@jupyter-widgets/controls"
          }
        },
        "c84e39b390594f0393ecbd3a24df06c5": {
          "model_module": "@jupyter-widgets/base",
          "model_name": "LayoutModel",
          "state": {
            "_view_name": "LayoutView",
            "grid_template_rows": null,
            "right": null,
            "justify_content": null,
            "_view_module": "@jupyter-widgets/base",
            "overflow": null,
            "_model_module_version": "1.2.0",
            "_view_count": null,
            "flex_flow": null,
            "width": null,
            "min_width": null,
            "border": null,
            "align_items": null,
            "bottom": null,
            "_model_module": "@jupyter-widgets/base",
            "top": null,
            "grid_column": null,
            "overflow_y": null,
            "overflow_x": null,
            "grid_auto_flow": null,
            "grid_area": null,
            "grid_template_columns": null,
            "flex": null,
            "_model_name": "LayoutModel",
            "justify_items": null,
            "grid_row": null,
            "max_height": null,
            "align_content": null,
            "visibility": null,
            "align_self": null,
            "height": null,
            "min_height": null,
            "padding": null,
            "grid_auto_rows": null,
            "grid_gap": null,
            "max_width": null,
            "order": null,
            "_view_module_version": "1.2.0",
            "grid_template_areas": null,
            "object_position": null,
            "object_fit": null,
            "grid_auto_columns": null,
            "margin": null,
            "display": null,
            "left": null
          }
        },
        "401342bb21b14c0d8859d14d7c5b1dfb": {
          "model_module": "@jupyter-widgets/controls",
          "model_name": "SliderStyleModel",
          "state": {
            "_view_name": "StyleView",
            "handle_color": null,
            "_model_name": "SliderStyleModel",
            "description_width": "",
            "_view_module": "@jupyter-widgets/base",
            "_model_module_version": "1.5.0",
            "_view_count": null,
            "_view_module_version": "1.2.0",
            "_model_module": "@jupyter-widgets/controls"
          }
        },
        "248338d01878405d8c851543d10209f6": {
          "model_module": "@jupyter-widgets/base",
          "model_name": "LayoutModel",
          "state": {
            "_view_name": "LayoutView",
            "grid_template_rows": null,
            "right": null,
            "justify_content": null,
            "_view_module": "@jupyter-widgets/base",
            "overflow": null,
            "_model_module_version": "1.2.0",
            "_view_count": null,
            "flex_flow": null,
            "width": null,
            "min_width": null,
            "border": null,
            "align_items": null,
            "bottom": null,
            "_model_module": "@jupyter-widgets/base",
            "top": null,
            "grid_column": null,
            "overflow_y": null,
            "overflow_x": null,
            "grid_auto_flow": null,
            "grid_area": null,
            "grid_template_columns": null,
            "flex": null,
            "_model_name": "LayoutModel",
            "justify_items": null,
            "grid_row": null,
            "max_height": null,
            "align_content": null,
            "visibility": null,
            "align_self": null,
            "height": null,
            "min_height": null,
            "padding": null,
            "grid_auto_rows": null,
            "grid_gap": null,
            "max_width": null,
            "order": null,
            "_view_module_version": "1.2.0",
            "grid_template_areas": null,
            "object_position": null,
            "object_fit": null,
            "grid_auto_columns": null,
            "margin": null,
            "display": null,
            "left": null
          }
        },
        "10362b04e45f472ba77ee3837b7d627c": {
          "model_module": "@jupyter-widgets/base",
          "model_name": "LayoutModel",
          "state": {
            "_view_name": "LayoutView",
            "grid_template_rows": null,
            "right": null,
            "justify_content": null,
            "_view_module": "@jupyter-widgets/base",
            "overflow": null,
            "_model_module_version": "1.2.0",
            "_view_count": null,
            "flex_flow": null,
            "width": null,
            "min_width": null,
            "border": null,
            "align_items": null,
            "bottom": null,
            "_model_module": "@jupyter-widgets/base",
            "top": null,
            "grid_column": null,
            "overflow_y": null,
            "overflow_x": null,
            "grid_auto_flow": null,
            "grid_area": null,
            "grid_template_columns": null,
            "flex": null,
            "_model_name": "LayoutModel",
            "justify_items": null,
            "grid_row": null,
            "max_height": null,
            "align_content": null,
            "visibility": null,
            "align_self": null,
            "height": null,
            "min_height": null,
            "padding": null,
            "grid_auto_rows": null,
            "grid_gap": null,
            "max_width": null,
            "order": null,
            "_view_module_version": "1.2.0",
            "grid_template_areas": null,
            "object_position": null,
            "object_fit": null,
            "grid_auto_columns": null,
            "margin": null,
            "display": null,
            "left": null
          }
        },
        "8272abc82a434f51b7563d083d7128fc": {
          "model_module": "@jupyter-widgets/controls",
          "model_name": "VBoxModel",
          "state": {
            "_view_name": "VBoxView",
            "_dom_classes": [
              "widget-interact"
            ],
            "_model_name": "VBoxModel",
            "_view_module": "@jupyter-widgets/controls",
            "_model_module_version": "1.5.0",
            "_view_count": null,
            "_view_module_version": "1.5.0",
            "box_style": "",
            "layout": "IPY_MODEL_bd153e9a77084419828e07cd39f65dd1",
            "_model_module": "@jupyter-widgets/controls",
            "children": [
              "IPY_MODEL_740fbbb7d95947b1a69e1571337507ff",
              "IPY_MODEL_543743404a7648f59cd48c12f856a446",
              "IPY_MODEL_a06a03760b6549a4a8426da658c344b6"
            ]
          }
        },
        "bd153e9a77084419828e07cd39f65dd1": {
          "model_module": "@jupyter-widgets/base",
          "model_name": "LayoutModel",
          "state": {
            "_view_name": "LayoutView",
            "grid_template_rows": null,
            "right": null,
            "justify_content": null,
            "_view_module": "@jupyter-widgets/base",
            "overflow": null,
            "_model_module_version": "1.2.0",
            "_view_count": null,
            "flex_flow": null,
            "width": null,
            "min_width": null,
            "border": null,
            "align_items": null,
            "bottom": null,
            "_model_module": "@jupyter-widgets/base",
            "top": null,
            "grid_column": null,
            "overflow_y": null,
            "overflow_x": null,
            "grid_auto_flow": null,
            "grid_area": null,
            "grid_template_columns": null,
            "flex": null,
            "_model_name": "LayoutModel",
            "justify_items": null,
            "grid_row": null,
            "max_height": null,
            "align_content": null,
            "visibility": null,
            "align_self": null,
            "height": null,
            "min_height": null,
            "padding": null,
            "grid_auto_rows": null,
            "grid_gap": null,
            "max_width": null,
            "order": null,
            "_view_module_version": "1.2.0",
            "grid_template_areas": null,
            "object_position": null,
            "object_fit": null,
            "grid_auto_columns": null,
            "margin": null,
            "display": null,
            "left": null
          }
        },
        "740fbbb7d95947b1a69e1571337507ff": {
          "model_module": "@jupyter-widgets/controls",
          "model_name": "IntSliderModel",
          "state": {
            "_view_name": "IntSliderView",
            "style": "IPY_MODEL_4ca6b8bf11b545ae9fc3bfb0f3707b5a",
            "_dom_classes": [],
            "description": "max_depth",
            "step": 1,
            "_model_name": "IntSliderModel",
            "orientation": "horizontal",
            "max": 6,
            "_view_module": "@jupyter-widgets/controls",
            "_model_module_version": "1.5.0",
            "value": 6,
            "_view_count": null,
            "disabled": false,
            "_view_module_version": "1.5.0",
            "min": 1,
            "continuous_update": true,
            "readout_format": "d",
            "description_tooltip": null,
            "readout": true,
            "_model_module": "@jupyter-widgets/controls",
            "layout": "IPY_MODEL_94ae73c7eebc41e9ac376f283eb586f1"
          }
        },
        "543743404a7648f59cd48c12f856a446": {
          "model_module": "@jupyter-widgets/controls",
          "model_name": "IntSliderModel",
          "state": {
            "_view_name": "IntSliderView",
            "style": "IPY_MODEL_571db2e363434bea96c539b68cec1e7e",
            "_dom_classes": [],
            "description": "n_estimators",
            "step": 10,
            "_model_name": "IntSliderModel",
            "orientation": "horizontal",
            "max": 40,
            "_view_module": "@jupyter-widgets/controls",
            "_model_module_version": "1.5.0",
            "value": 20,
            "_view_count": null,
            "disabled": false,
            "_view_module_version": "1.5.0",
            "min": 10,
            "continuous_update": true,
            "readout_format": "d",
            "description_tooltip": null,
            "readout": true,
            "_model_module": "@jupyter-widgets/controls",
            "layout": "IPY_MODEL_196a725bc8af494bb3e5d5c68816e24f"
          }
        },
        "a06a03760b6549a4a8426da658c344b6": {
          "model_module": "@jupyter-widgets/output",
          "model_name": "OutputModel",
          "state": {
            "_view_name": "OutputView",
            "msg_id": "",
            "_dom_classes": [],
            "_model_name": "OutputModel",
            "outputs": [
              {
                "output_type": "display_data",
                "metadata": {
                  "tags": []
                },
                "image/png": "iVBORw0KGgoAAAANSUhEUgAAAVoAAAEFCAYAAACiiS9UAAAABHNCSVQICAgIfAhkiAAAAAlwSFlz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\n24krNGgRnWIAAAAASUVORK5CYII=\n",
                "text/plain": "<Figure size 432x288 with 2 Axes>"
              },
              {
                "output_type": "display_data",
                "metadata": {
                  "tags": []
                },
                "image/png": "iVBORw0KGgoAAAANSUhEUgAAAVoAAAEFCAYAAACiiS9UAAAABHNCSVQICAgIfAhkiAAAAAlwSFlz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\nHGjNzAr234eEBj+n5oE8AAAAAElFTkSuQmCC\n",
                "text/plain": "<Figure size 432x288 with 2 Axes>"
              },
              {
                "output_type": "display_data",
                "metadata": {
                  "tags": []
                },
                "image/png": "iVBORw0KGgoAAAANSUhEUgAAAVoAAAEFCAYAAACiiS9UAAAABHNCSVQICAgIfAhkiAAAAAlwSFlz\nAAALEgAACxIB0t1+/AAAADh0RVh0U29mdHdhcmUAbWF0cGxvdGxpYiB2ZXJzaW9uMy4yLjEsIGh0\ndHA6Ly9tYXRwbG90bGliLm9yZy+j8jraAAAeEklEQVR4nO3de7QlZX3m8e/TrYgIiKRJIjQ3AROQ\nGG+A0VnKiuggC2iSGAFvg6O2kuCK4g1HZQjRESUGQTHaGiCQCFGycDraBifeMA5KN+Cg3WrsNI10\ng0G5Yxugz/nNH1WH3n3Yl9r7VO16q+r5sM5id1Xtt2rf3nrqrfetUkRgZmbVWVT3BpiZtZ0rWjOz\nirmiNTOrmCtaM7OKuaI1M6uYK1ozs4q5om05SZ+U9L4JnrePpAckLa5iu1Ix6ftjNg65H21aJG0E\nXh8R/9KE9Uo6EvgasAUI4DbgnIi4uOxtNGsqJ1orw20RsTOwK/BW4NOSfqvslUh6TNllmk2DK9oG\nkPQ4SR+VdFv+91FJj+uZ/05Jt+fzXi8pJB2Yz7tE0vvzx0skfVHSPZLukvQtSYskXQbsA/xT3lzw\nTkn75eU8Jn/u7pIuztdxt6QvzN/OyKwC7gKenj9vkaQzJP27pDslfU7S7j3b/hpJt+Tz3idpo6Sj\n8nlnSbpS0t9Jug84RdITJf1N/no3S3r/XPOGpAMlfVPSvZJ+Iekf8umSdJ6kOyTdJ+n7kg6d//7k\n/36DpPX5+7NS0p4980LSmyT9JH8PL5Skkj5mazFXtM3wHuC5wDOA3wUOB94LIOlo4HTgKOBA4Mgh\n5bwN2ATsAfwG8D/I6sdXAz8FjouInSPiw32eexmwE/A04NeB8+YvkFeqxwNLgPX55DcDJwAvBPYE\n7gYuzJc/BPgE8ErgycATgb3mFbsMuBLYDfh74BJga/5anwm8BHh9vuxfAF8BngQsBT6WT38J8ALg\nqfk6Xg7c2Wf7fx/4YD7/ycAtwBXzFjsWOIxsR/Jy4L/OL8dsPle0zfBK4OyIuCMifg78OfDqfN7L\ngYsjYm1EbAHOGlLOw2QVyL4R8XBEfCsKNNJLejLwUuBNEXF3/txv9iyyp6R7gF8BVwGnR8SN+bw3\nAe+JiE0R8WC+fS/Lk/LLgH+KiH+NiIeAM8naeXtdGxFfiIhZsqaJY4C3RMQvI+IOsgr/pJ7Xty+w\nZ0T8Z0T8a8/0XYDfJjsv8cOIuL3PS30lcFFE3JBv67uB35O0X88y50TEPRHxU+DrZDs/s6Fc0TbD\nnmTpas4t+bS5ebf2zOt9PN+5ZEnzK5I2SDqj4Pr3Bu6KiLsHzL8tInYjqwgvAH6/Z96+wFX5ofY9\nwA+BGbJEvd225zuK+Umz9/XsCzwWuL2nvE+RJWyAdwICrpO0VtJ/z8v9GvBxsiR9h6QVknbt8zq2\ne58j4oF8e3pT9s96Hm8Bdu7/lpht44q2GW4jq2Tm7JNPA7id7DB5zt6DComI+yPibRHxFOB44HRJ\nL5qbPWT9twK7S9pt2EbmKfBdwO9IOqHnuS+NiN16/naMiM3zt13S44Ffm1/svO14EFjSU9auEfG0\nfP0/i4g3RMSewBuBT8y1VUfEBRHxbOAQsiaEd/R5Cdu9z5KekG/P5mGv22wUV7RpeqykHef+gMuB\n90raQ9ISskPsv8uX/RzwWkkHS9oJGNgnVNKx+QkjAfeSJcvZfPZ/AE/p97z8MPvLZBXXkyQ9VtIL\nBiz7EPCRfBsBPgl8QNK++TbsIWlZPu9K4DhJz5O0A1mzwsCTS/l2fAX4iKRd8zbhAyS9MC/7jyXN\nVdx3k1XSs5IOk3SEpMcCvwT+s+d197qc7L18hrKTjf8L+G5EbBy0TWZFuKJN0yqy9s65vx2BNcBN\nwPeBG4D3A0TEl8kO179O1izwnbyMB/uUexDwL8ADwLXAJyLi6/m8D5JV5vdIenuf576arK3zR8Ad\nwFuGbP9FwD6SjgPOB1aSNVfcn2/fEfm2ryU7WXYFWbp9IC+737bPeQ2wA7COrDK9kqzdGbKTVN+V\n9EC+zj+LiA1kTRqfzpe/haw54Nz5Bed9iN8H/GO+PQewrf3XbGIesNAykg4GfgA8LiK21r0945C0\nM3APcFBE3Fz39piVxYm2BST9gbK+tk8CPkR2Jr8Rlayk4yTtlLeH/iVZYt9Y71aZlcsVbTu8keyQ\n+9/J2l1PrXdzxrKM7CTUbWRNGycV6XJmVhVJF+WDW34wYL4kXZAPbLlJ0rNGlunvtJnZNvmJ3geA\nSyPi0D7zjyE7t3AM2fmG8yPiiGFlOtGamfWIiGvIhpEPsoysEo6I+A6wWz6oZ6BKLtJx9r6vdEyu\nUb9+S20y24KrC8wO7bacjmls5Qc2fnbBn+jDv9hQeFN32OOANwLLeyatiIgVY6xuL7YfSLMpn9Zv\ntCFQUUVrZpaqvFIdp2JdsEoq2hYEjqkrMzk0qT1okvS9KNEwOE7SXlTzr6Room7Mb3l2Zppr28z2\nIzCXMmL0YJN+k2Zm/c1sLf63cCuB1+S9D54L3DvgIkWPqCTRdqn2Lqs9tDHJYYhJgmbq35VxPt+6\nk3YbE3VR2cXdyiHpcrLLjS6RtAn4n2QXMyIiPkk2cvMYspGYW4DXjirTbbRm1nyz5VW0EXHyiPkB\n/Ok4ZVaUaKe/t6zrLG7qiWwSk35lU0/lTU/coz6XuhN1r1HpuvQ6osREWwUnWjNrvumeDBubK1oz\naz4n2umou3E/JQttRknpcHmUcX5eKX5Dxvmk6v5cUj4xGOX0JqhMaypaM+uwEk+GVcEDFhK00DDQ\n9HQ/TiKvO+UNUvRnn9InNepdT/W9Btx0YGZWuS6eDEt6z1eCqvedKaWchZqsS1X678Co1J3Kb6Dp\nbdiFOdGamVWsiyfDqjjjmNKl8VJJK9M2SWZI6GMbabweAGm8sqYka6j4SLCLJ8PMzKYpooNttFVI\naXhhE5VxRJBSOhqmDUOIi37d607WyfQQcRutmVnFuth0kFIyaLqygnwbjgiKpvImJO9R1UIqv6HR\nfWsT2VInWjOzis08XPcWDOWK1syar4tNB004dCuLBy+Mb9JWjNSbP8a7w0EamtKEMZKbDszMKtbF\nRNslqSSTurR9EEOvkSeGEkzco+900BKuaM3MqhVdPBnWmr1kx0ySCZr+WTf9oitNStmVDqN3G62Z\nWcW62HSQ0l607cpMCV1Kp3NSfc2tvHB4lfWCE62ZWcW6mGhT2svWrepw3/ajhyb2TS1iVLWQ4mtJ\nus+tE62ZWcW2dvDC37aN0/02E93WpkGJvenpu4kp+xFOtGZmFetiG62Z2VR1MdEmfYhhC9aGOxhM\nokmDA/pp9XBcJ1ozs4o50VoKyvwatunzbfsQ3F4pJe7Sh+O614GZWcUiob1IH9UMWEj7NScpKo5L\nbUqhg7RpCO6cpAcJDDH19my30ZqZVcwVrRXho4D+xkn6qafTfpo6SCC5pF3iyTBJRwPnA4uBz0TE\nOfPm7wP8LbBbvswZEbFqWJmuaM2s+WZmSilG0mLgQuDFwCZgtaSVEbGuZ7H3Ap+LiL+WdAiwCthv\nWLnudWBTM9Ftbxqa9Ism8VR/K41L2uU1HRwOrI+IDQCSrgCWAb0VbQC75o+fCNw2qlAnWjNrvjEq\nWknLgeU9k1ZExIr88V7ArT3zNgFHzCviLOArkt4MPAE4atQ6XdGaWfON0UabV6orRi442MnAJRHx\nEUm/B1wm6dCIwRvhpgMrbKEHZ236Xow8GZR4k8eopo2mfVYxW9obvhnYu+ffS/NpvV4HHA0QEddK\n2hFYAtwxqNCmvZ9mZo82O1v8b7jVwEGS9pe0A3ASsHLeMj8FXgQg6WBgR+Dnwwr1PcNaotI7jOba\nvlceJ7Gn/l40PXGPraReBxGxVdJpwNVkXbcuioi1ks4G1kTESuBtwKclvZXsxNgpEcOHprmN1sya\nr8QBC3mf2FXzpp3Z83gd8PxxynRF2xI+ithm0nSfekrt1bjuV5R7YaNHF+6RYWZm1erkRWWqKNQ6\nr+hPqQ3pvokX6a41ZTvRmplVrLzuXZVwP1qbmoVmjqYfKTX1It399Evctf7uS+p1UBUnWjNrvHDT\nwaOlvre2bcrsn9v2I53kLh24AI27EWUXmw7MzKaqizdnNDObqi4m2uQOKwqo+7Au1besiZ9lmcZp\nOmlS00ibmjkA2OqTYWZm1epi00Hj9oYJ8HtWvUnCeVMTfRMHPCxIF5sOzMymqZPduxYl2+JobTA7\nYf5v01FD47pfzVP6ZT2daM3MKuaKtpjU98BWnoWmmbYeMY2T1FNP51NP3B6Ca2ZWrRLvGVaJTvaj\nbd0Z15JVfVoh9e9HVUb3BGjOGzMqfU89cXexojUzm6pu9jqwJvPnV9xYN3RMO3Rtp3Hp24nWzKxi\nrmjNzKoVMx1sOpiTehcUs14TDdEtfSuma1D11KRmDsCJ1sysap3s3lVWkl2U+C2ELU2z8hDdwncM\nrnQrpqiLFa2Z2VSl3URb1YCFtPcurdmLt0xZv5XUv39lGJXa25TOi4itade0TrRm1nxp17MesJCi\naaaRlLKfvzfbjKo3mpjaJ207L6KTJ8PMzKaqi4l2lK61H6XMn8X0jJO5mpju60zhTrRmZlXrYqKt\nOiUld0EL65xJbqfT9KOHkRfznspW9Bdba1x5AU60ZtZ4id9tvJFNQWZm25sd428ESUdL+rGk9ZLO\nGLDMyyWtk7RW0mdHldn5u+A27uIZVqpJ71/WpO94UcndNWEMZSVaSYuBC4EXA5uA1ZJWRsS6nmUO\nAt4NPD8i7pb066PKdaI1s8aL2eJ/IxwOrI+IDRHxEHAFsGzeMm8ALoyIuwEi4o5RhVbaRuu0CGph\n8qlLVJCpuvQdbdxdE8YQM2PcQVhaDizvmbQiIlbkj/cCbu2Ztwk4Yl4RT83L+TawGDgrIv552Dp9\nMszMGm+cpoO8Ul0xcsHBHgMcBBwJLAWukfQ7EXHPsCeUbqEpwSnQ+vH34tHGSfltTu8xaWP7o20G\n9u7599J8Wq9NwHcj4mHgZkn/Rlbxrh5UqNtozazxSmyjXQ0cJGl/STsAJwEr5y3zBbI0i6QlZE0J\nG4YVWijRSjoO+FJEsYBeR/LwHsPapOiRsFN+JqKcRBsRWyWdBlxN1v56UUSslXQ2sCYiVubzXiJp\nHTADvCMi7hxWbtGmgxOBj0r6x3zFP5r4lZiZlazMAQsRsQpYNW/amT2PAzg9/yukUEUbEa+StCtw\nMnCJpAAuBi6PiPvnL9/EdNnEbbZmGacuaNP3cRqDtmbH6HVQh8KfZ0TcB1xJ1q/sycAfADdIenNF\n22ZmVkjMqvBfHYq20S4DTgEOBC4FDo+IOyTtBKwDPlbZFpqZjVBXBVpU0TbaPwTOi4hreidGxBZJ\nr5t05W06POrlExTttNABE238vhdpFpjG6079hhNF34Ofza9kJX0IICK+WvpWmZmNoRVNB2QXWHjX\nvGkv7TMNqGYP5pS4TRuTUZmqOvnSxe/gqBSfynexrO5dVRla0Uo6FfgT4ABJN/XM2gX4dpUbZmZW\n1EzivQ5GJdrPAl8GPgj0Xpfx/oi4a9CTUtrzp7LHtenxZz5a2wZENDrRkvXN3SjpT+fPkLT7sMrW\nzGxamt7r4LPAscD1ZLcM6n01ATyl6IqalDKashc36zXWBWYq3I46pN7rYGhFGxHH5v/ffzqbY2Y2\nvqYnWgAkfTUiXjRq2pyF7i2bniibfAFlS8s4d9tt+u9mIWZm087oo3od7AjsBCyR9CS2NR3sSnYl\ncjOz2jW66QB4I/AWYE+ydtq5ivY+4OODnjTNPWvb0+OitI+IbITZBX492/79Lstsk3sdRMT5wPmS\n3hwRyV3PwF9CM4Pmd+8CICI+Jul5wH69z4mISyvaLjOzwpredACApMuAA4DvkV1RHLLuXYUr2pTS\npw/H++viyZQq7qzby9+1hTefFFtH2m900WsdPAc4JL+yuJlZUhrd66DHD4DfBG4vsvAk6TX1PX8X\n014X+HOdzFiDI6bw2079Uyxa0S4B1km6DnhwbmJEHF/JVpmZjaEtTQdnjVNo1XuwJqWQtA9ozLYZ\n5/KSqf0G29Lr4JtVb4iZ2aSmcQPIhSja6+C5ZPcFOxjYgex+57+MiF2HPi+BvV7TE2V2w2GzyYyT\n9Jr8W6m698hCFW06+DhwEvB5sh4IrwGeWtVGmZmNY2sbmg4AImK9pMURMQNcLOlG4N39lp0kyda9\nN217clzU8tfXVgs9ydP27/WctiTaLZJ2AL4n6cNk3bzqrhvNzICWtNECryZrlz0NeCuwN/BHgxau\n5OaMCe2ZnQ6HSztblGNa3wB/14ppRaKNiFvyh78C/ry6zTEzG18rEq2km+mzE4+IwreyMTOrykwb\nEi1ZT4M5OwJ/DOw+zoqmeeif4uFW2l8DG5c/z4Up+xea+J1sCjcd3Dlv0kclXQ+cWf4mmZmNZ5xb\n/tShaNPBs3r+uYgs4Q587iTpta4UmvbHk2Y6N+tnnK5oZf/uUv+VFG06+AjbXstWYCNZ84GZWe1a\ncTIM+CJZRTu3IwrgWCn7Z0T8Ve/CVaSwupJn0xNlSt3irDkmuUhLnb+VWaV9bFq0on02cBjwv8nq\nvOOA64CfVLRdZmaFzYxepFZFK9qlwLMi4n4ASWcBX4qIVxVdUdX7m5SSZ9tTZErvtQ036RDepn2H\ny+x1IOlo4HyyQVqfiYhzBiz3R8CVwGERsWZYmUUr2t8AHur590P5NDOz2pXV60DSYuBC4MXAJmC1\npJURsW7ecrsAfwZ8t0i5RSvaS4HrJF2V//sE4JKBG1uw0F7TTEkp7a2dDotLvBluLNO6+15Xvl8l\nvsrDgfURsQFA0hXAMmDdvOX+AvgQ8I4ihRa6LEFEfAB4LXB3/vfaiPhgse02M6vWrIr/SVouaU3P\n3/KeovYCbu3596Z82iPy7q57R8SXim7fOJdJvAG4oejyZmbTMk73rohYAayYZD2SFgF/BZwyzvMK\nV7TjqKR7V8eH8PZq0yF0V/kzLNdMee/nZrKrE85Zmk+bswtwKPCNvHvrbwIrJR0/7IRYJRWtmdk0\nlThgYTVwkKT9ySrYk4BXzM2MiHvJ7goOgKRvAG8vq9fBglWdSGsbwtuQZJLSCUCzspVV0UbEVkmn\nAVeTde+6KCLWSjobWBMRKycp14nWzBqvzFuGRcQqYNW8aX0voBURRxYps5KKNsWLytSdPNuQKFNv\nu7Z0LPReZ2Ovb6prG58TrZk1XluG4I6lml4HpRc5ZF31Jre2J8e6jy5stIUOqJj2d7gVF/42M0uZ\nmw76qCLRdL2frVNicXUfsUxqkksXTqpp3ydXtGZmFUt911lRr4OFPr/8t839bLdpaqLrOn9ug7mN\n1sysYp3sdWBmNk2ziTceNHIIbhsHNzTpsDDFk4HWbT4ZZmZWsdR3/bUOwa0qGVWdSOtOn01PlFrU\n7O239DjRmplVbGvi4SPpIbhVJdO2XrKxny6lxxS70nXVtO6J9sj6pru6sTnRmlnjuemgj7KSR1XJ\ndKp35E0ocToRlqeOzzUS6rU/7e+Su3eZmVUs7Wo2oSG4TUqn00wrqafMlBJ513X5s3DTgZlZxWYS\nz7SVVrSpjgares9fy8iyhqaZuvskWzs40ZqZVSy6nGjNzKahk4m2jiG4ZR46Vz6Et+bD/DYdrqc0\nOMTq4+5dZmYVS7uaTX0IbgnJr5L7k021e1c6X6EupkctqnsLrIitiVe1TrRm1ng+GdbHQhNhmSm1\ninTa+TvyOgXalHXyZJiZ2TR1MtFOkhJTTaltuaRiE1JmSu3R1ixOtGZmFZuZ9gVwxzTFmzMu8PmJ\nptTKbxRZQxJtarKsu3+y1cf9aM3MKtbNNtpJLpO44J4IC3t+ZTeKrDiR1p0+25oiU788pW3PbbRm\nDeNKtnlSbzpowLloM7PhYoz/RpF0tKQfS1ov6Yw+80+XtE7STZK+KmnfUWVWez3ampsDoMzhwKUU\n8+hyp9a9K509vhPjNil9Lk1WVq8DSYuBC4EXA5uA1ZJWRsS6nsVuBJ4TEVsknQp8GDhxWLlOtGbW\neLNE4b8RDgfWR8SGiHgIuAJY1rtARHw9Irbk//wOsHRUobUOWJg0zZV7ecWSyqnsZNr0E0+qidPp\nzwYZ52SYpOXA8p5JKyJiRf54L+DWnnmbgCOGFPc64Muj1umTYWbWeON078or1RUjFxxB0quA5wAv\nHLVskvcMW2hiXWhKrSKdVpXGfH+y4Zq0rTa5EnsdbAb27vn30nzadiQdBbwHeGFEPDiqUCdaM2u8\nKG8I7mrgIEn7k1WwJwGv6F1A0jOBTwFHR8QdRQqt5VY2TU+s1VxasfQity+/pmTXpkSZatu1lXe7\n8YjYKuk04GpgMXBRRKyVdDawJiJWAucCOwOfV/al+GlEHD+sXCdaM2u8MgcsRMQqYNW8aWf2PD5q\n3DIrrWgnTa6TJNaUUmpTb5+TSvrsUnJM5T1vuhKbDirhRGtmjZf6EFxXtGbWeJ28eteoJoMmNg2k\negeIKsscuK5ED+19GF6eJtyRo5cv/G1mVrFONh1MK7GWkWDKSmelnkxrYPexgetNPGU2LblZf52s\naM3Mpsm9DvqYZnqt+15lTUyn9Q1uqGW1C1L3HS4s40RrZlaxTvY6mFZinTTZpZRSmzi4oe7k2dYU\nWff72mQzkfZdw5xozazx3EbbR/ELg1dbfmXPT77PbelFDl5XQunTifHRUu8VUpTbaM3MKtbNNtrE\n21unuX1lrX9wWaUVta3MmlJoiomzLYmv7WbddFAd/wjMDDqaaM3Mpsm9DnKTHHpPPEihhqaBVJsD\nqm4GqONwv0lHMik2h7SRmw7MzCrWyaaDqtNrExNr3fc5G1huxYmr7vTZqkSZUFe51DjRmplVrJOJ\ndpTCAxameCGZyduDJ3ratueXlFKqSm5TvaB4KunTyTGdz6KgmZipexOGcqI1s8br9BDcqtpdu5RY\ny0oW07mLbuWryFeU5o+qaSmwTTwE18ysYp1MtKPSU0oXlakjsZbaTzbR/rv9VzD9H0OTUmaTtjU1\n7nVgZlaxTvc6qKrddbILyYz9lOx5NSTW5FNqC0ebpbgNC9H07R+Xh+CaNUzXKqk26GQbrZnZNHWy\njXbkybCCzQTTOKnVxKaBUhNXBc0AU72DQ933L+tq+k3sdTvRmplVrNP9aKs6wTVJiph04MBE65ri\nybr+haV9Mq1LiXek1LevIZxozcwq1sleB6OSbPGLyky6/orTcR2JNdGUWv1lFqstv68GpczkE/uU\ndPJkmJnZNLnpIDd6WO4YZVXcU6CJiTXVlFp54nKvg/I0+LWUOTJM0tHA+cBi4DMRcc68+Y8DLgWe\nDdwJnBgRG4eV2eC31swsExGF/4aRtBi4EHgpcAhwsqRD5i32OuDuiDgQOA/40Kjtc0VrZo03G1H4\nb4TDgfURsSEiHgKuAJbNW2YZ8Lf54yuBF0nDz0xV0nSw9+qvLvAOXWZmxW19aHPhOkfScmB5z6QV\nEbEif7wXcGvPvE3AEfOKeGSZiNgq6V7g14BfDFqnT4aZWafkleqKkQuWyE0HZmbbbAb27vn30nxa\n32UkPQZ4ItlJsYFc0ZqZbbMaOEjS/pJ2AE4CVs5bZiXw3/LHLwO+FiPOsrnpwMwsl7e5ngZcTda9\n66KIWCvpbGBNRKwE/ga4TNJ64C6yyngopd7R16ZL0gMRsXPJZR4PHBIR50g6Afi3iFg3ZhnfAN4e\nEWvK3DazaXDTgVUuIlb2dPo+gax/ollnuKK1vpQ5V9IPJH1f0on59CMlfUPSlZJ+JOnv5/oQSjom\nn3a9pAskfTGffoqkj0t6HnA8cK6k70k6IC/rOflySyRtzB8/XtIVkn4o6Srg8T3b9hJJ10q6QdLn\nJZWawM3K5jZaG+QPgWcAvwssAVZLuiaf90zgacBtwLeB50taA3wKeEFE3Czp8vkFRsT/lbQS+GJE\nXAkwpJ/3qcCWiDhY0tOBG/LllwDvBY6KiF9KehdwOnB2GS/arAquaG2Q/wJcHhEzwH9I+iZwGHAf\ncF1EbAKQ9D1gP+ABYENE3Jw//3K27xQ+rhcAFwBExE2SbsqnP5es6eHbeSW9A3DtAtZjVjlXtDaJ\nB3sez7Cw79FWtjVh7VhgeQH/JyJOXsA6zabKbbQ2yLeAEyUtlrQHWcK8bsjyPwaeImm//N8nDlju\nfmCXnn9vJLsKEmR9EudcA7wCQNKhwNPz6d8ha6o4MJ/3BElPLfB6zGrjitYGuQq4Cfh/wNeAd0bE\nzwYtHBG/Av4E+GdJ15NVqPf2WfQK4B2SbpR0APCXwKmSbiRrC57z18DOkn5I1v56fb6enwOnAJfn\nzQnXAr+9kBdqVjX3o7XSSNo5Ih7IeyFcCPwkIs6re7vM6uZEa2V6Q35ybC3Z+O9P1bw9ZklwojUz\nq5gTrZlZxVzRmplVzBWtmVnFXNGamVXMFa2ZWcX+P26bI/d07XVXAAAAAElFTkSuQmCC\n",
                "text/plain": "<Figure size 432x288 with 2 Axes>"
              }
            ],
            "_view_module": "@jupyter-widgets/output",
            "_model_module_version": "1.0.0",
            "_view_count": null,
            "_view_module_version": "1.0.0",
            "layout": "IPY_MODEL_f8eb0ea7951d480cbf297778cec4b040",
            "_model_module": "@jupyter-widgets/output"
          }
        },
        "4ca6b8bf11b545ae9fc3bfb0f3707b5a": {
          "model_module": "@jupyter-widgets/controls",
          "model_name": "SliderStyleModel",
          "state": {
            "_view_name": "StyleView",
            "handle_color": null,
            "_model_name": "SliderStyleModel",
            "description_width": "",
            "_view_module": "@jupyter-widgets/base",
            "_model_module_version": "1.5.0",
            "_view_count": null,
            "_view_module_version": "1.2.0",
            "_model_module": "@jupyter-widgets/controls"
          }
        },
        "94ae73c7eebc41e9ac376f283eb586f1": {
          "model_module": "@jupyter-widgets/base",
          "model_name": "LayoutModel",
          "state": {
            "_view_name": "LayoutView",
            "grid_template_rows": null,
            "right": null,
            "justify_content": null,
            "_view_module": "@jupyter-widgets/base",
            "overflow": null,
            "_model_module_version": "1.2.0",
            "_view_count": null,
            "flex_flow": null,
            "width": null,
            "min_width": null,
            "border": null,
            "align_items": null,
            "bottom": null,
            "_model_module": "@jupyter-widgets/base",
            "top": null,
            "grid_column": null,
            "overflow_y": null,
            "overflow_x": null,
            "grid_auto_flow": null,
            "grid_area": null,
            "grid_template_columns": null,
            "flex": null,
            "_model_name": "LayoutModel",
            "justify_items": null,
            "grid_row": null,
            "max_height": null,
            "align_content": null,
            "visibility": null,
            "align_self": null,
            "height": null,
            "min_height": null,
            "padding": null,
            "grid_auto_rows": null,
            "grid_gap": null,
            "max_width": null,
            "order": null,
            "_view_module_version": "1.2.0",
            "grid_template_areas": null,
            "object_position": null,
            "object_fit": null,
            "grid_auto_columns": null,
            "margin": null,
            "display": null,
            "left": null
          }
        },
        "571db2e363434bea96c539b68cec1e7e": {
          "model_module": "@jupyter-widgets/controls",
          "model_name": "SliderStyleModel",
          "state": {
            "_view_name": "StyleView",
            "handle_color": null,
            "_model_name": "SliderStyleModel",
            "description_width": "",
            "_view_module": "@jupyter-widgets/base",
            "_model_module_version": "1.5.0",
            "_view_count": null,
            "_view_module_version": "1.2.0",
            "_model_module": "@jupyter-widgets/controls"
          }
        },
        "196a725bc8af494bb3e5d5c68816e24f": {
          "model_module": "@jupyter-widgets/base",
          "model_name": "LayoutModel",
          "state": {
            "_view_name": "LayoutView",
            "grid_template_rows": null,
            "right": null,
            "justify_content": null,
            "_view_module": "@jupyter-widgets/base",
            "overflow": null,
            "_model_module_version": "1.2.0",
            "_view_count": null,
            "flex_flow": null,
            "width": null,
            "min_width": null,
            "border": null,
            "align_items": null,
            "bottom": null,
            "_model_module": "@jupyter-widgets/base",
            "top": null,
            "grid_column": null,
            "overflow_y": null,
            "overflow_x": null,
            "grid_auto_flow": null,
            "grid_area": null,
            "grid_template_columns": null,
            "flex": null,
            "_model_name": "LayoutModel",
            "justify_items": null,
            "grid_row": null,
            "max_height": null,
            "align_content": null,
            "visibility": null,
            "align_self": null,
            "height": null,
            "min_height": null,
            "padding": null,
            "grid_auto_rows": null,
            "grid_gap": null,
            "max_width": null,
            "order": null,
            "_view_module_version": "1.2.0",
            "grid_template_areas": null,
            "object_position": null,
            "object_fit": null,
            "grid_auto_columns": null,
            "margin": null,
            "display": null,
            "left": null
          }
        },
        "f8eb0ea7951d480cbf297778cec4b040": {
          "model_module": "@jupyter-widgets/base",
          "model_name": "LayoutModel",
          "state": {
            "_view_name": "LayoutView",
            "grid_template_rows": null,
            "right": null,
            "justify_content": null,
            "_view_module": "@jupyter-widgets/base",
            "overflow": null,
            "_model_module_version": "1.2.0",
            "_view_count": null,
            "flex_flow": null,
            "width": null,
            "min_width": null,
            "border": null,
            "align_items": null,
            "bottom": null,
            "_model_module": "@jupyter-widgets/base",
            "top": null,
            "grid_column": null,
            "overflow_y": null,
            "overflow_x": null,
            "grid_auto_flow": null,
            "grid_area": null,
            "grid_template_columns": null,
            "flex": null,
            "_model_name": "LayoutModel",
            "justify_items": null,
            "grid_row": null,
            "max_height": null,
            "align_content": null,
            "visibility": null,
            "align_self": null,
            "height": null,
            "min_height": null,
            "padding": null,
            "grid_auto_rows": null,
            "grid_gap": null,
            "max_width": null,
            "order": null,
            "_view_module_version": "1.2.0",
            "grid_template_areas": null,
            "object_position": null,
            "object_fit": null,
            "grid_auto_columns": null,
            "margin": null,
            "display": null,
            "left": null
          }
        },
        "d53ec7792da44237a04fad35dcc9e29c": {
          "model_module": "@jupyter-widgets/controls",
          "model_name": "VBoxModel",
          "state": {
            "_view_name": "VBoxView",
            "_dom_classes": [
              "widget-interact"
            ],
            "_model_name": "VBoxModel",
            "_view_module": "@jupyter-widgets/controls",
            "_model_module_version": "1.5.0",
            "_view_count": null,
            "_view_module_version": "1.5.0",
            "box_style": "",
            "layout": "IPY_MODEL_5e59fa1a72c649bf913243e347959323",
            "_model_module": "@jupyter-widgets/controls",
            "children": [
              "IPY_MODEL_eeaeda43a33f49d7a38c1e61e99714c8",
              "IPY_MODEL_02da3dcf22e04163a852943c6566d9ca",
              "IPY_MODEL_a35388af0e8349ce800731461366422d"
            ]
          }
        },
        "5e59fa1a72c649bf913243e347959323": {
          "model_module": "@jupyter-widgets/base",
          "model_name": "LayoutModel",
          "state": {
            "_view_name": "LayoutView",
            "grid_template_rows": null,
            "right": null,
            "justify_content": null,
            "_view_module": "@jupyter-widgets/base",
            "overflow": null,
            "_model_module_version": "1.2.0",
            "_view_count": null,
            "flex_flow": null,
            "width": null,
            "min_width": null,
            "border": null,
            "align_items": null,
            "bottom": null,
            "_model_module": "@jupyter-widgets/base",
            "top": null,
            "grid_column": null,
            "overflow_y": null,
            "overflow_x": null,
            "grid_auto_flow": null,
            "grid_area": null,
            "grid_template_columns": null,
            "flex": null,
            "_model_name": "LayoutModel",
            "justify_items": null,
            "grid_row": null,
            "max_height": null,
            "align_content": null,
            "visibility": null,
            "align_self": null,
            "height": null,
            "min_height": null,
            "padding": null,
            "grid_auto_rows": null,
            "grid_gap": null,
            "max_width": null,
            "order": null,
            "_view_module_version": "1.2.0",
            "grid_template_areas": null,
            "object_position": null,
            "object_fit": null,
            "grid_auto_columns": null,
            "margin": null,
            "display": null,
            "left": null
          }
        },
        "eeaeda43a33f49d7a38c1e61e99714c8": {
          "model_module": "@jupyter-widgets/controls",
          "model_name": "IntSliderModel",
          "state": {
            "_view_name": "IntSliderView",
            "style": "IPY_MODEL_2033ed09658a486988a2c6e343b9d2bb",
            "_dom_classes": [],
            "description": "max_depth",
            "step": 1,
            "_model_name": "IntSliderModel",
            "orientation": "horizontal",
            "max": 6,
            "_view_module": "@jupyter-widgets/controls",
            "_model_module_version": "1.5.0",
            "value": 1,
            "_view_count": null,
            "disabled": false,
            "_view_module_version": "1.5.0",
            "min": 1,
            "continuous_update": true,
            "readout_format": "d",
            "description_tooltip": null,
            "readout": true,
            "_model_module": "@jupyter-widgets/controls",
            "layout": "IPY_MODEL_be32d05739f24d97820205c88b2b5760"
          }
        },
        "02da3dcf22e04163a852943c6566d9ca": {
          "model_module": "@jupyter-widgets/controls",
          "model_name": "IntSliderModel",
          "state": {
            "_view_name": "IntSliderView",
            "style": "IPY_MODEL_de3997a954eb4557a1282ea419141e2f",
            "_dom_classes": [],
            "description": "n_estimators",
            "step": 1,
            "_model_name": "IntSliderModel",
            "orientation": "horizontal",
            "max": 5,
            "_view_module": "@jupyter-widgets/controls",
            "_model_module_version": "1.5.0",
            "value": 2,
            "_view_count": null,
            "disabled": false,
            "_view_module_version": "1.5.0",
            "min": 2,
            "continuous_update": true,
            "readout_format": "d",
            "description_tooltip": null,
            "readout": true,
            "_model_module": "@jupyter-widgets/controls",
            "layout": "IPY_MODEL_26dd8ded86f741ef9b0a9ccc1f01264e"
          }
        },
        "a35388af0e8349ce800731461366422d": {
          "model_module": "@jupyter-widgets/output",
          "model_name": "OutputModel",
          "state": {
            "_view_name": "OutputView",
            "msg_id": "",
            "_dom_classes": [],
            "_model_name": "OutputModel",
            "outputs": [
              {
                "output_type": "display_data",
                "metadata": {
                  "tags": []
                },
                "image/png": "iVBORw0KGgoAAAANSUhEUgAAAVoAAAEFCAYAAACiiS9UAAAABHNCSVQICAgIfAhkiAAAAAlwSFlz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\n",
                "text/plain": "<Figure size 432x288 with 2 Axes>"
              },
              {
                "output_type": "display_data",
                "metadata": {
                  "tags": []
                },
                "image/png": "iVBORw0KGgoAAAANSUhEUgAAAVoAAAEFCAYAAACiiS9UAAAABHNCSVQICAgIfAhkiAAAAAlwSFlz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\n",
                "text/plain": "<Figure size 432x288 with 2 Axes>"
              },
              {
                "output_type": "display_data",
                "metadata": {
                  "tags": []
                },
                "image/png": "iVBORw0KGgoAAAANSUhEUgAAAVoAAAEFCAYAAACiiS9UAAAABHNCSVQICAgIfAhkiAAAAAlwSFlz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\n",
                "text/plain": "<Figure size 432x288 with 2 Axes>"
              }
            ],
            "_view_module": "@jupyter-widgets/output",
            "_model_module_version": "1.0.0",
            "_view_count": null,
            "_view_module_version": "1.0.0",
            "layout": "IPY_MODEL_713a4d5101c241f1821e0083ae5100e7",
            "_model_module": "@jupyter-widgets/output"
          }
        },
        "2033ed09658a486988a2c6e343b9d2bb": {
          "model_module": "@jupyter-widgets/controls",
          "model_name": "SliderStyleModel",
          "state": {
            "_view_name": "StyleView",
            "handle_color": null,
            "_model_name": "SliderStyleModel",
            "description_width": "",
            "_view_module": "@jupyter-widgets/base",
            "_model_module_version": "1.5.0",
            "_view_count": null,
            "_view_module_version": "1.2.0",
            "_model_module": "@jupyter-widgets/controls"
          }
        },
        "be32d05739f24d97820205c88b2b5760": {
          "model_module": "@jupyter-widgets/base",
          "model_name": "LayoutModel",
          "state": {
            "_view_name": "LayoutView",
            "grid_template_rows": null,
            "right": null,
            "justify_content": null,
            "_view_module": "@jupyter-widgets/base",
            "overflow": null,
            "_model_module_version": "1.2.0",
            "_view_count": null,
            "flex_flow": null,
            "width": null,
            "min_width": null,
            "border": null,
            "align_items": null,
            "bottom": null,
            "_model_module": "@jupyter-widgets/base",
            "top": null,
            "grid_column": null,
            "overflow_y": null,
            "overflow_x": null,
            "grid_auto_flow": null,
            "grid_area": null,
            "grid_template_columns": null,
            "flex": null,
            "_model_name": "LayoutModel",
            "justify_items": null,
            "grid_row": null,
            "max_height": null,
            "align_content": null,
            "visibility": null,
            "align_self": null,
            "height": null,
            "min_height": null,
            "padding": null,
            "grid_auto_rows": null,
            "grid_gap": null,
            "max_width": null,
            "order": null,
            "_view_module_version": "1.2.0",
            "grid_template_areas": null,
            "object_position": null,
            "object_fit": null,
            "grid_auto_columns": null,
            "margin": null,
            "display": null,
            "left": null
          }
        },
        "de3997a954eb4557a1282ea419141e2f": {
          "model_module": "@jupyter-widgets/controls",
          "model_name": "SliderStyleModel",
          "state": {
            "_view_name": "StyleView",
            "handle_color": null,
            "_model_name": "SliderStyleModel",
            "description_width": "",
            "_view_module": "@jupyter-widgets/base",
            "_model_module_version": "1.5.0",
            "_view_count": null,
            "_view_module_version": "1.2.0",
            "_model_module": "@jupyter-widgets/controls"
          }
        },
        "26dd8ded86f741ef9b0a9ccc1f01264e": {
          "model_module": "@jupyter-widgets/base",
          "model_name": "LayoutModel",
          "state": {
            "_view_name": "LayoutView",
            "grid_template_rows": null,
            "right": null,
            "justify_content": null,
            "_view_module": "@jupyter-widgets/base",
            "overflow": null,
            "_model_module_version": "1.2.0",
            "_view_count": null,
            "flex_flow": null,
            "width": null,
            "min_width": null,
            "border": null,
            "align_items": null,
            "bottom": null,
            "_model_module": "@jupyter-widgets/base",
            "top": null,
            "grid_column": null,
            "overflow_y": null,
            "overflow_x": null,
            "grid_auto_flow": null,
            "grid_area": null,
            "grid_template_columns": null,
            "flex": null,
            "_model_name": "LayoutModel",
            "justify_items": null,
            "grid_row": null,
            "max_height": null,
            "align_content": null,
            "visibility": null,
            "align_self": null,
            "height": null,
            "min_height": null,
            "padding": null,
            "grid_auto_rows": null,
            "grid_gap": null,
            "max_width": null,
            "order": null,
            "_view_module_version": "1.2.0",
            "grid_template_areas": null,
            "object_position": null,
            "object_fit": null,
            "grid_auto_columns": null,
            "margin": null,
            "display": null,
            "left": null
          }
        },
        "713a4d5101c241f1821e0083ae5100e7": {
          "model_module": "@jupyter-widgets/base",
          "model_name": "LayoutModel",
          "state": {
            "_view_name": "LayoutView",
            "grid_template_rows": null,
            "right": null,
            "justify_content": null,
            "_view_module": "@jupyter-widgets/base",
            "overflow": null,
            "_model_module_version": "1.2.0",
            "_view_count": null,
            "flex_flow": null,
            "width": null,
            "min_width": null,
            "border": null,
            "align_items": null,
            "bottom": null,
            "_model_module": "@jupyter-widgets/base",
            "top": null,
            "grid_column": null,
            "overflow_y": null,
            "overflow_x": null,
            "grid_auto_flow": null,
            "grid_area": null,
            "grid_template_columns": null,
            "flex": null,
            "_model_name": "LayoutModel",
            "justify_items": null,
            "grid_row": null,
            "max_height": null,
            "align_content": null,
            "visibility": null,
            "align_self": null,
            "height": null,
            "min_height": null,
            "padding": null,
            "grid_auto_rows": null,
            "grid_gap": null,
            "max_width": null,
            "order": null,
            "_view_module_version": "1.2.0",
            "grid_template_areas": null,
            "object_position": null,
            "object_fit": null,
            "grid_auto_columns": null,
            "margin": null,
            "display": null,
            "left": null
          }
        }
      }
    }
  },
  "cells": [
    {
      "cell_type": "markdown",
      "metadata": {
        "colab_type": "text",
        "id": "UEHyIgGaaSEJ"
      },
      "source": [
        "Lambda School Data Science\n",
        "\n",
        "*Unit 2, Sprint 2, Module 2*\n",
        "\n",
        "---"
      ]
    },
    {
      "cell_type": "markdown",
      "metadata": {
        "colab_type": "text",
        "id": "mRfPLX4WgLVJ"
      },
      "source": [
        "# Random Forests"
      ]
    },
    {
      "cell_type": "markdown",
      "metadata": {
        "colab_type": "text",
        "id": "jRRNhkxcgLVK"
      },
      "source": [
        "- use scikit-learn for **random forests**\n",
        "- do **ordinal encoding** with high-cardinality categoricals\n",
        "- understand how categorical encodings affect trees differently compared to linear models\n",
        "- understand how tree ensembles reduce overfitting compared to a single decision tree with unlimited depth"
      ]
    },
    {
      "cell_type": "markdown",
      "metadata": {
        "colab_type": "text",
        "id": "-3TH11e1gLVL"
      },
      "source": [
        "Today's lesson has two take-away messages:\n",
        "\n",
        "#### Try Tree Ensembles when you do machine learning with labeled, tabular data\n",
        "- \"Tree Ensembles\" means Random Forest or Gradient Boosting models. \n",
        "- [Tree Ensembles often have the best predictive accuracy](https://arxiv.org/abs/1708.05070) with labeled, tabular data.\n",
        "- Why? Because trees can fit non-linear, non-[monotonic](https://en.wikipedia.org/wiki/Monotonic_function) relationships, and [interactions](https://christophm.github.io/interpretable-ml-book/interaction.html) between features.\n",
        "- A single decision tree, grown to unlimited depth, will [overfit](http://www.r2d3.us/visual-intro-to-machine-learning-part-1/). We solve this problem by ensembling trees, with bagging (Random Forest) or boosting (Gradient Boosting).\n",
        "- Random Forest's advantage: may be less sensitive to hyperparameters. Gradient Boosting's advantage: may get better predictive accuracy.\n",
        "\n",
        "#### One-hot encoding isn’t the only way, and may not be the best way, of categorical encoding for tree ensembles.\n",
        "- For example, tree ensembles can work with arbitrary \"ordinal\" encoding! (Randomly assigning an integer to each category.) Compared to one-hot encoding, the dimensionality will be lower, and the predictive accuracy may be just as good or even better.\n"
      ]
    },
    {
      "cell_type": "markdown",
      "metadata": {
        "colab_type": "text",
        "id": "r5PbOFEuFfGF"
      },
      "source": [
        "### Setup\n",
        "\n",
        "Run the code cell below. You can work locally (follow the [local setup instructions](https://lambdaschool.github.io/ds/unit2/local/)) or on Colab.\n",
        "\n",
        "Libraries\n",
        "\n",
        "- **category_encoders** \n",
        "- **graphviz**\n",
        "- ipywidgets\n",
        "- matplotlib\n",
        "- numpy\n",
        "- pandas\n",
        "- seaborn\n",
        "- scikit-learn"
      ]
    },
    {
      "cell_type": "code",
      "metadata": {
        "colab_type": "code",
        "id": "FStAplyRFoEu",
        "colab": {}
      },
      "source": [
        "%%capture\n",
        "import sys\n",
        "\n",
        "# If you're on Colab:\n",
        "if 'google.colab' in sys.modules:\n",
        "    DATA_PATH = 'https://raw.githubusercontent.com/LambdaSchool/DS-Unit-2-Kaggle-Challenge/master/data/'\n",
        "    !pip install category_encoders==2.*\n",
        "\n",
        "# If you're working locally:\n",
        "else:\n",
        "    DATA_PATH = '../data/'"
      ],
      "execution_count": 0,
      "outputs": []
    },
    {
      "cell_type": "markdown",
      "metadata": {
        "colab_type": "text",
        "id": "ZL-yK8B7gLVW"
      },
      "source": [
        "# Use scikit-learn for random forests"
      ]
    },
    {
      "cell_type": "markdown",
      "metadata": {
        "id": "d5oMZBep0ofp",
        "colab_type": "text"
      },
      "source": [
        "## Overview\n",
        "\n",
        "Let's fit a Random Forest!\n",
        "\n",
        "![](https://pbs.twimg.com/media/EGSvKA0UUAEzUZi?format=png)\n",
        "\n",
        "[Chris Albon, MachineLearningFlashcards.com](https://twitter.com/chrisalbon/status/1181261589887909889)"
      ]
    },
    {
      "cell_type": "markdown",
      "metadata": {
        "colab_type": "text",
        "id": "gHFxMCPSgLVM"
      },
      "source": [
        "### Solution example\n",
        "\n",
        "First, read & wrangle the data.\n",
        "\n",
        "> Define a function to wrangle train, validate, and test sets in the same way. Clean outliers and engineer features. (For example, [what other columns have zeros and shouldn't?](https://github.com/Quartz/bad-data-guide#zeros-replace-missing-values) What other columns are duplicates, or nearly duplicates? Can you extract the year from date_recorded? Can you engineer new features, such as the number of years from waterpump construction to waterpump inspection?)"
      ]
    },
    {
      "cell_type": "code",
      "metadata": {
        "colab_type": "code",
        "id": "YTLm-rDagLVM",
        "colab": {}
      },
      "source": [
        "import numpy as np\n",
        "import pandas as pd\n",
        "from sklearn.model_selection import train_test_split\n",
        "\n",
        "# Merge train_features.csv & train_labels.csv\n",
        "train = pd.merge(pd.read_csv(DATA_PATH+'waterpumps/train_features.csv'), \n",
        "                 pd.read_csv(DATA_PATH+'waterpumps/train_labels.csv'))\n",
        "\n",
        "# Read test_features.csv & sample_submission.csv\n",
        "test = pd.read_csv(DATA_PATH+'waterpumps/test_features.csv')\n",
        "sample_submission = pd.read_csv(DATA_PATH+'waterpumps/sample_submission.csv')\n",
        "\n",
        "# Split train into train & val\n",
        "train, val = train_test_split(train, train_size=0.80, test_size=0.20, \n",
        "                              stratify=train['status_group'], random_state=42)\n",
        "\n",
        "\n",
        "def wrangle(X):\n",
        "    \"\"\"Wrangle train, validate, and test sets in the same way\"\"\"\n",
        "    \n",
        "    # Prevent SettingWithCopyWarning\n",
        "    X = X.copy()\n",
        "    \n",
        "    # About 3% of the time, latitude has small values near zero,\n",
        "    # outside Tanzania, so we'll treat these values like zero.\n",
        "    X['latitude'] = X['latitude'].replace(-2e-08, 0)\n",
        "    \n",
        "    # When columns have zeros and shouldn't, they are like null values.\n",
        "    # So we will replace the zeros with nulls, and impute missing values later.\n",
        "    # Also create a \"missing indicator\" column, because the fact that\n",
        "    # values are missing may be a predictive signal.\n",
        "    cols_with_zeros = ['longitude', 'latitude', 'construction_year', \n",
        "                       'gps_height', 'population']\n",
        "    for col in cols_with_zeros:\n",
        "        X[col] = X[col].replace(0, np.nan)\n",
        "        X[col+'_MISSING'] = X[col].isnull()\n",
        "            \n",
        "    # Drop duplicate columns\n",
        "    duplicates = ['quantity_group', 'payment_type']\n",
        "    X = X.drop(columns=duplicates)\n",
        "    \n",
        "    # Drop recorded_by (never varies) and id (always varies, random)\n",
        "    unusable_variance = ['recorded_by', 'id']\n",
        "    X = X.drop(columns=unusable_variance)\n",
        "    \n",
        "    # Convert date_recorded to datetime\n",
        "    X['date_recorded'] = pd.to_datetime(X['date_recorded'], infer_datetime_format=True)\n",
        "    \n",
        "    # Extract components from date_recorded, then drop the original column\n",
        "    X['year_recorded'] = X['date_recorded'].dt.year\n",
        "    X['month_recorded'] = X['date_recorded'].dt.month\n",
        "    X['day_recorded'] = X['date_recorded'].dt.day\n",
        "    X = X.drop(columns='date_recorded')\n",
        "    \n",
        "    # Engineer feature: how many years from construction_year to date_recorded\n",
        "    X['years'] = X['year_recorded'] - X['construction_year']\n",
        "    X['years_MISSING'] = X['years'].isnull()\n",
        "    \n",
        "    # return the wrangled dataframe\n",
        "    return X\n",
        "\n",
        "train = wrangle(train)\n",
        "val = wrangle(val)\n",
        "test = wrangle(test)"
      ],
      "execution_count": 0,
      "outputs": []
    },
    {
      "cell_type": "code",
      "metadata": {
        "colab_type": "code",
        "id": "m2HppBvZgLVP",
        "colab": {}
      },
      "source": [
        "# The status_group column is the target\n",
        "target = 'status_group'\n",
        "\n",
        "# Get a dataframe with all train columns except the target\n",
        "train_features = train.drop(columns=[target])\n",
        "\n",
        "# Get a list of the numeric features\n",
        "numeric_features = train_features.select_dtypes(include='number').columns.tolist()\n",
        "\n",
        "# Get a series with the cardinality of the nonnumeric features\n",
        "cardinality = train_features.select_dtypes(exclude='number').nunique()\n",
        "\n",
        "# Get a list of all categorical features with cardinality <= 50\n",
        "categorical_features = cardinality[cardinality <= 50].index.tolist()\n",
        "\n",
        "# Combine the lists \n",
        "features = numeric_features + categorical_features"
      ],
      "execution_count": 0,
      "outputs": []
    },
    {
      "cell_type": "code",
      "metadata": {
        "colab_type": "code",
        "id": "aXmK2brXgLVR",
        "colab": {}
      },
      "source": [
        "# Arrange data into X features matrix and y target vector \n",
        "X_train = train[features]\n",
        "y_train = train[target]\n",
        "X_val = val[features]\n",
        "y_val = val[target]\n",
        "X_test = test[features]"
      ],
      "execution_count": 0,
      "outputs": []
    },
    {
      "cell_type": "markdown",
      "metadata": {
        "id": "bIIJCVBI0ofv",
        "colab_type": "text"
      },
      "source": [
        "## Follow Along\n",
        "\n",
        "[Scikit-Learn User Guide: Random Forests](https://scikit-learn.org/stable/modules/ensemble.html#random-forests) "
      ]
    },
    {
      "cell_type": "code",
      "metadata": {
        "colab_type": "code",
        "id": "57yyygsdgLVW",
        "colab": {
          "base_uri": "https://localhost:8080/",
          "height": 68
        },
        "outputId": "76ce1b44-9a5a-46fe-c88f-6c53fcda7250"
      },
      "source": [
        "%%time\n",
        "\n",
        "import category_encoders as ce\n",
        "from sklearn.impute import SimpleImputer\n",
        "from sklearn.ensemble import RandomForestClassifier\n",
        "from sklearn.pipeline import make_pipeline\n",
        "\n",
        "pipeline = make_pipeline(\n",
        "    ce.OneHotEncoder(use_cat_names=True),\n",
        "    SimpleImputer(),\n",
        "    RandomForestClassifier(n_estimators=100, n_jobs=-1, random_state=42)\n",
        ")\n",
        "\n",
        "pipeline.fit(X_train, y_train)\n",
        "print(f'Validation accuracy: {pipeline.score(X_val, y_val)}')"
      ],
      "execution_count": 15,
      "outputs": [
        {
          "output_type": "stream",
          "text": [
            "Validation accuracy: 0.8080808080808081\n",
            "CPU times: user 24.4 s, sys: 233 ms, total: 24.6 s\n",
            "Wall time: 14.8 s\n"
          ],
          "name": "stdout"
        }
      ]
    },
    {
      "cell_type": "code",
      "metadata": {
        "id": "hJE7i8Yr71SI",
        "colab_type": "code",
        "colab": {
          "base_uri": "https://localhost:8080/",
          "height": 51
        },
        "outputId": "9f606de2-b12c-4dcb-e482-7607f4b172b2"
      },
      "source": [
        "print(f'X_train shape before encoding: {X_train.shape}')\n",
        "\n",
        "encoder = pipeline.named_steps['onehotencoder']\n",
        "X_train_enc = encoder.transform(X_train)\n",
        "\n",
        "print(f'X_train shape after encoding: {X_train_enc.shape}')"
      ],
      "execution_count": 12,
      "outputs": [
        {
          "output_type": "stream",
          "text": [
            "X_train shape before encoding: (47520, 38)\n",
            "X_train shape after encoding: (47520, 182)\n"
          ],
          "name": "stdout"
        }
      ]
    },
    {
      "cell_type": "code",
      "metadata": {
        "id": "mGaaVQ0J8Utt",
        "colab_type": "code",
        "colab": {
          "base_uri": "https://localhost:8080/",
          "height": 607
        },
        "outputId": "5eb142c2-1213-4944-e9fe-0c1130359d6d"
      },
      "source": [
        "import matplotlib.pyplot as plt\n",
        "\n",
        "rf = pipeline.named_steps['randomforestclassifier']\n",
        "importances = pd.Series(rf.feature_importances_, X_train_enc.columns)\n",
        "\n",
        "n = 20\n",
        "plt.figure(figsize=(10,n/2))\n",
        "plt.title(f\"Top {n} features\")\n",
        "importances.sort_values()[-20:].plot.barh();"
      ],
      "execution_count": 16,
      "outputs": [
        {
          "output_type": "display_data",
          "data": {
            "image/png": "[encoded data removed]",
            "text/plain": [
              "<Figure size 720x720 with 1 Axes>"
            ]
          },
          "metadata": {
            "tags": []
          }
        }
      ]
    },
    {
      "cell_type": "markdown",
      "metadata": {
        "colab_type": "text",
        "id": "yfyk_aa5gLVY"
      },
      "source": [
        "# Do ordinal encoding with high-cardinality categoricals"
      ]
    },
    {
      "cell_type": "markdown",
      "metadata": {
        "id": "Rd0qIz6G0ofy",
        "colab_type": "text"
      },
      "source": [
        "## Overview\n",
        "\n",
        "http://contrib.scikit-learn.org/categorical-encoding/ordinal.html"
      ]
    },
    {
      "cell_type": "markdown",
      "metadata": {
        "id": "xvcXwfDr0ofy",
        "colab_type": "text"
      },
      "source": [
        "## Follow Along"
      ]
    },
    {
      "cell_type": "code",
      "metadata": {
        "colab_type": "code",
        "id": "b8d_WJtcgLVZ",
        "colab": {}
      },
      "source": [
        "X_train = train.drop(columns=[target])\n",
        "y_train = train[target]\n",
        "\n",
        "X_val = val.drop(columns=[target])\n",
        "y_val = val[target]\n",
        "\n",
        "X_test = test"
      ],
      "execution_count": 0,
      "outputs": []
    },
    {
      "cell_type": "code",
      "metadata": {
        "id": "MMhDZpXv70O_",
        "colab_type": "code",
        "colab": {
          "base_uri": "https://localhost:8080/",
          "height": 68
        },
        "outputId": "c7616dd3-8e7e-46d5-b493-7468232583db"
      },
      "source": [
        "%%time\n",
        "#Ordinal Encoding\n",
        "\n",
        "pipeline = make_pipeline(\n",
        "    ce.ordinal.OrdinalEncoder(),\n",
        "    SimpleImputer(),\n",
        "    RandomForestClassifier(n_estimators=100, n_jobs=-1, random_state=42)\n",
        ")\n",
        "\n",
        "pipeline.fit(X_train, y_train)\n",
        "print(f'Validation accuracy: {pipeline.score(X_val, y_val)}')"
      ],
      "execution_count": 19,
      "outputs": [
        {
          "output_type": "stream",
          "text": [
            "Validation accuracy: 0.8103535353535354\n",
            "CPU times: user 18.6 s, sys: 80.3 ms, total: 18.7 s\n",
            "Wall time: 10.2 s\n"
          ],
          "name": "stdout"
        }
      ]
    },
    {
      "cell_type": "code",
      "metadata": {
        "id": "LjilkPJu-IrK",
        "colab_type": "code",
        "colab": {
          "base_uri": "https://localhost:8080/",
          "height": 51
        },
        "outputId": "ddf5cabc-4071-4ec3-dab4-cf338bce9e1e"
      },
      "source": [
        "# OrdinalEncoder does not create new columns\n",
        "\n",
        "print(f'X_train shape before encoding: {X_train.shape}')\n",
        "\n",
        "encoder = pipeline.named_steps['ordinalencoder']\n",
        "X_train_enc = encoder.transform(X_train)\n",
        "\n",
        "print(f'X_train shape after encoding: {X_train_enc.shape}')"
      ],
      "execution_count": 20,
      "outputs": [
        {
          "output_type": "stream",
          "text": [
            "X_train shape before encoding: (47520, 45)\n",
            "X_train shape after encoding: (47520, 45)\n"
          ],
          "name": "stdout"
        }
      ]
    },
    {
      "cell_type": "code",
      "metadata": {
        "id": "KgoJ4HxTBd56",
        "colab_type": "code",
        "colab": {
          "base_uri": "https://localhost:8080/",
          "height": 607
        },
        "outputId": "3dba72a2-0c88-49eb-abec-a95ed692826f"
      },
      "source": [
        "rf = pipeline.named_steps['randomforestclassifier']\n",
        "importances = pd.Series(rf.feature_importances_, X_train_enc.columns)\n",
        "\n",
        "n = 20\n",
        "plt.figure(figsize=(10,n/2))\n",
        "plt.title(f\"Top {n} features\")\n",
        "importances.sort_values()[-20:].plot.barh();"
      ],
      "execution_count": 21,
      "outputs": [
        {
          "output_type": "display_data",
          "data": {
            "image/png": "[encoded data removed]",
            "text/plain": [
              "<Figure size 720x720 with 1 Axes>"
            ]
          },
          "metadata": {
            "tags": []
          }
        }
      ]
    },
    {
      "cell_type": "markdown",
      "metadata": {
        "colab_type": "text",
        "id": "xs2UPoVdgLVp"
      },
      "source": [
        "# Understand how categorical encodings affect trees differently compared to linear models"
      ]
    },
    {
      "cell_type": "markdown",
      "metadata": {
        "id": "620qNr180of1",
        "colab_type": "text"
      },
      "source": [
        "## Follow Along"
      ]
    },
    {
      "cell_type": "markdown",
      "metadata": {
        "colab_type": "text",
        "id": "z8V-A92mgLVp"
      },
      "source": [
        "### Categorical exploration, 1 feature at a time\n",
        "\n",
        "Change `feature`, then re-run these cells!"
      ]
    },
    {
      "cell_type": "code",
      "metadata": {
        "colab_type": "code",
        "id": "G35RAzVdgLVq",
        "colab": {}
      },
      "source": [
        "feature = 'extraction_type_class'"
      ],
      "execution_count": 0,
      "outputs": []
    },
    {
      "cell_type": "code",
      "metadata": {
        "colab_type": "code",
        "id": "OuxHWiH8gLVr",
        "colab": {
          "base_uri": "https://localhost:8080/",
          "height": 153
        },
        "outputId": "1039a870-d9e0-4032-c1c2-b92a6854bfc4"
      },
      "source": [
        "X_train[feature].value_counts()"
      ],
      "execution_count": 23,
      "outputs": [
        {
          "output_type": "execute_result",
          "data": {
            "text/plain": [
              "gravity         21448\n",
              "handpump        13184\n",
              "other            5193\n",
              "submersible      4894\n",
              "motorpump        2355\n",
              "rope pump         353\n",
              "wind-powered       93\n",
              "Name: extraction_type_class, dtype: int64"
            ]
          },
          "metadata": {
            "tags": []
          },
          "execution_count": 23
        }
      ]
    },
    {
      "cell_type": "code",
      "metadata": {
        "colab_type": "code",
        "id": "pVxoC4NngLVt",
        "colab": {
          "base_uri": "https://localhost:8080/",
          "height": 586
        },
        "outputId": "fbbb02e8-ca2e-4721-94ed-7ed651fded7b"
      },
      "source": [
        "import seaborn as sns\n",
        "plt.figure(figsize=(16,9))\n",
        "sns.barplot(\n",
        "    x=train[feature], \n",
        "    y=train['status_group']=='functional', \n",
        "    color='grey'\n",
        ");"
      ],
      "execution_count": 24,
      "outputs": [
        {
          "output_type": "stream",
          "text": [
            "/usr/local/lib/python3.6/dist-packages/statsmodels/tools/_testing.py:19: FutureWarning: pandas.util.testing is deprecated. Use the functions in the public API at pandas.testing instead.\n",
            "  import pandas.util.testing as tm\n"
          ],
          "name": "stderr"
        },
        {
          "output_type": "display_data",
          "data": {
            "image/png": "[encoded data removed]",
            "text/plain": [
              "<Figure size 1152x648 with 1 Axes>"
            ]
          },
          "metadata": {
            "tags": []
          }
        }
      ]
    },
    {
      "cell_type": "code",
      "metadata": {
        "colab_type": "code",
        "id": "w99mek14gLVv",
        "colab": {
          "base_uri": "https://localhost:8080/",
          "height": 374
        },
        "outputId": "ae22ed42-2844-4d26-81c7-d3c9b81241a5"
      },
      "source": [
        "X_train[feature].head(20)"
      ],
      "execution_count": 25,
      "outputs": [
        {
          "output_type": "execute_result",
          "data": {
            "text/plain": [
              "43360        gravity\n",
              "7263         gravity\n",
              "2486        handpump\n",
              "313            other\n",
              "52726      motorpump\n",
              "8558         gravity\n",
              "2559         gravity\n",
              "54735      motorpump\n",
              "25763       handpump\n",
              "44540    submersible\n",
              "28603          other\n",
              "4372     submersible\n",
              "30666        gravity\n",
              "6431     submersible\n",
              "57420          other\n",
              "1373         gravity\n",
              "2026         gravity\n",
              "58977       handpump\n",
              "41101        gravity\n",
              "10019        gravity\n",
              "Name: extraction_type_class, dtype: object"
            ]
          },
          "metadata": {
            "tags": []
          },
          "execution_count": 25
        }
      ]
    },
    {
      "cell_type": "markdown",
      "metadata": {
        "colab_type": "text",
        "id": "ezzK2IdbgLVx"
      },
      "source": [
        "### [One Hot Encoding](http://contrib.scikit-learn.org/categorical-encoding/onehot.html)\n",
        "\n",
        "> Onehot (or dummy) coding for categorical features, produces one feature per category, each binary.\n",
        "\n",
        "Warning: May run slow, or run out of memory, with high cardinality categoricals!"
      ]
    },
    {
      "cell_type": "code",
      "metadata": {
        "colab_type": "code",
        "id": "HDQZtV6GgLVy",
        "colab": {
          "base_uri": "https://localhost:8080/",
          "height": 723
        },
        "outputId": "7efcc4ed-0f62-433a-daeb-fe53e8267a3f"
      },
      "source": [
        "encoder = ce.OneHotEncoder(use_cat_names=True)\n",
        "encoded = encoder.fit_transform(X_train[[feature]])\n",
        "print(f'{len(encoded.columns)} columns')\n",
        "encoded.head(20)"
      ],
      "execution_count": 26,
      "outputs": [
        {
          "output_type": "stream",
          "text": [
            "7 columns\n"
          ],
          "name": "stdout"
        },
        {
          "output_type": "execute_result",
          "data": {
            "text/html": [
              "<div>\n",
              "<style scoped>\n",
              "    .dataframe tbody tr th:only-of-type {\n",
              "        vertical-align: middle;\n",
              "    }\n",
              "\n",
              "    .dataframe tbody tr th {\n",
              "        vertical-align: top;\n",
              "    }\n",
              "\n",
              "    .dataframe thead th {\n",
              "        text-align: right;\n",
              "    }\n",
              "</style>\n",
              "<table border=\"1\" class=\"dataframe\">\n",
              "  <thead>\n",
              "    <tr style=\"text-align: right;\">\n",
              "      <th></th>\n",
              "      <th>extraction_type_class_gravity</th>\n",
              "      <th>extraction_type_class_handpump</th>\n",
              "      <th>extraction_type_class_other</th>\n",
              "      <th>extraction_type_class_motorpump</th>\n",
              "      <th>extraction_type_class_submersible</th>\n",
              "      <th>extraction_type_class_rope pump</th>\n",
              "      <th>extraction_type_class_wind-powered</th>\n",
              "    </tr>\n",
              "  </thead>\n",
              "  <tbody>\n",
              "    <tr>\n",
              "      <th>43360</th>\n",
              "      <td>1</td>\n",
              "      <td>0</td>\n",
              "      <td>0</td>\n",
              "      <td>0</td>\n",
              "      <td>0</td>\n",
              "      <td>0</td>\n",
              "      <td>0</td>\n",
              "    </tr>\n",
              "    <tr>\n",
              "      <th>7263</th>\n",
              "      <td>1</td>\n",
              "      <td>0</td>\n",
              "      <td>0</td>\n",
              "      <td>0</td>\n",
              "      <td>0</td>\n",
              "      <td>0</td>\n",
              "      <td>0</td>\n",
              "    </tr>\n",
              "    <tr>\n",
              "      <th>2486</th>\n",
              "      <td>0</td>\n",
              "      <td>1</td>\n",
              "      <td>0</td>\n",
              "      <td>0</td>\n",
              "      <td>0</td>\n",
              "      <td>0</td>\n",
              "      <td>0</td>\n",
              "    </tr>\n",
              "    <tr>\n",
              "      <th>313</th>\n",
              "      <td>0</td>\n",
              "      <td>0</td>\n",
              "      <td>1</td>\n",
              "      <td>0</td>\n",
              "      <td>0</td>\n",
              "      <td>0</td>\n",
              "      <td>0</td>\n",
              "    </tr>\n",
              "    <tr>\n",
              "      <th>52726</th>\n",
              "      <td>0</td>\n",
              "      <td>0</td>\n",
              "      <td>0</td>\n",
              "      <td>1</td>\n",
              "      <td>0</td>\n",
              "      <td>0</td>\n",
              "      <td>0</td>\n",
              "    </tr>\n",
              "    <tr>\n",
              "      <th>8558</th>\n",
              "      <td>1</td>\n",
              "      <td>0</td>\n",
              "      <td>0</td>\n",
              "      <td>0</td>\n",
              "      <td>0</td>\n",
              "      <td>0</td>\n",
              "      <td>0</td>\n",
              "    </tr>\n",
              "    <tr>\n",
              "      <th>2559</th>\n",
              "      <td>1</td>\n",
              "      <td>0</td>\n",
              "      <td>0</td>\n",
              "      <td>0</td>\n",
              "      <td>0</td>\n",
              "      <td>0</td>\n",
              "      <td>0</td>\n",
              "    </tr>\n",
              "    <tr>\n",
              "      <th>54735</th>\n",
              "      <td>0</td>\n",
              "      <td>0</td>\n",
              "      <td>0</td>\n",
              "      <td>1</td>\n",
              "      <td>0</td>\n",
              "      <td>0</td>\n",
              "      <td>0</td>\n",
              "    </tr>\n",
              "    <tr>\n",
              "      <th>25763</th>\n",
              "      <td>0</td>\n",
              "      <td>1</td>\n",
              "      <td>0</td>\n",
              "      <td>0</td>\n",
              "      <td>0</td>\n",
              "      <td>0</td>\n",
              "      <td>0</td>\n",
              "    </tr>\n",
              "    <tr>\n",
              "      <th>44540</th>\n",
              "      <td>0</td>\n",
              "      <td>0</td>\n",
              "      <td>0</td>\n",
              "      <td>0</td>\n",
              "      <td>1</td>\n",
              "      <td>0</td>\n",
              "      <td>0</td>\n",
              "    </tr>\n",
              "    <tr>\n",
              "      <th>28603</th>\n",
              "      <td>0</td>\n",
              "      <td>0</td>\n",
              "      <td>1</td>\n",
              "      <td>0</td>\n",
              "      <td>0</td>\n",
              "      <td>0</td>\n",
              "      <td>0</td>\n",
              "    </tr>\n",
              "    <tr>\n",
              "      <th>4372</th>\n",
              "      <td>0</td>\n",
              "      <td>0</td>\n",
              "      <td>0</td>\n",
              "      <td>0</td>\n",
              "      <td>1</td>\n",
              "      <td>0</td>\n",
              "      <td>0</td>\n",
              "    </tr>\n",
              "    <tr>\n",
              "      <th>30666</th>\n",
              "      <td>1</td>\n",
              "      <td>0</td>\n",
              "      <td>0</td>\n",
              "      <td>0</td>\n",
              "      <td>0</td>\n",
              "      <td>0</td>\n",
              "      <td>0</td>\n",
              "    </tr>\n",
              "    <tr>\n",
              "      <th>6431</th>\n",
              "      <td>0</td>\n",
              "      <td>0</td>\n",
              "      <td>0</td>\n",
              "      <td>0</td>\n",
              "      <td>1</td>\n",
              "      <td>0</td>\n",
              "      <td>0</td>\n",
              "    </tr>\n",
              "    <tr>\n",
              "      <th>57420</th>\n",
              "      <td>0</td>\n",
              "      <td>0</td>\n",
              "      <td>1</td>\n",
              "      <td>0</td>\n",
              "      <td>0</td>\n",
              "      <td>0</td>\n",
              "      <td>0</td>\n",
              "    </tr>\n",
              "    <tr>\n",
              "      <th>1373</th>\n",
              "      <td>1</td>\n",
              "      <td>0</td>\n",
              "      <td>0</td>\n",
              "      <td>0</td>\n",
              "      <td>0</td>\n",
              "      <td>0</td>\n",
              "      <td>0</td>\n",
              "    </tr>\n",
              "    <tr>\n",
              "      <th>2026</th>\n",
              "      <td>1</td>\n",
              "      <td>0</td>\n",
              "      <td>0</td>\n",
              "      <td>0</td>\n",
              "      <td>0</td>\n",
              "      <td>0</td>\n",
              "      <td>0</td>\n",
              "    </tr>\n",
              "    <tr>\n",
              "      <th>58977</th>\n",
              "      <td>0</td>\n",
              "      <td>1</td>\n",
              "      <td>0</td>\n",
              "      <td>0</td>\n",
              "      <td>0</td>\n",
              "      <td>0</td>\n",
              "      <td>0</td>\n",
              "    </tr>\n",
              "    <tr>\n",
              "      <th>41101</th>\n",
              "      <td>1</td>\n",
              "      <td>0</td>\n",
              "      <td>0</td>\n",
              "      <td>0</td>\n",
              "      <td>0</td>\n",
              "      <td>0</td>\n",
              "      <td>0</td>\n",
              "    </tr>\n",
              "    <tr>\n",
              "      <th>10019</th>\n",
              "      <td>1</td>\n",
              "      <td>0</td>\n",
              "      <td>0</td>\n",
              "      <td>0</td>\n",
              "      <td>0</td>\n",
              "      <td>0</td>\n",
              "      <td>0</td>\n",
              "    </tr>\n",
              "  </tbody>\n",
              "</table>\n",
              "</div>"
            ],
            "text/plain": [
              "       extraction_type_class_gravity  ...  extraction_type_class_wind-powered\n",
              "43360                              1  ...                                   0\n",
              "7263                               1  ...                                   0\n",
              "2486                               0  ...                                   0\n",
              "313                                0  ...                                   0\n",
              "52726                              0  ...                                   0\n",
              "8558                               1  ...                                   0\n",
              "2559                               1  ...                                   0\n",
              "54735                              0  ...                                   0\n",
              "25763                              0  ...                                   0\n",
              "44540                              0  ...                                   0\n",
              "28603                              0  ...                                   0\n",
              "4372                               0  ...                                   0\n",
              "30666                              1  ...                                   0\n",
              "6431                               0  ...                                   0\n",
              "57420                              0  ...                                   0\n",
              "1373                               1  ...                                   0\n",
              "2026                               1  ...                                   0\n",
              "58977                              0  ...                                   0\n",
              "41101                              1  ...                                   0\n",
              "10019                              1  ...                                   0\n",
              "\n",
              "[20 rows x 7 columns]"
            ]
          },
          "metadata": {
            "tags": []
          },
          "execution_count": 26
        }
      ]
    },
    {
      "cell_type": "markdown",
      "metadata": {
        "colab_type": "text",
        "id": "1Ql9Qmw3sNJ7"
      },
      "source": [
        "#### One-Hot Encoding, Logistic Regression, Validation Accuracy"
      ]
    },
    {
      "cell_type": "code",
      "metadata": {
        "colab_type": "code",
        "id": "mT4A-oDGpOss",
        "colab": {
          "base_uri": "https://localhost:8080/",
          "height": 34
        },
        "outputId": "36fe78da-d5f8-4342-afc8-71304237ddfb"
      },
      "source": [
        "from sklearn.linear_model import LogisticRegressionCV\n",
        "from sklearn.preprocessing import StandardScaler\n",
        "\n",
        "lr = make_pipeline(\n",
        "    ce.OneHotEncoder(use_cat_names=True), \n",
        "    SimpleImputer(), \n",
        "    StandardScaler(), \n",
        "    LogisticRegressionCV(multi_class='auto', solver='lbfgs', cv=5, n_jobs=-1)\n",
        ")\n",
        "\n",
        "lr.fit(X_train[[feature]], y_train)\n",
        "score = lr.score(X_val[[feature]], y_val)\n",
        "print('Logistic Regression, Validation Accuracy', score)"
      ],
      "execution_count": 27,
      "outputs": [
        {
          "output_type": "stream",
          "text": [
            "Logistic Regression, Validation Accuracy 0.6202861952861953\n"
          ],
          "name": "stdout"
        }
      ]
    },
    {
      "cell_type": "markdown",
      "metadata": {
        "colab_type": "text",
        "id": "EbH6wivpsRuV"
      },
      "source": [
        "#### One-Hot Encoding, Decision Tree, Validation Accuracy"
      ]
    },
    {
      "cell_type": "code",
      "metadata": {
        "colab_type": "code",
        "id": "b6KUluFOqIdK",
        "colab": {
          "base_uri": "https://localhost:8080/",
          "height": 34
        },
        "outputId": "642fb352-e9f7-4ccc-de12-37520f33351e"
      },
      "source": [
        "from sklearn.tree import DecisionTreeClassifier\n",
        "\n",
        "dt = make_pipeline(\n",
        "    ce.OneHotEncoder(use_cat_names=True), \n",
        "    SimpleImputer(), \n",
        "    DecisionTreeClassifier(random_state=42)\n",
        ")\n",
        "\n",
        "dt.fit(X_train[[feature]], y_train)\n",
        "score = dt.score(X_val[[feature]], y_val)\n",
        "print('Decision Tree, Validation Accuracy', score)"
      ],
      "execution_count": 28,
      "outputs": [
        {
          "output_type": "stream",
          "text": [
            "Decision Tree, Validation Accuracy 0.6202861952861953\n"
          ],
          "name": "stdout"
        }
      ]
    },
    {
      "cell_type": "markdown",
      "metadata": {
        "colab_type": "text",
        "id": "8yg11_gTsUu6"
      },
      "source": [
        "#### One-Hot Encoding, Logistic Regression, Model Interpretation"
      ]
    },
    {
      "cell_type": "code",
      "metadata": {
        "colab_type": "code",
        "id": "IxHwXGRornNI",
        "colab": {
          "base_uri": "https://localhost:8080/",
          "height": 265
        },
        "outputId": "c7f1860f-d6dc-4e29-94f7-f0d53b763c2e"
      },
      "source": [
        "model = lr.named_steps['logisticregressioncv']\n",
        "encoder = lr.named_steps['onehotencoder']\n",
        "encoded_columns = encoder.transform(X_val[[feature]]).columns\n",
        "coefficients = pd.Series(model.coef_[0], encoded_columns)\n",
        "coefficients.sort_values().plot.barh(color='grey');"
      ],
      "execution_count": 29,
      "outputs": [
        {
          "output_type": "display_data",
          "data": {
            "image/png": "[encoded data removed]",
            "text/plain": [
              "<Figure size 432x288 with 1 Axes>"
            ]
          },
          "metadata": {
            "tags": []
          }
        }
      ]
    },
    {
      "cell_type": "markdown",
      "metadata": {
        "colab_type": "text",
        "id": "0REZ8HdpsccR"
      },
      "source": [
        "#### One-Hot Encoding, Decision Tree, Model Interpretation"
      ]
    },
    {
      "cell_type": "code",
      "metadata": {
        "colab_type": "code",
        "id": "gV-grmYKpDp9",
        "colab": {
          "base_uri": "https://localhost:8080/",
          "height": 934
        },
        "outputId": "4d84b6a7-c6c6-460c-b841-ca784028a842"
      },
      "source": [
        "# Plot tree\n",
        "# https://scikit-learn.org/stable/modules/generated/sklearn.tree.export_graphviz.html\n",
        "import graphviz\n",
        "from sklearn.tree import export_graphviz\n",
        "\n",
        "model = dt.named_steps['decisiontreeclassifier']\n",
        "encoder = dt.named_steps['onehotencoder']\n",
        "encoded_columns = encoder.transform(X_val[[feature]]).columns\n",
        "\n",
        "dot_data = export_graphviz(model, \n",
        "                           out_file=None, \n",
        "                           max_depth=7, \n",
        "                           feature_names=encoded_columns,\n",
        "                           class_names=model.classes_, \n",
        "                           impurity=False, \n",
        "                           filled=True, \n",
        "                           proportion=True, \n",
        "                           rounded=True)   \n",
        "display(graphviz.Source(dot_data))"
      ],
      "execution_count": 30,
      "outputs": [
        {
          "output_type": "display_data",
          "data": {
            "text/plain": [
              "<graphviz.files.Source at 0x7f1ddd843668>"
            ],
            "image/svg+xml": "<?xml version=\"1.0\" encoding=\"UTF-8\" standalone=\"no\"?>\n<!DOCTYPE svg PUBLIC \"-//W3C//DTD SVG 1.1//EN\"\n \"http://www.w3.org/Graphics/SVG/1.1/DTD/svg11.dtd\">\n<!-- Generated by graphviz version 2.40.1 (20161225.0304)\n -->\n<!-- Title: Tree Pages: 1 -->\n<svg width=\"1067pt\" height=\"685pt\"\n viewBox=\"0.00 0.00 1067.00 685.00\" xmlns=\"http://www.w3.org/2000/svg\" xmlns:xlink=\"http://www.w3.org/1999/xlink\">\n<g id=\"graph0\" class=\"graph\" transform=\"scale(1 1) rotate(0) translate(4 681)\">\n<title>Tree</title>\n<polygon fill=\"#ffffff\" stroke=\"transparent\" points=\"-4,4 -4,-681 1063,-681 1063,4 -4,4\"/>\n<!-- 0 -->\n<g id=\"node1\" class=\"node\">\n<title>0</title>\n<path fill=\"#f8decc\" stroke=\"#000000\" d=\"M944.5,-677C944.5,-677 725.5,-677 725.5,-677 719.5,-677 713.5,-671 713.5,-665 713.5,-665 713.5,-621 713.5,-621 713.5,-615 719.5,-609 725.5,-609 725.5,-609 944.5,-609 944.5,-609 950.5,-609 956.5,-615 956.5,-621 956.5,-621 956.5,-665 956.5,-665 956.5,-671 950.5,-677 944.5,-677\"/>\n<text text-anchor=\"middle\" x=\"835\" y=\"-661.8\" font-family=\"Helvetica,sans-Serif\" font-size=\"14.00\" fill=\"#000000\">extraction_type_class_other &lt;= 0.5</text>\n<text text-anchor=\"middle\" x=\"835\" y=\"-646.8\" font-family=\"Helvetica,sans-Serif\" font-size=\"14.00\" fill=\"#000000\">samples = 100.0%</text>\n<text text-anchor=\"middle\" x=\"835\" y=\"-631.8\" font-family=\"Helvetica,sans-Serif\" font-size=\"14.00\" fill=\"#000000\">value = [0.543, 0.073, 0.384]</text>\n<text text-anchor=\"middle\" x=\"835\" y=\"-616.8\" font-family=\"Helvetica,sans-Serif\" font-size=\"14.00\" fill=\"#000000\">class = functional</text>\n</g>\n<!-- 1 -->\n<g id=\"node2\" class=\"node\">\n<title>1</title>\n<path fill=\"#f5ceb2\" stroke=\"#000000\" d=\"M837,-573C837,-573 577,-573 577,-573 571,-573 565,-567 565,-561 565,-561 565,-517 565,-517 565,-511 571,-505 577,-505 577,-505 837,-505 837,-505 843,-505 849,-511 849,-517 849,-517 849,-561 849,-561 849,-567 843,-573 837,-573\"/>\n<text text-anchor=\"middle\" x=\"707\" y=\"-557.8\" font-family=\"Helvetica,sans-Serif\" font-size=\"14.00\" fill=\"#000000\">extraction_type_class_motorpump &lt;= 0.5</text>\n<text text-anchor=\"middle\" x=\"707\" y=\"-542.8\" font-family=\"Helvetica,sans-Serif\" font-size=\"14.00\" fill=\"#000000\">samples = 89.1%</text>\n<text text-anchor=\"middle\" x=\"707\" y=\"-527.8\" font-family=\"Helvetica,sans-Serif\" font-size=\"14.00\" fill=\"#000000\">value = [0.59, 0.078, 0.332]</text>\n<text text-anchor=\"middle\" x=\"707\" y=\"-512.8\" font-family=\"Helvetica,sans-Serif\" font-size=\"14.00\" fill=\"#000000\">class = functional</text>\n</g>\n<!-- 0&#45;&gt;1 -->\n<g id=\"edge1\" class=\"edge\">\n<title>0&#45;&gt;1</title>\n<path fill=\"none\" stroke=\"#000000\" d=\"M793.088,-608.9465C781.485,-599.519 768.7779,-589.1946 756.7741,-579.4415\"/>\n<polygon fill=\"#000000\" stroke=\"#000000\" points=\"758.9744,-576.7196 749.0061,-573.13 754.5602,-582.1524 758.9744,-576.7196\"/>\n<text text-anchor=\"middle\" x=\"751.5786\" y=\"-594.2973\" font-family=\"Helvetica,sans-Serif\" font-size=\"14.00\" fill=\"#000000\">True</text>\n</g>\n<!-- 12 -->\n<g id=\"node13\" class=\"node\">\n<title>12</title>\n<path fill=\"#9d66eb\" stroke=\"#000000\" d=\"M1047,-565.5C1047,-565.5 879,-565.5 879,-565.5 873,-565.5 867,-559.5 867,-553.5 867,-553.5 867,-524.5 867,-524.5 867,-518.5 873,-512.5 879,-512.5 879,-512.5 1047,-512.5 1047,-512.5 1053,-512.5 1059,-518.5 1059,-524.5 1059,-524.5 1059,-553.5 1059,-553.5 1059,-559.5 1053,-565.5 1047,-565.5\"/>\n<text text-anchor=\"middle\" x=\"963\" y=\"-550.3\" font-family=\"Helvetica,sans-Serif\" font-size=\"14.00\" fill=\"#000000\">samples = 10.9%</text>\n<text text-anchor=\"middle\" x=\"963\" y=\"-535.3\" font-family=\"Helvetica,sans-Serif\" font-size=\"14.00\" fill=\"#000000\">value = [0.159, 0.031, 0.81]</text>\n<text text-anchor=\"middle\" x=\"963\" y=\"-520.3\" font-family=\"Helvetica,sans-Serif\" font-size=\"14.00\" fill=\"#000000\">class = non functional</text>\n</g>\n<!-- 0&#45;&gt;12 -->\n<g id=\"edge12\" class=\"edge\">\n<title>0&#45;&gt;12</title>\n<path fill=\"none\" stroke=\"#000000\" d=\"M876.912,-608.9465C891.5533,-597.0504 907.9526,-583.726 922.4785,-571.9237\"/>\n<polygon fill=\"#000000\" stroke=\"#000000\" points=\"924.7786,-574.5645 930.3327,-565.5422 920.3645,-569.1317 924.7786,-574.5645\"/>\n<text text-anchor=\"middle\" x=\"927.7602\" y=\"-586.7095\" font-family=\"Helvetica,sans-Serif\" font-size=\"14.00\" fill=\"#000000\">False</text>\n</g>\n<!-- 2 -->\n<g id=\"node3\" class=\"node\">\n<title>2</title>\n<path fill=\"#f4caac\" stroke=\"#000000\" d=\"M708.5,-469C708.5,-469 443.5,-469 443.5,-469 437.5,-469 431.5,-463 431.5,-457 431.5,-457 431.5,-413 431.5,-413 431.5,-407 437.5,-401 443.5,-401 443.5,-401 708.5,-401 708.5,-401 714.5,-401 720.5,-407 720.5,-413 720.5,-413 720.5,-457 720.5,-457 720.5,-463 714.5,-469 708.5,-469\"/>\n<text text-anchor=\"middle\" x=\"576\" y=\"-453.8\" font-family=\"Helvetica,sans-Serif\" font-size=\"14.00\" fill=\"#000000\">extraction_type_class_submersible &lt;= 0.5</text>\n<text text-anchor=\"middle\" x=\"576\" y=\"-438.8\" font-family=\"Helvetica,sans-Serif\" font-size=\"14.00\" fill=\"#000000\">samples = 84.1%</text>\n<text text-anchor=\"middle\" x=\"576\" y=\"-423.8\" font-family=\"Helvetica,sans-Serif\" font-size=\"14.00\" fill=\"#000000\">value = [0.603, 0.08, 0.318]</text>\n<text text-anchor=\"middle\" x=\"576\" y=\"-408.8\" font-family=\"Helvetica,sans-Serif\" font-size=\"14.00\" fill=\"#000000\">class = functional</text>\n</g>\n<!-- 1&#45;&gt;2 -->\n<g id=\"edge2\" class=\"edge\">\n<title>1&#45;&gt;2</title>\n<path fill=\"none\" stroke=\"#000000\" d=\"M664.1057,-504.9465C652.2307,-495.519 639.2259,-485.1946 626.9407,-475.4415\"/>\n<polygon fill=\"#000000\" stroke=\"#000000\" points=\"628.9989,-472.6066 618.9907,-469.13 624.6464,-478.089 628.9989,-472.6066\"/>\n</g>\n<!-- 11 -->\n<g id=\"node12\" class=\"node\">\n<title>11</title>\n<path fill=\"#d8c1f7\" stroke=\"#000000\" d=\"M927,-461.5C927,-461.5 751,-461.5 751,-461.5 745,-461.5 739,-455.5 739,-449.5 739,-449.5 739,-420.5 739,-420.5 739,-414.5 745,-408.5 751,-408.5 751,-408.5 927,-408.5 927,-408.5 933,-408.5 939,-414.5 939,-420.5 939,-420.5 939,-449.5 939,-449.5 939,-455.5 933,-461.5 927,-461.5\"/>\n<text text-anchor=\"middle\" x=\"839\" y=\"-446.3\" font-family=\"Helvetica,sans-Serif\" font-size=\"14.00\" fill=\"#000000\">samples = 5.0%</text>\n<text text-anchor=\"middle\" x=\"839\" y=\"-431.3\" font-family=\"Helvetica,sans-Serif\" font-size=\"14.00\" fill=\"#000000\">value = [0.381, 0.045, 0.574]</text>\n<text text-anchor=\"middle\" x=\"839\" y=\"-416.3\" font-family=\"Helvetica,sans-Serif\" font-size=\"14.00\" fill=\"#000000\">class = non functional</text>\n</g>\n<!-- 1&#45;&gt;11 -->\n<g id=\"edge11\" class=\"edge\">\n<title>1&#45;&gt;11</title>\n<path fill=\"none\" stroke=\"#000000\" d=\"M750.2217,-504.9465C765.3206,-493.0504 782.2324,-479.726 797.2122,-467.9237\"/>\n<polygon fill=\"#000000\" stroke=\"#000000\" points=\"799.623,-470.4802 805.3119,-461.5422 795.2909,-464.9817 799.623,-470.4802\"/>\n</g>\n<!-- 3 -->\n<g id=\"node4\" class=\"node\">\n<title>3</title>\n<path fill=\"#f4c7a8\" stroke=\"#000000\" d=\"M568.5,-365C568.5,-365 339.5,-365 339.5,-365 333.5,-365 327.5,-359 327.5,-353 327.5,-353 327.5,-309 327.5,-309 327.5,-303 333.5,-297 339.5,-297 339.5,-297 568.5,-297 568.5,-297 574.5,-297 580.5,-303 580.5,-309 580.5,-309 580.5,-353 580.5,-353 580.5,-359 574.5,-365 568.5,-365\"/>\n<text text-anchor=\"middle\" x=\"454\" y=\"-349.8\" font-family=\"Helvetica,sans-Serif\" font-size=\"14.00\" fill=\"#000000\">extraction_type_class_gravity &lt;= 0.5</text>\n<text text-anchor=\"middle\" x=\"454\" y=\"-334.8\" font-family=\"Helvetica,sans-Serif\" font-size=\"14.00\" fill=\"#000000\">samples = 73.8%</text>\n<text text-anchor=\"middle\" x=\"454\" y=\"-319.8\" font-family=\"Helvetica,sans-Serif\" font-size=\"14.00\" fill=\"#000000\">value = [0.611, 0.085, 0.304]</text>\n<text text-anchor=\"middle\" x=\"454\" y=\"-304.8\" font-family=\"Helvetica,sans-Serif\" font-size=\"14.00\" fill=\"#000000\">class = functional</text>\n</g>\n<!-- 2&#45;&gt;3 -->\n<g id=\"edge3\" class=\"edge\">\n<title>2&#45;&gt;3</title>\n<path fill=\"none\" stroke=\"#000000\" d=\"M536.0526,-400.9465C525.0988,-391.6088 513.1127,-381.3911 501.768,-371.7203\"/>\n<polygon fill=\"#000000\" stroke=\"#000000\" points=\"503.9179,-368.9538 494.0371,-365.13 499.3767,-374.2809 503.9179,-368.9538\"/>\n</g>\n<!-- 10 -->\n<g id=\"node11\" class=\"node\">\n<title>10</title>\n<path fill=\"#f9e4d5\" stroke=\"#000000\" d=\"M787,-357.5C787,-357.5 611,-357.5 611,-357.5 605,-357.5 599,-351.5 599,-345.5 599,-345.5 599,-316.5 599,-316.5 599,-310.5 605,-304.5 611,-304.5 611,-304.5 787,-304.5 787,-304.5 793,-304.5 799,-310.5 799,-316.5 799,-316.5 799,-345.5 799,-345.5 799,-351.5 793,-357.5 787,-357.5\"/>\n<text text-anchor=\"middle\" x=\"699\" y=\"-342.3\" font-family=\"Helvetica,sans-Serif\" font-size=\"14.00\" fill=\"#000000\">samples = 10.3%</text>\n<text text-anchor=\"middle\" x=\"699\" y=\"-327.3\" font-family=\"Helvetica,sans-Serif\" font-size=\"14.00\" fill=\"#000000\">value = [0.541, 0.042, 0.416]</text>\n<text text-anchor=\"middle\" x=\"699\" y=\"-312.3\" font-family=\"Helvetica,sans-Serif\" font-size=\"14.00\" fill=\"#000000\">class = functional</text>\n</g>\n<!-- 2&#45;&gt;10 -->\n<g id=\"edge10\" class=\"edge\">\n<title>2&#45;&gt;10</title>\n<path fill=\"none\" stroke=\"#000000\" d=\"M616.2748,-400.9465C630.2139,-389.1606 645.8112,-375.9726 659.6732,-364.2519\"/>\n<polygon fill=\"#000000\" stroke=\"#000000\" points=\"662.2324,-366.6715 667.6088,-357.5422 657.7127,-361.3262 662.2324,-366.6715\"/>\n</g>\n<!-- 4 -->\n<g id=\"node5\" class=\"node\">\n<title>4</title>\n<path fill=\"#f3c5a4\" stroke=\"#000000\" d=\"M458.5,-261C458.5,-261 181.5,-261 181.5,-261 175.5,-261 169.5,-255 169.5,-249 169.5,-249 169.5,-205 169.5,-205 169.5,-199 175.5,-193 181.5,-193 181.5,-193 458.5,-193 458.5,-193 464.5,-193 470.5,-199 470.5,-205 470.5,-205 470.5,-249 470.5,-249 470.5,-255 464.5,-261 458.5,-261\"/>\n<text text-anchor=\"middle\" x=\"320\" y=\"-245.8\" font-family=\"Helvetica,sans-Serif\" font-size=\"14.00\" fill=\"#000000\">extraction_type_class_wind&#45;powered &lt;= 0.5</text>\n<text text-anchor=\"middle\" x=\"320\" y=\"-230.8\" font-family=\"Helvetica,sans-Serif\" font-size=\"14.00\" fill=\"#000000\">samples = 28.7%</text>\n<text text-anchor=\"middle\" x=\"320\" y=\"-215.8\" font-family=\"Helvetica,sans-Serif\" font-size=\"14.00\" fill=\"#000000\">value = [0.629, 0.059, 0.311]</text>\n<text text-anchor=\"middle\" x=\"320\" y=\"-200.8\" font-family=\"Helvetica,sans-Serif\" font-size=\"14.00\" fill=\"#000000\">class = functional</text>\n</g>\n<!-- 3&#45;&gt;4 -->\n<g id=\"edge4\" class=\"edge\">\n<title>3&#45;&gt;4</title>\n<path fill=\"none\" stroke=\"#000000\" d=\"M410.1234,-296.9465C397.9765,-287.519 384.6738,-277.1946 372.1073,-267.4415\"/>\n<polygon fill=\"#000000\" stroke=\"#000000\" points=\"374.021,-264.4963 363.9752,-261.13 369.7291,-270.0262 374.021,-264.4963\"/>\n</g>\n<!-- 9 -->\n<g id=\"node10\" class=\"node\">\n<title>9</title>\n<path fill=\"#f4c9aa\" stroke=\"#000000\" d=\"M677,-253.5C677,-253.5 501,-253.5 501,-253.5 495,-253.5 489,-247.5 489,-241.5 489,-241.5 489,-212.5 489,-212.5 489,-206.5 495,-200.5 501,-200.5 501,-200.5 677,-200.5 677,-200.5 683,-200.5 689,-206.5 689,-212.5 689,-212.5 689,-241.5 689,-241.5 689,-247.5 683,-253.5 677,-253.5\"/>\n<text text-anchor=\"middle\" x=\"589\" y=\"-238.3\" font-family=\"Helvetica,sans-Serif\" font-size=\"14.00\" fill=\"#000000\">samples = 45.1%</text>\n<text text-anchor=\"middle\" x=\"589\" y=\"-223.3\" font-family=\"Helvetica,sans-Serif\" font-size=\"14.00\" fill=\"#000000\">value = [0.599, 0.101, 0.299]</text>\n<text text-anchor=\"middle\" x=\"589\" y=\"-208.3\" font-family=\"Helvetica,sans-Serif\" font-size=\"14.00\" fill=\"#000000\">class = functional</text>\n</g>\n<!-- 3&#45;&gt;9 -->\n<g id=\"edge9\" class=\"edge\">\n<title>3&#45;&gt;9</title>\n<path fill=\"none\" stroke=\"#000000\" d=\"M498.204,-296.9465C513.6461,-285.0504 530.9422,-271.726 546.2625,-259.9237\"/>\n<polygon fill=\"#000000\" stroke=\"#000000\" points=\"548.7603,-262.4176 554.5462,-253.5422 544.4883,-256.8723 548.7603,-262.4176\"/>\n</g>\n<!-- 5 -->\n<g id=\"node6\" class=\"node\">\n<title>5</title>\n<path fill=\"#f3c4a3\" stroke=\"#000000\" d=\"M319,-157C319,-157 63,-157 63,-157 57,-157 51,-151 51,-145 51,-145 51,-101 51,-101 51,-95 57,-89 63,-89 63,-89 319,-89 319,-89 325,-89 331,-95 331,-101 331,-101 331,-145 331,-145 331,-151 325,-157 319,-157\"/>\n<text text-anchor=\"middle\" x=\"191\" y=\"-141.8\" font-family=\"Helvetica,sans-Serif\" font-size=\"14.00\" fill=\"#000000\">extraction_type_class_rope pump &lt;= 0.5</text>\n<text text-anchor=\"middle\" x=\"191\" y=\"-126.8\" font-family=\"Helvetica,sans-Serif\" font-size=\"14.00\" fill=\"#000000\">samples = 28.5%</text>\n<text text-anchor=\"middle\" x=\"191\" y=\"-111.8\" font-family=\"Helvetica,sans-Serif\" font-size=\"14.00\" fill=\"#000000\">value = [0.631, 0.059, 0.31]</text>\n<text text-anchor=\"middle\" x=\"191\" y=\"-96.8\" font-family=\"Helvetica,sans-Serif\" font-size=\"14.00\" fill=\"#000000\">class = functional</text>\n</g>\n<!-- 4&#45;&gt;5 -->\n<g id=\"edge5\" class=\"edge\">\n<title>4&#45;&gt;5</title>\n<path fill=\"none\" stroke=\"#000000\" d=\"M277.7606,-192.9465C266.0669,-183.519 253.2606,-173.1946 241.163,-163.4415\"/>\n<polygon fill=\"#000000\" stroke=\"#000000\" points=\"243.3162,-160.6816 233.3343,-157.13 238.9227,-166.1312 243.3162,-160.6816\"/>\n</g>\n<!-- 8 -->\n<g id=\"node9\" class=\"node\">\n<title>8</title>\n<path fill=\"#f8f3fd\" stroke=\"#000000\" d=\"M537,-149.5C537,-149.5 361,-149.5 361,-149.5 355,-149.5 349,-143.5 349,-137.5 349,-137.5 349,-108.5 349,-108.5 349,-102.5 355,-96.5 361,-96.5 361,-96.5 537,-96.5 537,-96.5 543,-96.5 549,-102.5 549,-108.5 549,-108.5 549,-137.5 549,-137.5 549,-143.5 543,-149.5 537,-149.5\"/>\n<text text-anchor=\"middle\" x=\"449\" y=\"-134.3\" font-family=\"Helvetica,sans-Serif\" font-size=\"14.00\" fill=\"#000000\">samples = 0.2%</text>\n<text text-anchor=\"middle\" x=\"449\" y=\"-119.3\" font-family=\"Helvetica,sans-Serif\" font-size=\"14.00\" fill=\"#000000\">value = [0.452, 0.065, 0.484]</text>\n<text text-anchor=\"middle\" x=\"449\" y=\"-104.3\" font-family=\"Helvetica,sans-Serif\" font-size=\"14.00\" fill=\"#000000\">class = non functional</text>\n</g>\n<!-- 4&#45;&gt;8 -->\n<g id=\"edge8\" class=\"edge\">\n<title>4&#45;&gt;8</title>\n<path fill=\"none\" stroke=\"#000000\" d=\"M362.2394,-192.9465C376.9952,-181.0504 393.5225,-167.726 408.162,-155.9237\"/>\n<polygon fill=\"#000000\" stroke=\"#000000\" points=\"410.4891,-158.5433 416.0775,-149.5422 406.0957,-153.0938 410.4891,-158.5433\"/>\n</g>\n<!-- 6 -->\n<g id=\"node7\" class=\"node\">\n<title>6</title>\n<path fill=\"#f3c5a3\" stroke=\"#000000\" d=\"M164,-53C164,-53 12,-53 12,-53 6,-53 0,-47 0,-41 0,-41 0,-12 0,-12 0,-6 6,0 12,0 12,0 164,0 164,0 170,0 176,-6 176,-12 176,-12 176,-41 176,-41 176,-47 170,-53 164,-53\"/>\n<text text-anchor=\"middle\" x=\"88\" y=\"-37.8\" font-family=\"Helvetica,sans-Serif\" font-size=\"14.00\" fill=\"#000000\">samples = 27.7%</text>\n<text text-anchor=\"middle\" x=\"88\" y=\"-22.8\" font-family=\"Helvetica,sans-Serif\" font-size=\"14.00\" fill=\"#000000\">value = [0.63, 0.06, 0.31]</text>\n<text text-anchor=\"middle\" x=\"88\" y=\"-7.8\" font-family=\"Helvetica,sans-Serif\" font-size=\"14.00\" fill=\"#000000\">class = functional</text>\n</g>\n<!-- 5&#45;&gt;6 -->\n<g id=\"edge6\" class=\"edge\">\n<title>5&#45;&gt;6</title>\n<path fill=\"none\" stroke=\"#000000\" d=\"M154.6861,-88.9777C144.7168,-79.6376 133.9138,-69.5163 123.9643,-60.1947\"/>\n<polygon fill=\"#000000\" stroke=\"#000000\" points=\"126.2408,-57.5314 116.5502,-53.2485 121.4548,-62.6397 126.2408,-57.5314\"/>\n</g>\n<!-- 7 -->\n<g id=\"node8\" class=\"node\">\n<title>7</title>\n<path fill=\"#f2bf9b\" stroke=\"#000000\" d=\"M382,-53C382,-53 206,-53 206,-53 200,-53 194,-47 194,-41 194,-41 194,-12 194,-12 194,-6 200,0 206,0 206,0 382,0 382,0 388,0 394,-6 394,-12 394,-12 394,-41 394,-41 394,-47 388,-53 382,-53\"/>\n<text text-anchor=\"middle\" x=\"294\" y=\"-37.8\" font-family=\"Helvetica,sans-Serif\" font-size=\"14.00\" fill=\"#000000\">samples = 0.7%</text>\n<text text-anchor=\"middle\" x=\"294\" y=\"-22.8\" font-family=\"Helvetica,sans-Serif\" font-size=\"14.00\" fill=\"#000000\">value = [0.657, 0.037, 0.306]</text>\n<text text-anchor=\"middle\" x=\"294\" y=\"-7.8\" font-family=\"Helvetica,sans-Serif\" font-size=\"14.00\" fill=\"#000000\">class = functional</text>\n</g>\n<!-- 5&#45;&gt;7 -->\n<g id=\"edge7\" class=\"edge\">\n<title>5&#45;&gt;7</title>\n<path fill=\"none\" stroke=\"#000000\" d=\"M227.3139,-88.9777C237.2832,-79.6376 248.0862,-69.5163 258.0357,-60.1947\"/>\n<polygon fill=\"#000000\" stroke=\"#000000\" points=\"260.5452,-62.6397 265.4498,-53.2485 255.7592,-57.5314 260.5452,-62.6397\"/>\n</g>\n</g>\n</svg>\n"
          },
          "metadata": {
            "tags": []
          }
        }
      ]
    },
    {
      "cell_type": "markdown",
      "metadata": {
        "colab_type": "text",
        "id": "QUd6gzcZgLVz"
      },
      "source": [
        "### [Ordinal Encoding](http://contrib.scikit-learn.org/categorical-encoding/ordinal.html)\n",
        "\n",
        "> Ordinal encoding uses a single column of integers to represent the classes. An optional mapping dict can be passed in; in this case, we use the knowledge that there is some true order to the classes themselves. Otherwise, the classes are assumed to have no true order and integers are selected at random."
      ]
    },
    {
      "cell_type": "code",
      "metadata": {
        "colab_type": "code",
        "id": "CnBz2RbwgLVz",
        "colab": {
          "base_uri": "https://localhost:8080/",
          "height": 686
        },
        "outputId": "3faff9ff-dd56-485d-ff7d-77a1f6866e7d"
      },
      "source": [
        "encoder = ce.OrdinalEncoder()\n",
        "encoded = encoder.fit_transform(X_train[[feature]])\n",
        "print(f'1 column, {encoded[feature].nunique()} unique values')\n",
        "encoded.head(20)"
      ],
      "execution_count": 31,
      "outputs": [
        {
          "output_type": "stream",
          "text": [
            "1 column, 7 unique values\n"
          ],
          "name": "stdout"
        },
        {
          "output_type": "execute_result",
          "data": {
            "text/html": [
              "<div>\n",
              "<style scoped>\n",
              "    .dataframe tbody tr th:only-of-type {\n",
              "        vertical-align: middle;\n",
              "    }\n",
              "\n",
              "    .dataframe tbody tr th {\n",
              "        vertical-align: top;\n",
              "    }\n",
              "\n",
              "    .dataframe thead th {\n",
              "        text-align: right;\n",
              "    }\n",
              "</style>\n",
              "<table border=\"1\" class=\"dataframe\">\n",
              "  <thead>\n",
              "    <tr style=\"text-align: right;\">\n",
              "      <th></th>\n",
              "      <th>extraction_type_class</th>\n",
              "    </tr>\n",
              "  </thead>\n",
              "  <tbody>\n",
              "    <tr>\n",
              "      <th>43360</th>\n",
              "      <td>1</td>\n",
              "    </tr>\n",
              "    <tr>\n",
              "      <th>7263</th>\n",
              "      <td>1</td>\n",
              "    </tr>\n",
              "    <tr>\n",
              "      <th>2486</th>\n",
              "      <td>2</td>\n",
              "    </tr>\n",
              "    <tr>\n",
              "      <th>313</th>\n",
              "      <td>3</td>\n",
              "    </tr>\n",
              "    <tr>\n",
              "      <th>52726</th>\n",
              "      <td>4</td>\n",
              "    </tr>\n",
              "    <tr>\n",
              "      <th>8558</th>\n",
              "      <td>1</td>\n",
              "    </tr>\n",
              "    <tr>\n",
              "      <th>2559</th>\n",
              "      <td>1</td>\n",
              "    </tr>\n",
              "    <tr>\n",
              "      <th>54735</th>\n",
              "      <td>4</td>\n",
              "    </tr>\n",
              "    <tr>\n",
              "      <th>25763</th>\n",
              "      <td>2</td>\n",
              "    </tr>\n",
              "    <tr>\n",
              "      <th>44540</th>\n",
              "      <td>5</td>\n",
              "    </tr>\n",
              "    <tr>\n",
              "      <th>28603</th>\n",
              "      <td>3</td>\n",
              "    </tr>\n",
              "    <tr>\n",
              "      <th>4372</th>\n",
              "      <td>5</td>\n",
              "    </tr>\n",
              "    <tr>\n",
              "      <th>30666</th>\n",
              "      <td>1</td>\n",
              "    </tr>\n",
              "    <tr>\n",
              "      <th>6431</th>\n",
              "      <td>5</td>\n",
              "    </tr>\n",
              "    <tr>\n",
              "      <th>57420</th>\n",
              "      <td>3</td>\n",
              "    </tr>\n",
              "    <tr>\n",
              "      <th>1373</th>\n",
              "      <td>1</td>\n",
              "    </tr>\n",
              "    <tr>\n",
              "      <th>2026</th>\n",
              "      <td>1</td>\n",
              "    </tr>\n",
              "    <tr>\n",
              "      <th>58977</th>\n",
              "      <td>2</td>\n",
              "    </tr>\n",
              "    <tr>\n",
              "      <th>41101</th>\n",
              "      <td>1</td>\n",
              "    </tr>\n",
              "    <tr>\n",
              "      <th>10019</th>\n",
              "      <td>1</td>\n",
              "    </tr>\n",
              "  </tbody>\n",
              "</table>\n",
              "</div>"
            ],
            "text/plain": [
              "       extraction_type_class\n",
              "43360                      1\n",
              "7263                       1\n",
              "2486                       2\n",
              "313                        3\n",
              "52726                      4\n",
              "8558                       1\n",
              "2559                       1\n",
              "54735                      4\n",
              "25763                      2\n",
              "44540                      5\n",
              "28603                      3\n",
              "4372                       5\n",
              "30666                      1\n",
              "6431                       5\n",
              "57420                      3\n",
              "1373                       1\n",
              "2026                       1\n",
              "58977                      2\n",
              "41101                      1\n",
              "10019                      1"
            ]
          },
          "metadata": {
            "tags": []
          },
          "execution_count": 31
        }
      ]
    },
    {
      "cell_type": "markdown",
      "metadata": {
        "colab_type": "text",
        "id": "Nd-ZWprasqUM"
      },
      "source": [
        "#### Ordinal Encoding, Logistic Regression, Validation Accuracy"
      ]
    },
    {
      "cell_type": "code",
      "metadata": {
        "colab_type": "code",
        "id": "GJ1YpwjvrhfL",
        "colab": {
          "base_uri": "https://localhost:8080/",
          "height": 34
        },
        "outputId": "3efd979c-f43c-440e-fd3d-fb12e17774ff"
      },
      "source": [
        "lr = make_pipeline(\n",
        "    ce.OrdinalEncoder(), \n",
        "    SimpleImputer(), \n",
        "    StandardScaler(), \n",
        "    LogisticRegressionCV(multi_class='auto', solver='lbfgs', cv=5, n_jobs=-1)\n",
        ")\n",
        "\n",
        "lr.fit(X_train[[feature]], y_train)\n",
        "score = lr.score(X_val[[feature]], y_val)\n",
        "print('Logistic Regression, Validation Accuracy', score)"
      ],
      "execution_count": 32,
      "outputs": [
        {
          "output_type": "stream",
          "text": [
            "Logistic Regression, Validation Accuracy 0.5417508417508418\n"
          ],
          "name": "stdout"
        }
      ]
    },
    {
      "cell_type": "markdown",
      "metadata": {
        "colab_type": "text",
        "id": "9lO_R3SksuHs"
      },
      "source": [
        "#### Ordinal Encoding, Decision Tree, Validation Accuracy"
      ]
    },
    {
      "cell_type": "code",
      "metadata": {
        "colab_type": "code",
        "id": "aOELD_roriVI",
        "colab": {
          "base_uri": "https://localhost:8080/",
          "height": 34
        },
        "outputId": "3cdd53b4-17f5-46a0-aecd-38fa6e2b0d80"
      },
      "source": [
        "dt = make_pipeline(\n",
        "    ce.OrdinalEncoder(), \n",
        "    SimpleImputer(), \n",
        "    DecisionTreeClassifier(random_state=42)\n",
        ")\n",
        "\n",
        "dt.fit(X_train[[feature]], y_train)\n",
        "score = dt.score(X_val[[feature]], y_val)\n",
        "print('Decision Tree, Validation Accuracy', score)"
      ],
      "execution_count": 33,
      "outputs": [
        {
          "output_type": "stream",
          "text": [
            "Decision Tree, Validation Accuracy 0.6202861952861953\n"
          ],
          "name": "stdout"
        }
      ]
    },
    {
      "cell_type": "markdown",
      "metadata": {
        "colab_type": "text",
        "id": "7V2zHjiwswTg"
      },
      "source": [
        "#### Ordinal Encoding, Logistic Regression, Model Interpretation"
      ]
    },
    {
      "cell_type": "code",
      "metadata": {
        "colab_type": "code",
        "id": "S9UPYPois8QR",
        "colab": {
          "base_uri": "https://localhost:8080/",
          "height": 265
        },
        "outputId": "d2b22ce3-55dc-45a5-c73d-9f8ee6b63148"
      },
      "source": [
        "model = lr.named_steps['logisticregressioncv']\n",
        "encoder = lr.named_steps['ordinalencoder']\n",
        "encoded_columns = encoder.transform(X_val[[feature]]).columns\n",
        "coefficients = pd.Series(model.coef_[0], encoded_columns)\n",
        "coefficients.sort_values().plot.barh(color='grey');"
      ],
      "execution_count": 34,
      "outputs": [
        {
          "output_type": "display_data",
          "data": {
            "image/png": "[encoded data removed]",
            "text/plain": [
              "<Figure size 432x288 with 1 Axes>"
            ]
          },
          "metadata": {
            "tags": []
          }
        }
      ]
    },
    {
      "cell_type": "markdown",
      "metadata": {
        "colab_type": "text",
        "id": "MvmmvE8fsymh"
      },
      "source": [
        "#### Ordinal Encoding, Decision Tree, Model Interpretation"
      ]
    },
    {
      "cell_type": "code",
      "metadata": {
        "colab_type": "code",
        "id": "jCvUu4Oms88b",
        "colab": {
          "base_uri": "https://localhost:8080/",
          "height": 796
        },
        "outputId": "38b717e6-c24c-43e1-b402-91cdbe8d9fe1"
      },
      "source": [
        "model = dt.named_steps['decisiontreeclassifier']\n",
        "encoder = dt.named_steps['ordinalencoder']\n",
        "encoded_columns = encoder.transform(X_val[[feature]]).columns\n",
        "\n",
        "dot_data = export_graphviz(model, \n",
        "                           out_file=None, \n",
        "                           max_depth=5, \n",
        "                           feature_names=encoded_columns,\n",
        "                           class_names=model.classes_, \n",
        "                           impurity=False, \n",
        "                           filled=True, \n",
        "                           proportion=True, \n",
        "                           rounded=True)   \n",
        "display(graphviz.Source(dot_data))"
      ],
      "execution_count": 35,
      "outputs": [
        {
          "output_type": "display_data",
          "data": {
            "text/plain": [
              "<graphviz.files.Source at 0x7f1ddd4eadd8>"
            ],
            "image/svg+xml": "<?xml version=\"1.0\" encoding=\"UTF-8\" standalone=\"no\"?>\n<!DOCTYPE svg PUBLIC \"-//W3C//DTD SVG 1.1//EN\"\n \"http://www.w3.org/Graphics/SVG/1.1/DTD/svg11.dtd\">\n<!-- Generated by graphviz version 2.40.1 (20161225.0304)\n -->\n<!-- Title: Tree Pages: 1 -->\n<svg width=\"1167pt\" height=\"581pt\"\n viewBox=\"0.00 0.00 1167.00 581.00\" xmlns=\"http://www.w3.org/2000/svg\" xmlns:xlink=\"http://www.w3.org/1999/xlink\">\n<g id=\"graph0\" class=\"graph\" transform=\"scale(1 1) rotate(0) translate(4 577)\">\n<title>Tree</title>\n<polygon fill=\"#ffffff\" stroke=\"transparent\" points=\"-4,4 -4,-577 1163,-577 1163,4 -4,4\"/>\n<!-- 0 -->\n<g id=\"node1\" class=\"node\">\n<title>0</title>\n<path fill=\"#f8decc\" stroke=\"#000000\" d=\"M500,-573C500,-573 322,-573 322,-573 316,-573 310,-567 310,-561 310,-561 310,-517 310,-517 310,-511 316,-505 322,-505 322,-505 500,-505 500,-505 506,-505 512,-511 512,-517 512,-517 512,-561 512,-561 512,-567 506,-573 500,-573\"/>\n<text text-anchor=\"middle\" x=\"411\" y=\"-557.8\" font-family=\"Helvetica,sans-Serif\" font-size=\"14.00\" fill=\"#000000\">extraction_type_class &lt;= 2.5</text>\n<text text-anchor=\"middle\" x=\"411\" y=\"-542.8\" font-family=\"Helvetica,sans-Serif\" font-size=\"14.00\" fill=\"#000000\">samples = 100.0%</text>\n<text text-anchor=\"middle\" x=\"411\" y=\"-527.8\" font-family=\"Helvetica,sans-Serif\" font-size=\"14.00\" fill=\"#000000\">value = [0.543, 0.073, 0.384]</text>\n<text text-anchor=\"middle\" x=\"411\" y=\"-512.8\" font-family=\"Helvetica,sans-Serif\" font-size=\"14.00\" fill=\"#000000\">class = functional</text>\n</g>\n<!-- 1 -->\n<g id=\"node2\" class=\"node\">\n<title>1</title>\n<path fill=\"#f4c7a8\" stroke=\"#000000\" d=\"M390,-469C390,-469 212,-469 212,-469 206,-469 200,-463 200,-457 200,-457 200,-413 200,-413 200,-407 206,-401 212,-401 212,-401 390,-401 390,-401 396,-401 402,-407 402,-413 402,-413 402,-457 402,-457 402,-463 396,-469 390,-469\"/>\n<text text-anchor=\"middle\" x=\"301\" y=\"-453.8\" font-family=\"Helvetica,sans-Serif\" font-size=\"14.00\" fill=\"#000000\">extraction_type_class &lt;= 1.5</text>\n<text text-anchor=\"middle\" x=\"301\" y=\"-438.8\" font-family=\"Helvetica,sans-Serif\" font-size=\"14.00\" fill=\"#000000\">samples = 72.9%</text>\n<text text-anchor=\"middle\" x=\"301\" y=\"-423.8\" font-family=\"Helvetica,sans-Serif\" font-size=\"14.00\" fill=\"#000000\">value = [0.611, 0.085, 0.304]</text>\n<text text-anchor=\"middle\" x=\"301\" y=\"-408.8\" font-family=\"Helvetica,sans-Serif\" font-size=\"14.00\" fill=\"#000000\">class = functional</text>\n</g>\n<!-- 0&#45;&gt;1 -->\n<g id=\"edge1\" class=\"edge\">\n<title>0&#45;&gt;1</title>\n<path fill=\"none\" stroke=\"#000000\" d=\"M374.9819,-504.9465C365.2954,-495.7884 354.7136,-485.7838 344.6603,-476.2788\"/>\n<polygon fill=\"#000000\" stroke=\"#000000\" points=\"346.7701,-473.4569 337.099,-469.13 341.961,-478.5434 346.7701,-473.4569\"/>\n<text text-anchor=\"middle\" x=\"337.7997\" y=\"-490.4202\" font-family=\"Helvetica,sans-Serif\" font-size=\"14.00\" fill=\"#000000\">True</text>\n</g>\n<!-- 4 -->\n<g id=\"node5\" class=\"node\">\n<title>4</title>\n<path fill=\"#d0b4f5\" stroke=\"#000000\" d=\"M610,-469C610,-469 432,-469 432,-469 426,-469 420,-463 420,-457 420,-457 420,-413 420,-413 420,-407 426,-401 432,-401 432,-401 610,-401 610,-401 616,-401 622,-407 622,-413 622,-413 622,-457 622,-457 622,-463 616,-469 610,-469\"/>\n<text text-anchor=\"middle\" x=\"521\" y=\"-453.8\" font-family=\"Helvetica,sans-Serif\" font-size=\"14.00\" fill=\"#000000\">extraction_type_class &lt;= 3.5</text>\n<text text-anchor=\"middle\" x=\"521\" y=\"-438.8\" font-family=\"Helvetica,sans-Serif\" font-size=\"14.00\" fill=\"#000000\">samples = 27.1%</text>\n<text text-anchor=\"middle\" x=\"521\" y=\"-423.8\" font-family=\"Helvetica,sans-Serif\" font-size=\"14.00\" fill=\"#000000\">value = [0.361, 0.038, 0.601]</text>\n<text text-anchor=\"middle\" x=\"521\" y=\"-408.8\" font-family=\"Helvetica,sans-Serif\" font-size=\"14.00\" fill=\"#000000\">class = non functional</text>\n</g>\n<!-- 0&#45;&gt;4 -->\n<g id=\"edge4\" class=\"edge\">\n<title>0&#45;&gt;4</title>\n<path fill=\"none\" stroke=\"#000000\" d=\"M447.0181,-504.9465C456.7046,-495.7884 467.2864,-485.7838 477.3397,-476.2788\"/>\n<polygon fill=\"#000000\" stroke=\"#000000\" points=\"480.039,-478.5434 484.901,-469.13 475.2299,-473.4569 480.039,-478.5434\"/>\n<text text-anchor=\"middle\" x=\"484.2003\" y=\"-490.4202\" font-family=\"Helvetica,sans-Serif\" font-size=\"14.00\" fill=\"#000000\">False</text>\n</g>\n<!-- 2 -->\n<g id=\"node3\" class=\"node\">\n<title>2</title>\n<path fill=\"#f4c9aa\" stroke=\"#000000\" d=\"M188,-357.5C188,-357.5 12,-357.5 12,-357.5 6,-357.5 0,-351.5 0,-345.5 0,-345.5 0,-316.5 0,-316.5 0,-310.5 6,-304.5 12,-304.5 12,-304.5 188,-304.5 188,-304.5 194,-304.5 200,-310.5 200,-316.5 200,-316.5 200,-345.5 200,-345.5 200,-351.5 194,-357.5 188,-357.5\"/>\n<text text-anchor=\"middle\" x=\"100\" y=\"-342.3\" font-family=\"Helvetica,sans-Serif\" font-size=\"14.00\" fill=\"#000000\">samples = 45.1%</text>\n<text text-anchor=\"middle\" x=\"100\" y=\"-327.3\" font-family=\"Helvetica,sans-Serif\" font-size=\"14.00\" fill=\"#000000\">value = [0.599, 0.101, 0.299]</text>\n<text text-anchor=\"middle\" x=\"100\" y=\"-312.3\" font-family=\"Helvetica,sans-Serif\" font-size=\"14.00\" fill=\"#000000\">class = functional</text>\n</g>\n<!-- 1&#45;&gt;2 -->\n<g id=\"edge2\" class=\"edge\">\n<title>1&#45;&gt;2</title>\n<path fill=\"none\" stroke=\"#000000\" d=\"M235.1851,-400.9465C211.1292,-388.4997 184.0513,-374.4892 160.4827,-362.2946\"/>\n<polygon fill=\"#000000\" stroke=\"#000000\" points=\"161.7878,-359.0291 151.2978,-357.5422 158.571,-365.2462 161.7878,-359.0291\"/>\n</g>\n<!-- 3 -->\n<g id=\"node4\" class=\"node\">\n<title>3</title>\n<path fill=\"#f3c5a3\" stroke=\"#000000\" d=\"M382,-357.5C382,-357.5 230,-357.5 230,-357.5 224,-357.5 218,-351.5 218,-345.5 218,-345.5 218,-316.5 218,-316.5 218,-310.5 224,-304.5 230,-304.5 230,-304.5 382,-304.5 382,-304.5 388,-304.5 394,-310.5 394,-316.5 394,-316.5 394,-345.5 394,-345.5 394,-351.5 388,-357.5 382,-357.5\"/>\n<text text-anchor=\"middle\" x=\"306\" y=\"-342.3\" font-family=\"Helvetica,sans-Serif\" font-size=\"14.00\" fill=\"#000000\">samples = 27.7%</text>\n<text text-anchor=\"middle\" x=\"306\" y=\"-327.3\" font-family=\"Helvetica,sans-Serif\" font-size=\"14.00\" fill=\"#000000\">value = [0.63, 0.06, 0.31]</text>\n<text text-anchor=\"middle\" x=\"306\" y=\"-312.3\" font-family=\"Helvetica,sans-Serif\" font-size=\"14.00\" fill=\"#000000\">class = functional</text>\n</g>\n<!-- 1&#45;&gt;3 -->\n<g id=\"edge3\" class=\"edge\">\n<title>1&#45;&gt;3</title>\n<path fill=\"none\" stroke=\"#000000\" d=\"M302.6372,-400.9465C303.1509,-390.2621 303.7199,-378.4254 304.2416,-367.5742\"/>\n<polygon fill=\"#000000\" stroke=\"#000000\" points=\"307.7396,-367.6987 304.7239,-357.5422 300.7477,-367.3625 307.7396,-367.6987\"/>\n</g>\n<!-- 5 -->\n<g id=\"node6\" class=\"node\">\n<title>5</title>\n<path fill=\"#9d66eb\" stroke=\"#000000\" d=\"M601,-357.5C601,-357.5 433,-357.5 433,-357.5 427,-357.5 421,-351.5 421,-345.5 421,-345.5 421,-316.5 421,-316.5 421,-310.5 427,-304.5 433,-304.5 433,-304.5 601,-304.5 601,-304.5 607,-304.5 613,-310.5 613,-316.5 613,-316.5 613,-345.5 613,-345.5 613,-351.5 607,-357.5 601,-357.5\"/>\n<text text-anchor=\"middle\" x=\"517\" y=\"-342.3\" font-family=\"Helvetica,sans-Serif\" font-size=\"14.00\" fill=\"#000000\">samples = 10.9%</text>\n<text text-anchor=\"middle\" x=\"517\" y=\"-327.3\" font-family=\"Helvetica,sans-Serif\" font-size=\"14.00\" fill=\"#000000\">value = [0.159, 0.031, 0.81]</text>\n<text text-anchor=\"middle\" x=\"517\" y=\"-312.3\" font-family=\"Helvetica,sans-Serif\" font-size=\"14.00\" fill=\"#000000\">class = non functional</text>\n</g>\n<!-- 4&#45;&gt;5 -->\n<g id=\"edge5\" class=\"edge\">\n<title>4&#45;&gt;5</title>\n<path fill=\"none\" stroke=\"#000000\" d=\"M519.6903,-400.9465C519.2793,-390.2621 518.8241,-378.4254 518.4067,-367.5742\"/>\n<polygon fill=\"#000000\" stroke=\"#000000\" points=\"521.9027,-367.4002 518.0209,-357.5422 514.9079,-367.6693 521.9027,-367.4002\"/>\n</g>\n<!-- 6 -->\n<g id=\"node7\" class=\"node\">\n<title>6</title>\n<path fill=\"#fdf7f2\" stroke=\"#000000\" d=\"M821,-365C821,-365 643,-365 643,-365 637,-365 631,-359 631,-353 631,-353 631,-309 631,-309 631,-303 637,-297 643,-297 643,-297 821,-297 821,-297 827,-297 833,-303 833,-309 833,-309 833,-353 833,-353 833,-359 827,-365 821,-365\"/>\n<text text-anchor=\"middle\" x=\"732\" y=\"-349.8\" font-family=\"Helvetica,sans-Serif\" font-size=\"14.00\" fill=\"#000000\">extraction_type_class &lt;= 4.5</text>\n<text text-anchor=\"middle\" x=\"732\" y=\"-334.8\" font-family=\"Helvetica,sans-Serif\" font-size=\"14.00\" fill=\"#000000\">samples = 16.2%</text>\n<text text-anchor=\"middle\" x=\"732\" y=\"-319.8\" font-family=\"Helvetica,sans-Serif\" font-size=\"14.00\" fill=\"#000000\">value = [0.497, 0.043, 0.46]</text>\n<text text-anchor=\"middle\" x=\"732\" y=\"-304.8\" font-family=\"Helvetica,sans-Serif\" font-size=\"14.00\" fill=\"#000000\">class = functional</text>\n</g>\n<!-- 4&#45;&gt;6 -->\n<g id=\"edge6\" class=\"edge\">\n<title>4&#45;&gt;6</title>\n<path fill=\"none\" stroke=\"#000000\" d=\"M590.0893,-400.9465C610.4002,-390.9354 632.7633,-379.9129 653.6112,-369.6371\"/>\n<polygon fill=\"#000000\" stroke=\"#000000\" points=\"655.3332,-372.6905 662.7555,-365.13 652.2385,-366.4117 655.3332,-372.6905\"/>\n</g>\n<!-- 7 -->\n<g id=\"node8\" class=\"node\">\n<title>7</title>\n<path fill=\"#d8c1f7\" stroke=\"#000000\" d=\"M710,-253.5C710,-253.5 534,-253.5 534,-253.5 528,-253.5 522,-247.5 522,-241.5 522,-241.5 522,-212.5 522,-212.5 522,-206.5 528,-200.5 534,-200.5 534,-200.5 710,-200.5 710,-200.5 716,-200.5 722,-206.5 722,-212.5 722,-212.5 722,-241.5 722,-241.5 722,-247.5 716,-253.5 710,-253.5\"/>\n<text text-anchor=\"middle\" x=\"622\" y=\"-238.3\" font-family=\"Helvetica,sans-Serif\" font-size=\"14.00\" fill=\"#000000\">samples = 5.0%</text>\n<text text-anchor=\"middle\" x=\"622\" y=\"-223.3\" font-family=\"Helvetica,sans-Serif\" font-size=\"14.00\" fill=\"#000000\">value = [0.381, 0.045, 0.574]</text>\n<text text-anchor=\"middle\" x=\"622\" y=\"-208.3\" font-family=\"Helvetica,sans-Serif\" font-size=\"14.00\" fill=\"#000000\">class = non functional</text>\n</g>\n<!-- 6&#45;&gt;7 -->\n<g id=\"edge7\" class=\"edge\">\n<title>6&#45;&gt;7</title>\n<path fill=\"none\" stroke=\"#000000\" d=\"M695.9819,-296.9465C683.6325,-285.2707 669.8278,-272.219 657.5183,-260.5809\"/>\n<polygon fill=\"#000000\" stroke=\"#000000\" points=\"659.7445,-257.869 650.0734,-253.5422 654.9354,-262.9556 659.7445,-257.869\"/>\n</g>\n<!-- 8 -->\n<g id=\"node9\" class=\"node\">\n<title>8</title>\n<path fill=\"#f9e2d1\" stroke=\"#000000\" d=\"M930,-261C930,-261 752,-261 752,-261 746,-261 740,-255 740,-249 740,-249 740,-205 740,-205 740,-199 746,-193 752,-193 752,-193 930,-193 930,-193 936,-193 942,-199 942,-205 942,-205 942,-249 942,-249 942,-255 936,-261 930,-261\"/>\n<text text-anchor=\"middle\" x=\"841\" y=\"-245.8\" font-family=\"Helvetica,sans-Serif\" font-size=\"14.00\" fill=\"#000000\">extraction_type_class &lt;= 5.5</text>\n<text text-anchor=\"middle\" x=\"841\" y=\"-230.8\" font-family=\"Helvetica,sans-Serif\" font-size=\"14.00\" fill=\"#000000\">samples = 11.2%</text>\n<text text-anchor=\"middle\" x=\"841\" y=\"-215.8\" font-family=\"Helvetica,sans-Serif\" font-size=\"14.00\" fill=\"#000000\">value = [0.548, 0.042, 0.41]</text>\n<text text-anchor=\"middle\" x=\"841\" y=\"-200.8\" font-family=\"Helvetica,sans-Serif\" font-size=\"14.00\" fill=\"#000000\">class = functional</text>\n</g>\n<!-- 6&#45;&gt;8 -->\n<g id=\"edge8\" class=\"edge\">\n<title>6&#45;&gt;8</title>\n<path fill=\"none\" stroke=\"#000000\" d=\"M767.6907,-296.9465C777.2891,-287.7884 787.7747,-277.7838 797.7366,-268.2788\"/>\n<polygon fill=\"#000000\" stroke=\"#000000\" points=\"800.4102,-270.5655 805.2291,-261.13 795.5779,-265.5009 800.4102,-270.5655\"/>\n</g>\n<!-- 9 -->\n<g id=\"node10\" class=\"node\">\n<title>9</title>\n<path fill=\"#f9e4d5\" stroke=\"#000000\" d=\"M819,-149.5C819,-149.5 643,-149.5 643,-149.5 637,-149.5 631,-143.5 631,-137.5 631,-137.5 631,-108.5 631,-108.5 631,-102.5 637,-96.5 643,-96.5 643,-96.5 819,-96.5 819,-96.5 825,-96.5 831,-102.5 831,-108.5 831,-108.5 831,-137.5 831,-137.5 831,-143.5 825,-149.5 819,-149.5\"/>\n<text text-anchor=\"middle\" x=\"731\" y=\"-134.3\" font-family=\"Helvetica,sans-Serif\" font-size=\"14.00\" fill=\"#000000\">samples = 10.3%</text>\n<text text-anchor=\"middle\" x=\"731\" y=\"-119.3\" font-family=\"Helvetica,sans-Serif\" font-size=\"14.00\" fill=\"#000000\">value = [0.541, 0.042, 0.416]</text>\n<text text-anchor=\"middle\" x=\"731\" y=\"-104.3\" font-family=\"Helvetica,sans-Serif\" font-size=\"14.00\" fill=\"#000000\">class = functional</text>\n</g>\n<!-- 8&#45;&gt;9 -->\n<g id=\"edge9\" class=\"edge\">\n<title>8&#45;&gt;9</title>\n<path fill=\"none\" stroke=\"#000000\" d=\"M804.9819,-192.9465C792.6325,-181.2707 778.8278,-168.219 766.5183,-156.5809\"/>\n<polygon fill=\"#000000\" stroke=\"#000000\" points=\"768.7445,-153.869 759.0734,-149.5422 763.9354,-158.9556 768.7445,-153.869\"/>\n</g>\n<!-- 10 -->\n<g id=\"node11\" class=\"node\">\n<title>10</title>\n<path fill=\"#f4cbad\" stroke=\"#000000\" d=\"M1039,-157C1039,-157 861,-157 861,-157 855,-157 849,-151 849,-145 849,-145 849,-101 849,-101 849,-95 855,-89 861,-89 861,-89 1039,-89 1039,-89 1045,-89 1051,-95 1051,-101 1051,-101 1051,-145 1051,-145 1051,-151 1045,-157 1039,-157\"/>\n<text text-anchor=\"middle\" x=\"950\" y=\"-141.8\" font-family=\"Helvetica,sans-Serif\" font-size=\"14.00\" fill=\"#000000\">extraction_type_class &lt;= 6.5</text>\n<text text-anchor=\"middle\" x=\"950\" y=\"-126.8\" font-family=\"Helvetica,sans-Serif\" font-size=\"14.00\" fill=\"#000000\">samples = 0.9%</text>\n<text text-anchor=\"middle\" x=\"950\" y=\"-111.8\" font-family=\"Helvetica,sans-Serif\" font-size=\"14.00\" fill=\"#000000\">value = [0.614, 0.043, 0.343]</text>\n<text text-anchor=\"middle\" x=\"950\" y=\"-96.8\" font-family=\"Helvetica,sans-Serif\" font-size=\"14.00\" fill=\"#000000\">class = functional</text>\n</g>\n<!-- 8&#45;&gt;10 -->\n<g id=\"edge10\" class=\"edge\">\n<title>8&#45;&gt;10</title>\n<path fill=\"none\" stroke=\"#000000\" d=\"M876.6907,-192.9465C886.2891,-183.7884 896.7747,-173.7838 906.7366,-164.2788\"/>\n<polygon fill=\"#000000\" stroke=\"#000000\" points=\"909.4102,-166.5655 914.2291,-157.13 904.5779,-161.5009 909.4102,-166.5655\"/>\n</g>\n<!-- 11 -->\n<g id=\"node12\" class=\"node\">\n<title>11</title>\n<path fill=\"#f2bf9b\" stroke=\"#000000\" d=\"M929,-53C929,-53 753,-53 753,-53 747,-53 741,-47 741,-41 741,-41 741,-12 741,-12 741,-6 747,0 753,0 753,0 929,0 929,0 935,0 941,-6 941,-12 941,-12 941,-41 941,-41 941,-47 935,-53 929,-53\"/>\n<text text-anchor=\"middle\" x=\"841\" y=\"-37.8\" font-family=\"Helvetica,sans-Serif\" font-size=\"14.00\" fill=\"#000000\">samples = 0.7%</text>\n<text text-anchor=\"middle\" x=\"841\" y=\"-22.8\" font-family=\"Helvetica,sans-Serif\" font-size=\"14.00\" fill=\"#000000\">value = [0.657, 0.037, 0.306]</text>\n<text text-anchor=\"middle\" x=\"841\" y=\"-7.8\" font-family=\"Helvetica,sans-Serif\" font-size=\"14.00\" fill=\"#000000\">class = functional</text>\n</g>\n<!-- 10&#45;&gt;11 -->\n<g id=\"edge11\" class=\"edge\">\n<title>10&#45;&gt;11</title>\n<path fill=\"none\" stroke=\"#000000\" d=\"M911.5707,-88.9777C900.9173,-79.546 889.3641,-69.3178 878.7499,-59.9208\"/>\n<polygon fill=\"#000000\" stroke=\"#000000\" points=\"881.0207,-57.2566 871.2133,-53.2485 876.3806,-62.4978 881.0207,-57.2566\"/>\n</g>\n<!-- 12 -->\n<g id=\"node13\" class=\"node\">\n<title>12</title>\n<path fill=\"#f8f3fd\" stroke=\"#000000\" d=\"M1147,-53C1147,-53 971,-53 971,-53 965,-53 959,-47 959,-41 959,-41 959,-12 959,-12 959,-6 965,0 971,0 971,0 1147,0 1147,0 1153,0 1159,-6 1159,-12 1159,-12 1159,-41 1159,-41 1159,-47 1153,-53 1147,-53\"/>\n<text text-anchor=\"middle\" x=\"1059\" y=\"-37.8\" font-family=\"Helvetica,sans-Serif\" font-size=\"14.00\" fill=\"#000000\">samples = 0.2%</text>\n<text text-anchor=\"middle\" x=\"1059\" y=\"-22.8\" font-family=\"Helvetica,sans-Serif\" font-size=\"14.00\" fill=\"#000000\">value = [0.452, 0.065, 0.484]</text>\n<text text-anchor=\"middle\" x=\"1059\" y=\"-7.8\" font-family=\"Helvetica,sans-Serif\" font-size=\"14.00\" fill=\"#000000\">class = non functional</text>\n</g>\n<!-- 10&#45;&gt;12 -->\n<g id=\"edge12\" class=\"edge\">\n<title>10&#45;&gt;12</title>\n<path fill=\"none\" stroke=\"#000000\" d=\"M988.4293,-88.9777C999.0827,-79.546 1010.6359,-69.3178 1021.2501,-59.9208\"/>\n<polygon fill=\"#000000\" stroke=\"#000000\" points=\"1023.6194,-62.4978 1028.7867,-53.2485 1018.9793,-57.2566 1023.6194,-62.4978\"/>\n</g>\n</g>\n</svg>\n"
          },
          "metadata": {
            "tags": []
          }
        }
      ]
    },
    {
      "cell_type": "markdown",
      "metadata": {
        "colab_type": "text",
        "id": "P4EJi2GvgLVa"
      },
      "source": [
        "# Understand how tree ensembles reduce overfitting compared to a single decision tree with unlimited depth"
      ]
    },
    {
      "cell_type": "markdown",
      "metadata": {
        "id": "ffpvkvQs0ogS",
        "colab_type": "text"
      },
      "source": [
        "## Overview"
      ]
    },
    {
      "cell_type": "markdown",
      "metadata": {
        "colab_type": "text",
        "id": "0nNABF3HgLVg"
      },
      "source": [
        "### What's \"random\" about random forests?\n",
        "1. Each tree trains on a random bootstrap sample of the data. (In scikit-learn, for `RandomForestRegressor` and `RandomForestClassifier`, the `bootstrap` parameter's default is `True`.) This type of ensembling is called Bagging. (Bootstrap AGGregatING.)\n",
        "2. Each split considers a random subset of the features. (In scikit-learn, when the `max_features` parameter is not `None`.) \n",
        "\n",
        "For extra randomness, you can try [\"extremely randomized trees\"](https://scikit-learn.org/stable/modules/ensemble.html#extremely-randomized-trees)!\n",
        "\n",
        ">In extremely randomized trees (see [ExtraTreesClassifier](https://scikit-learn.org/stable/modules/generated/sklearn.ensemble.ExtraTreesClassifier.html) and [ExtraTreesRegressor](https://scikit-learn.org/stable/modules/generated/sklearn.ensemble.ExtraTreesRegressor.html) classes), randomness goes one step further in the way splits are computed. As in random forests, a random subset of candidate features is used, but instead of looking for the most discriminative thresholds, thresholds are drawn at random for each candidate feature and the best of these randomly-generated thresholds is picked as the splitting rule. This usually allows to reduce the variance of the model a bit more, at the expense of a slightly greater increase in bias"
      ]
    },
    {
      "cell_type": "markdown",
      "metadata": {
        "id": "N0AQWZeO0ogS",
        "colab_type": "text"
      },
      "source": [
        "## Follow Along"
      ]
    },
    {
      "cell_type": "markdown",
      "metadata": {
        "colab_type": "text",
        "id": "pUYP619CgLVb"
      },
      "source": [
        "### Example: [predicting golf putts](https://statmodeling.stat.columbia.edu/2008/12/04/the_golf_puttin/)\n",
        "(1 feature, non-linear, regression)"
      ]
    },
    {
      "cell_type": "code",
      "metadata": {
        "colab_type": "code",
        "id": "b4640ukxgLVc",
        "colab": {}
      },
      "source": [
        "putts = pd.DataFrame(\n",
        "    columns=['distance', 'tries', 'successes'], \n",
        "    data = [[2, 1443, 1346],\n",
        "            [3, 694, 577],\n",
        "            [4, 455, 337],\n",
        "            [5, 353, 208],\n",
        "            [6, 272, 149],\n",
        "            [7, 256, 136],\n",
        "            [8, 240, 111],\n",
        "            [9, 217, 69],\n",
        "            [10, 200, 67],\n",
        "            [11, 237, 75],\n",
        "            [12, 202, 52],\n",
        "            [13, 192, 46],\n",
        "            [14, 174, 54],\n",
        "            [15, 167, 28],\n",
        "            [16, 201, 27],\n",
        "            [17, 195, 31],\n",
        "            [18, 191, 33],\n",
        "            [19, 147, 20],\n",
        "            [20, 152, 24]]\n",
        ")\n",
        "\n",
        "putts['rate of success'] = putts['successes'] / putts['tries']\n",
        "putts_X = putts[['distance']]\n",
        "putts_y = putts['rate of success']"
      ],
      "execution_count": 0,
      "outputs": []
    },
    {
      "cell_type": "code",
      "metadata": {
        "colab_type": "code",
        "id": "T0IpCcKggLVd",
        "colab": {
          "base_uri": "https://localhost:8080/",
          "height": 637,
          "referenced_widgets": [
            "b22596c114754eefbfc932589f78d528",
            "012aa1ffad004397b8bea66039ffe18b",
            "d3dba8ddf32943e4b70bab02543203aa",
            "9836e84ab14a4be1a597597a86b7b959",
            "588d445333794524947afc5f9d86faa4",
            "82829ec7a5fd4ba292650c20f94a0334",
            "70bc8362d1a64bb7ba0c7cff8661c17d",
            "075d1aa607bc40f18d8bf7065c740a7f",
            "e4d2560234ab4c868fdf7bd5e00b40d5",
            "c672004e9545494684db7fe72d79ee70"
          ]
        },
        "outputId": "c2e17398-4439-4907-d5bf-2b06078b595d"
      },
      "source": [
        "%matplotlib inline\n",
        "import matplotlib.pyplot as plt\n",
        "from ipywidgets import interact\n",
        "from sklearn.ensemble import RandomForestRegressor\n",
        "from sklearn.tree import DecisionTreeRegressor\n",
        "\n",
        "def putt_trees(max_depth=1, n_estimators=1):\n",
        "    models = [DecisionTreeRegressor(max_depth=max_depth), \n",
        "              RandomForestRegressor(max_depth=max_depth, n_estimators=n_estimators)]\n",
        "    \n",
        "    for model in models:\n",
        "        name = model.__class__.__name__\n",
        "        model.fit(putts_X, putts_y)\n",
        "        ax = putts.plot('distance', 'rate of success', kind='scatter', title=name)\n",
        "        ax.step(putts_X, model.predict(putts_X), where='mid')\n",
        "        plt.show()\n",
        "        \n",
        "interact(putt_trees, max_depth=(1,6,1), n_estimators=(10,40,10));"
      ],
      "execution_count": 37,
      "outputs": [
        {
          "output_type": "display_data",
          "data": {
            "application/vnd.jupyter.widget-view+json": {
              "model_id": "b22596c114754eefbfc932589f78d528",
              "version_minor": 0,
              "version_major": 2
            },
            "text/plain": [
              "interactive(children=(IntSlider(value=1, description='max_depth', max=6, min=1), IntSlider(value=10, descripti…"
            ]
          },
          "metadata": {
            "tags": []
          }
        }
      ]
    },
    {
      "cell_type": "markdown",
      "metadata": {
        "colab_type": "text",
        "id": "_KgZK9_9gLVh"
      },
      "source": [
        "### Bagging demo, with golf putts data\n",
        "https://pandas.pydata.org/pandas-docs/stable/reference/api/pandas.DataFrame.sample.html"
      ]
    },
    {
      "cell_type": "code",
      "metadata": {
        "colab_type": "code",
        "id": "vA9mrSTNgLVi",
        "scrolled": false,
        "colab": {
          "base_uri": "https://localhost:8080/",
          "height": 915,
          "referenced_widgets": [
            "7227ae953c2a469b9157a6983d6649d6",
            "91bb0254bbcd43679289b6b7b4acd9a5",
            "4b86dfb4a4d74738a726e3172c3ae727",
            "ff0a3118c4904a8d8418546c42117d21",
            "33224f9237fa4a58994ceac3f3e48c31",
            "084595fffd8147249ba85bed9534e127",
            "c84e39b390594f0393ecbd3a24df06c5",
            "401342bb21b14c0d8859d14d7c5b1dfb",
            "248338d01878405d8c851543d10209f6",
            "10362b04e45f472ba77ee3837b7d627c"
          ]
        },
        "outputId": "9c6f8d4b-5977-4986-c7ff-3c28bd7b4da9"
      },
      "source": [
        "# Do-it-yourself Bagging Ensemble of Decision Trees (like a Random Forest)\n",
        "def diy_bagging(max_depth=1, n_estimators=1):\n",
        "    y_preds = []\n",
        "    for i in range(n_estimators):\n",
        "        title = f'Tree {i+1}'\n",
        "        bootstrap_sample = putts.sample(n=len(putts), replace=True).sort_values(by='distance')\n",
        "        bootstrap_X = bootstrap_sample[['distance']]\n",
        "        bootstrap_y = bootstrap_sample['rate of success']\n",
        "        tree = DecisionTreeRegressor(max_depth=max_depth)\n",
        "        tree.fit(bootstrap_X, bootstrap_y)\n",
        "        y_pred = tree.predict(putts_X)\n",
        "        y_preds.append(y_pred)\n",
        "        ax = bootstrap_sample.plot('distance', 'rate of success', kind='scatter', title=title)\n",
        "        ax.step(bootstrap_X, y_pred, where='mid')\n",
        "        plt.show()\n",
        "        \n",
        "    ensembled = np.vstack(y_preds).mean(axis=0)\n",
        "    title = f'Ensemble of {n_estimators} trees, with max_depth={max_depth}'\n",
        "    ax = putts.plot('distance', 'rate of success', kind='scatter', title=title)\n",
        "    ax.step(putts_X, ensembled, where='mid')\n",
        "    plt.show()\n",
        "    \n",
        "interact(diy_bagging, max_depth=(1,6,1), n_estimators=(2,5,1));"
      ],
      "execution_count": 39,
      "outputs": [
        {
          "output_type": "display_data",
          "data": {
            "application/vnd.jupyter.widget-view+json": {
              "model_id": "7227ae953c2a469b9157a6983d6649d6",
              "version_minor": 0,
              "version_major": 2
            },
            "text/plain": [
              "interactive(children=(IntSlider(value=1, description='max_depth', max=6, min=1), IntSlider(value=2, descriptio…"
            ]
          },
          "metadata": {
            "tags": []
          }
        }
      ]
    },
    {
      "cell_type": "markdown",
      "metadata": {
        "colab_type": "text",
        "id": "rq4Z_wQ_gLVj"
      },
      "source": [
        "### Go back to Tanzania Waterpumps ..."
      ]
    },
    {
      "cell_type": "markdown",
      "metadata": {
        "colab_type": "text",
        "id": "FoSE9iT6YXQz"
      },
      "source": [
        "#### Helper function to visualize predicted probabilities\n",
        "\n"
      ]
    },
    {
      "cell_type": "code",
      "metadata": {
        "colab_type": "code",
        "id": "HzIAjGpJgLVj",
        "colab": {}
      },
      "source": [
        "import itertools\n",
        "import seaborn as sns\n",
        "\n",
        "def pred_heatmap(model, X, features, class_index=-1, title='', num=100):\n",
        "    \"\"\"\n",
        "    Visualize predicted probabilities, for classifier fit on 2 numeric features\n",
        "    \n",
        "    Parameters\n",
        "    ----------\n",
        "    model : scikit-learn classifier, already fit\n",
        "    X : pandas dataframe, which was used to fit model\n",
        "    features : list of strings, column names of the 2 numeric features\n",
        "    class_index : integer, index of class label\n",
        "    title : string, title of plot\n",
        "    num : int, number of grid points for each feature\n",
        "    \n",
        "    Returns\n",
        "    -------\n",
        "    y_pred_proba : numpy array, predicted probabilities for class_index\n",
        "    \"\"\"\n",
        "    feature1, feature2 = features\n",
        "    min1, max1 = X[feature1].min(), X[feature1].max()\n",
        "    min2, max2 = X[feature2].min(), X[feature2].max()\n",
        "    x1 = np.linspace(min1, max1, num)\n",
        "    x2 = np.linspace(max2, min2, num)\n",
        "    combos = list(itertools.product(x1, x2))\n",
        "    y_pred_proba = model.predict_proba(combos)[:, class_index]\n",
        "    pred_grid = y_pred_proba.reshape(num, num).T\n",
        "    table = pd.DataFrame(pred_grid, columns=x1, index=x2)\n",
        "    sns.heatmap(table, vmin=0, vmax=1)\n",
        "    plt.xticks([])\n",
        "    plt.yticks([])\n",
        "    plt.xlabel(feature1)\n",
        "    plt.ylabel(feature2)\n",
        "    plt.title(title)\n",
        "    plt.show()\n",
        "    return y_pred_proba\n"
      ],
      "execution_count": 0,
      "outputs": []
    },
    {
      "cell_type": "markdown",
      "metadata": {
        "colab_type": "text",
        "id": "DiRfPqHjgLVl"
      },
      "source": [
        "### Compare Decision Tree, Random Forest, Logistic Regression"
      ]
    },
    {
      "cell_type": "code",
      "metadata": {
        "colab_type": "code",
        "id": "HKkMLXhMgLVl",
        "colab": {
          "base_uri": "https://localhost:8080/",
          "height": 864,
          "referenced_widgets": [
            "8272abc82a434f51b7563d083d7128fc",
            "bd153e9a77084419828e07cd39f65dd1",
            "740fbbb7d95947b1a69e1571337507ff",
            "543743404a7648f59cd48c12f856a446",
            "a06a03760b6549a4a8426da658c344b6",
            "4ca6b8bf11b545ae9fc3bfb0f3707b5a",
            "94ae73c7eebc41e9ac376f283eb586f1",
            "571db2e363434bea96c539b68cec1e7e",
            "196a725bc8af494bb3e5d5c68816e24f",
            "f8eb0ea7951d480cbf297778cec4b040"
          ]
        },
        "outputId": "49dc09f9-dc49-4131-c49f-75962f0e9c53"
      },
      "source": [
        "# Instructions\n",
        "# 1. Choose two features\n",
        "# 2. Run this code cell\n",
        "# 3. Interact with the widget sliders\n",
        "feature1 = 'longitude'\n",
        "feature2 = 'quantity'\n",
        "\n",
        "from sklearn.linear_model import LogisticRegression\n",
        "from sklearn.tree import DecisionTreeClassifier\n",
        "\n",
        "def get_X_y(df, feature1, feature2, target):\n",
        "    features = [feature1, feature2]\n",
        "    X = df[features]\n",
        "    y = df[target]\n",
        "    X = X.fillna(X.median())\n",
        "    X = ce.OrdinalEncoder().fit_transform(X)\n",
        "    return X, y\n",
        "\n",
        "def compare_models(max_depth=1, n_estimators=1):\n",
        "    models = [DecisionTreeClassifier(max_depth=max_depth), \n",
        "              RandomForestClassifier(max_depth=max_depth, n_estimators=n_estimators), \n",
        "              LogisticRegression(solver='lbfgs', multi_class='auto')]\n",
        "    \n",
        "    for model in models:\n",
        "        name = model.__class__.__name__\n",
        "        model.fit(X, y)\n",
        "        pred_heatmap(model, X, [feature1, feature2], class_index=0, title=name)\n",
        "\n",
        "X, y = get_X_y(train, feature1, feature2, target='status_group')\n",
        "interact(compare_models, max_depth=(1,6,1), n_estimators=(10,40,10));"
      ],
      "execution_count": 41,
      "outputs": [
        {
          "output_type": "display_data",
          "data": {
            "application/vnd.jupyter.widget-view+json": {
              "model_id": "8272abc82a434f51b7563d083d7128fc",
              "version_minor": 0,
              "version_major": 2
            },
            "text/plain": [
              "interactive(children=(IntSlider(value=1, description='max_depth', max=6, min=1), IntSlider(value=10, descripti…"
            ]
          },
          "metadata": {
            "tags": []
          }
        }
      ]
    },
    {
      "cell_type": "markdown",
      "metadata": {
        "colab_type": "text",
        "id": "hOQqjLEDgLVn"
      },
      "source": [
        "### Bagging"
      ]
    },
    {
      "cell_type": "code",
      "metadata": {
        "colab_type": "code",
        "id": "Hm4aPgs2gLVn",
        "colab": {
          "base_uri": "https://localhost:8080/",
          "height": 864,
          "referenced_widgets": [
            "d53ec7792da44237a04fad35dcc9e29c",
            "5e59fa1a72c649bf913243e347959323",
            "eeaeda43a33f49d7a38c1e61e99714c8",
            "02da3dcf22e04163a852943c6566d9ca",
            "a35388af0e8349ce800731461366422d",
            "2033ed09658a486988a2c6e343b9d2bb",
            "be32d05739f24d97820205c88b2b5760",
            "de3997a954eb4557a1282ea419141e2f",
            "26dd8ded86f741ef9b0a9ccc1f01264e",
            "713a4d5101c241f1821e0083ae5100e7"
          ]
        },
        "outputId": "4d6cf0c7-3c5a-4d17-a506-71a3e2257a9f"
      },
      "source": [
        "# Do-it-yourself Bagging Ensemble of Decision Trees (like a Random Forest)\n",
        "\n",
        "# Instructions\n",
        "# 1. Choose two features\n",
        "# 2. Run this code cell\n",
        "# 3. Interact with the widget sliders\n",
        "\n",
        "feature1 = 'longitude'\n",
        "feature2 = 'latitude'\n",
        "\n",
        "def waterpumps_bagging(max_depth=1, n_estimators=1):\n",
        "    predicteds = []\n",
        "    for i in range(n_estimators):\n",
        "        title = f'Tree {i+1}'\n",
        "        bootstrap_sample = train.sample(n=len(train), replace=True)\n",
        "        X, y = get_X_y(bootstrap_sample, feature1, feature2, target='status_group')\n",
        "        tree = DecisionTreeClassifier(max_depth=max_depth)\n",
        "        tree.fit(X, y)\n",
        "        predicted = pred_heatmap(tree, X, [feature1, feature2], class_index=0, title=title)\n",
        "        predicteds.append(predicted)\n",
        "    \n",
        "    ensembled = np.vstack(predicteds).mean(axis=0)\n",
        "    title = f'Ensemble of {n_estimators} trees, with max_depth={max_depth}'\n",
        "    sns.heatmap(ensembled.reshape(100, 100).T, vmin=0, vmax=1)\n",
        "    plt.title(title)\n",
        "    plt.xlabel(feature1)\n",
        "    plt.ylabel(feature2)\n",
        "    plt.xticks([])\n",
        "    plt.yticks([])\n",
        "    plt.show()\n",
        "        \n",
        "interact(waterpumps_bagging, max_depth=(1,6,1), n_estimators=(2,5,1));"
      ],
      "execution_count": 42,
      "outputs": [
        {
          "output_type": "display_data",
          "data": {
            "application/vnd.jupyter.widget-view+json": {
              "model_id": "d53ec7792da44237a04fad35dcc9e29c",
              "version_minor": 0,
              "version_major": 2
            },
            "text/plain": [
              "interactive(children=(IntSlider(value=1, description='max_depth', max=6, min=1), IntSlider(value=2, descriptio…"
            ]
          },
          "metadata": {
            "tags": []
          }
        }
      ]
    },
    {
      "cell_type": "markdown",
      "metadata": {
        "colab_type": "text",
        "id": "wYoSBi15akWP"
      },
      "source": [
        "# Review\n",
        "\n",
        "#### Try Tree Ensembles when you do machine learning with labeled, tabular data\n",
        "- \"Tree Ensembles\" means Random Forest or Gradient Boosting models. \n",
        "- [Tree Ensembles often have the best predictive accuracy](https://arxiv.org/abs/1708.05070) with labeled, tabular data.\n",
        "- Why? Because trees can fit non-linear, non-[monotonic](https://en.wikipedia.org/wiki/Monotonic_function) relationships, and [interactions](https://christophm.github.io/interpretable-ml-book/interaction.html) between features.\n",
        "- A single decision tree, grown to unlimited depth, will [overfit](http://www.r2d3.us/visual-intro-to-machine-learning-part-1/). We solve this problem by ensembling trees, with bagging (Random Forest) or boosting (Gradient Boosting).\n",
        "- Random Forest's advantage: may be less sensitive to hyperparameters. Gradient Boosting's advantage: may get better predictive accuracy.\n",
        "\n",
        "#### One-hot encoding isn’t the only way, and may not be the best way, of categorical encoding for tree ensembles.\n",
        "- For example, tree ensembles can work with arbitrary \"ordinal\" encoding! (Randomly assigning an integer to each category.) Compared to one-hot encoding, the dimensionality will be lower, and the predictive accuracy may be just as good or even better.\n"
      ]
    }
  ]
}